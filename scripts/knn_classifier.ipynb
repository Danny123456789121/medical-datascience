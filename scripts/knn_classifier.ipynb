{
 "cells": [
  {
   "cell_type": "markdown",
   "source": [
    "# K-Nearest Neighbors Classifier"
   ],
   "metadata": {
    "collapsed": false
   },
   "id": "b8363931c50d8d74"
  },
  {
   "cell_type": "code",
   "outputs": [],
   "source": [
    "import pickle\n",
    "\n",
    "data = pickle.load( open( \"../data/data_encodings_neu.p\", \"rb\" ) )"
   ],
   "metadata": {
    "collapsed": false,
    "ExecuteTime": {
     "end_time": "2024-05-01T14:09:23.117673Z",
     "start_time": "2024-05-01T14:09:23.070495Z"
    }
   },
   "id": "286c1864cb35f43c",
   "execution_count": 9
  },
  {
   "cell_type": "markdown",
   "source": [
    "Train test split"
   ],
   "metadata": {
    "collapsed": false
   },
   "id": "d81b14dcafa5adcc"
  },
  {
   "cell_type": "code",
   "outputs": [],
   "source": [
    "from sklearn.model_selection import train_test_split\n",
    "\n",
    "features = data.columns[data.columns != \"readmitted\"].tolist()\n",
    "target_value = [\"readmitted\"]\n",
    "\n",
    "X = data[features]\n",
    "y = data[target_value]\n",
    "\n",
    "X_train, X_test, y_train, y_test = train_test_split(X, y, test_size=0.2)"
   ],
   "metadata": {
    "collapsed": false,
    "ExecuteTime": {
     "end_time": "2024-05-01T14:09:23.210543Z",
     "start_time": "2024-05-01T14:09:23.118717Z"
    }
   },
   "id": "72414a3b27bc19d8",
   "execution_count": 10
  },
  {
   "cell_type": "markdown",
   "source": [
    "Imbalance of the readmission variable"
   ],
   "metadata": {
    "collapsed": false
   },
   "id": "7adc5a76cbb9ba41"
  },
  {
   "cell_type": "code",
   "outputs": [
    {
     "data": {
      "text/plain": "<Figure size 1000x600 with 1 Axes>",
      "image/png": "[encoded data removed]"
     },
     "metadata": {},
     "output_type": "display_data"
    }
   ],
   "source": [
    "from matplotlib import pyplot as plt\n",
    "import seaborn as sns\n",
    "\n",
    "plt.figure(figsize=(10,6))\n",
    "sns.countplot(x='readmitted', data=data)\n",
    "plt.title('Imbalance of the readmission variable')\n",
    "plt.show()"
   ],
   "metadata": {
    "collapsed": false,
    "ExecuteTime": {
     "end_time": "2024-05-01T14:09:23.381372Z",
     "start_time": "2024-05-01T14:09:23.211522Z"
    }
   },
   "id": "af3d53c9a2afc845",
   "execution_count": 11
  },
  {
   "cell_type": "markdown",
   "source": [
    "## Normal KNN"
   ],
   "metadata": {
    "collapsed": false
   },
   "id": "a333203c9c68ec88"
  },
  {
   "cell_type": "code",
   "outputs": [
    {
     "name": "stdout",
     "output_type": "stream",
     "text": [
      "Confusion Matrix:\n",
      "[[17199   868]\n",
      " [ 2027   260]]\n",
      "Classification Report:\n",
      "              precision    recall  f1-score   support\n",
      "\n",
      "           0       0.89      0.95      0.92     18067\n",
      "           1       0.23      0.11      0.15      2287\n",
      "\n",
      "    accuracy                           0.86     20354\n",
      "   macro avg       0.56      0.53      0.54     20354\n",
      "weighted avg       0.82      0.86      0.84     20354\n"
     ]
    }
   ],
   "source": [
    "from sklearn.neighbors import KNeighborsClassifier\n",
    "from sklearn.metrics import classification_report, confusion_matrix\n",
    "\n",
    "knn = KNeighborsClassifier(n_neighbors=3)\n",
    "\n",
    "knn.fit(X_train, y_train.values.ravel())\n",
    "y_pred = knn.predict(X_test)\n",
    "\n",
    "print(\"Confusion Matrix:\")\n",
    "print(confusion_matrix(y_test, y_pred))\n",
    "print(\"Classification Report:\")\n",
    "print(classification_report(y_test, y_pred))"
   ],
   "metadata": {
    "collapsed": false,
    "ExecuteTime": {
     "end_time": "2024-05-01T14:10:02.759370Z",
     "start_time": "2024-05-01T14:09:23.382605Z"
    }
   },
   "id": "16a9722cc6879b14",
   "execution_count": 12
  },
  {
   "cell_type": "markdown",
   "source": [
    "## Oversampling with SMOTE"
   ],
   "metadata": {
    "collapsed": false
   },
   "id": "5c32eae8f1d690a1"
  },
  {
   "cell_type": "code",
   "outputs": [
    {
     "name": "stdout",
     "output_type": "stream",
     "text": [
      "Before SMOTE:\n",
      "readmitted\n",
      "0    72342\n",
      "1     9070\n",
      "Name: count, dtype: int64\n",
      "\n",
      "After SMOTE:\n",
      "readmitted\n",
      "0    72342\n",
      "1    72342\n",
      "Name: count, dtype: int64\n"
     ]
    }
   ],
   "source": [
    "from imblearn.over_sampling import SMOTE\n",
    "\n",
    "smote = SMOTE()\n",
    "X_train_oversampled, y_train_oversampled = smote.fit_resample(X_train, y_train)\n",
    "\n",
    "print(\"Before SMOTE:\")\n",
    "print(y_train['readmitted'].value_counts())\n",
    "print(\"\\nAfter SMOTE:\")\n",
    "print(y_train_oversampled['readmitted'].value_counts())"
   ],
   "metadata": {
    "collapsed": false,
    "ExecuteTime": {
     "end_time": "2024-05-01T14:10:04.323944Z",
     "start_time": "2024-05-01T14:10:02.760847Z"
    }
   },
   "id": "6511cfc13b031c9e",
   "execution_count": 13
  },
  {
   "cell_type": "markdown",
   "source": [
    "### k-NN with oversampling"
   ],
   "metadata": {
    "collapsed": false
   },
   "id": "7d61dea505bc3c7d"
  },
  {
   "cell_type": "code",
   "outputs": [
    {
     "name": "stdout",
     "output_type": "stream",
     "text": [
      "Confusion Matrix:\n",
      "[[12315  5752]\n",
      " [ 1538   749]]\n",
      "Classification Report:\n",
      "              precision    recall  f1-score   support\n",
      "\n",
      "           0       0.89      0.68      0.77     18067\n",
      "           1       0.12      0.33      0.17      2287\n",
      "\n",
      "    accuracy                           0.64     20354\n",
      "   macro avg       0.50      0.50      0.47     20354\n",
      "weighted avg       0.80      0.64      0.70     20354\n"
     ]
    }
   ],
   "source": [
    "knn = KNeighborsClassifier(n_neighbors=3)\n",
    "\n",
    "knn.fit(X_train_oversampled, y_train_oversampled.values.ravel())\n",
    "y_pred = knn.predict(X_test)\n",
    "\n",
    "print(\"Confusion Matrix:\")\n",
    "print(confusion_matrix(y_test, y_pred))\n",
    "print(\"Classification Report:\")\n",
    "print(classification_report(y_test, y_pred))"
   ],
   "metadata": {
    "collapsed": false,
    "ExecuteTime": {
     "end_time": "2024-05-01T14:11:13.677884Z",
     "start_time": "2024-05-01T14:10:04.324847Z"
    }
   },
   "id": "92bfeb67cb45e871",
   "execution_count": 14
  },
  {
   "cell_type": "markdown",
   "source": [
    "## Undersampling with RandomUnderSampler"
   ],
   "metadata": {
    "collapsed": false
   },
   "id": "1f344ef56fbabed0"
  },
  {
   "cell_type": "code",
   "outputs": [
    {
     "name": "stdout",
     "output_type": "stream",
     "text": [
      "Before undersampling:\n",
      "readmitted\n",
      "0    72342\n",
      "1     9070\n",
      "Name: count, dtype: int64\n",
      "\n",
      "After undersampling:\n",
      "readmitted\n",
      "0    9070\n",
      "1    9070\n",
      "Name: count, dtype: int64\n"
     ]
    }
   ],
   "source": [
    "from imblearn.under_sampling import RandomUnderSampler\n",
    "\n",
    "rus = RandomUnderSampler()\n",
    "\n",
    "X_train_undersampled, y_train_undersampled = rus.fit_resample(X_train, y_train)\n",
    "\n",
    "print(\"Before undersampling:\")\n",
    "print(y_train['readmitted'].value_counts())\n",
    "print(\"\\nAfter undersampling:\")\n",
    "print(y_train_undersampled['readmitted'].value_counts())"
   ],
   "metadata": {
    "collapsed": false,
    "ExecuteTime": {
     "end_time": "2024-05-01T14:11:13.719967Z",
     "start_time": "2024-05-01T14:11:13.679574Z"
    }
   },
   "id": "39ea8b6cfbcabd39",
   "execution_count": 15
  },
  {
   "cell_type": "markdown",
   "source": [
    "### k-NN with undersampling"
   ],
   "metadata": {
    "collapsed": false
   },
   "id": "3fa9a5237d419bf3"
  },
  {
   "cell_type": "code",
   "outputs": [
    {
     "name": "stdout",
     "output_type": "stream",
     "text": [
      "Confusion Matrix:\n",
      "[[9373 8694]\n",
      " [1020 1267]]\n",
      "Classification Report:\n",
      "              precision    recall  f1-score   support\n",
      "\n",
      "           0       0.90      0.52      0.66     18067\n",
      "           1       0.13      0.55      0.21      2287\n",
      "\n",
      "    accuracy                           0.52     20354\n",
      "   macro avg       0.51      0.54      0.43     20354\n",
      "weighted avg       0.81      0.52      0.61     20354\n"
     ]
    }
   ],
   "source": [
    "knn = KNeighborsClassifier(n_neighbors=3)\n",
    "\n",
    "# Fit the model using the undersampled training data\n",
    "knn.fit(X_train_undersampled, y_train_undersampled.values.ravel())\n",
    "\n",
    "# Predict the labels of the test set\n",
    "y_pred = knn.predict(X_test)\n",
    "\n",
    "# Print the confusion matrix\n",
    "print(\"Confusion Matrix:\")\n",
    "print(confusion_matrix(y_test, y_pred))\n",
    "\n",
    "# Print the classification report\n",
    "print(\"Classification Report:\")\n",
    "print(classification_report(y_test, y_pred))"
   ],
   "metadata": {
    "collapsed": false,
    "ExecuteTime": {
     "end_time": "2024-05-01T14:11:23.013569Z",
     "start_time": "2024-05-01T14:11:13.720766Z"
    }
   },
   "id": "be93d8096af0dcd4",
   "execution_count": 16
  }
 ],
 "metadata": {
  "kernelspec": {
   "display_name": "Python 3",
   "language": "python",
   "name": "python3"
  },
  "language_info": {
   "codemirror_mode": {
    "name": "ipython",
    "version": 2
   },
   "file_extension": ".py",
   "mimetype": "text/x-python",
   "name": "python",
   "nbconvert_exporter": "python",
   "pygments_lexer": "ipython2",
   "version": "2.7.6"
  }
 },
 "nbformat": 4,
 "nbformat_minor": 5
}
