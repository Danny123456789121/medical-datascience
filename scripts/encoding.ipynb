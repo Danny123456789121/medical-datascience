{
 "cells": [
  {
   "cell_type": "code",
   "execution_count": 35,
   "metadata": {
    "colab": {
     "base_uri": "https://localhost:8080/"
    },
    "id": "VPHCkDFKqqW-",
    "outputId": "0c589f7a-752b-4299-b79a-f735bb4539c6",
    "ExecuteTime": {
     "end_time": "2024-05-02T12:41:30.446626800Z",
     "start_time": "2024-05-02T12:41:25.041484Z"
    }
   },
   "outputs": [
    {
     "name": "stdout",
     "output_type": "stream",
     "text": [
      "Requirement already satisfied: ucimlrepo in c:\\users\\nikla\\anaconda3\\lib\\site-packages (0.0.6)\n"
     ]
    }
   ],
   "source": [
    "!pip install ucimlrepo"
   ]
  },
  {
   "cell_type": "code",
   "execution_count": 66,
   "metadata": {
    "id": "i-XbyWI4rFNO",
    "ExecuteTime": {
     "end_time": "2024-05-02T12:43:15.012415300Z",
     "start_time": "2024-05-02T12:43:14.996327200Z"
    }
   },
   "outputs": [],
   "source": [
    "from ucimlrepo import fetch_ucirepo\n",
    "import pandas as pd\n",
    "from sklearn.preprocessing import LabelEncoder\n",
    "import matplotlib.pyplot as plt\n",
    "import numpy as np\n",
    "from scipy import stats\n",
    "from sklearn.preprocessing import MinMaxScaler\n",
    "from sklearn.impute import KNNImputer, SimpleImputer\n",
    "import pickle"
   ]
  },
  {
   "cell_type": "markdown",
   "metadata": {
    "id": "b7V8i9bKsmQ7"
   },
   "source": [
    "# Fetching data\n",
    "Dataset can be fetched directly from UC Irvine. Documentation found here: https://github.com/uci-ml-repo/ucimlrepo"
   ]
  },
  {
   "cell_type": "code",
   "execution_count": 37,
   "metadata": {
    "colab": {
     "base_uri": "https://localhost:8080/"
    },
    "id": "G9P2lea6qd9I",
    "outputId": "f13a8e03-e350-4c13-c797-44af1d8cb6eb",
    "ExecuteTime": {
     "end_time": "2024-05-02T12:41:44.412054800Z",
     "start_time": "2024-05-02T12:41:30.453976200Z"
    }
   },
   "outputs": [
    {
     "name": "stderr",
     "output_type": "stream",
     "text": [
      "C:\\Users\\nikla\\anaconda3\\Lib\\site-packages\\ucimlrepo\\fetch.py:97: DtypeWarning: Columns (10) have mixed types. Specify dtype option on import or set low_memory=False.\n",
      "  df = pd.read_csv(data_url)\n"
     ]
    }
   ],
   "source": [
    "# fetch dataset\n",
    "diabetes_130_us_hospitals_for_years_1999_2008 = fetch_ucirepo(id=296)\n",
    "\n",
    "# data (as pandas dataframes)\n",
    "data = diabetes_130_us_hospitals_for_years_1999_2008.data.original"
   ]
  },
  {
   "cell_type": "code",
   "execution_count": 38,
   "metadata": {
    "colab": {
     "base_uri": "https://localhost:8080/"
    },
    "id": "FpQqXBc9yHxw",
    "outputId": "50c26917-95bb-42ed-fcd7-9f7fd3e5ada5",
    "ExecuteTime": {
     "end_time": "2024-05-02T12:41:44.424015900Z",
     "start_time": "2024-05-02T12:41:44.413175100Z"
    }
   },
   "outputs": [
    {
     "data": {
      "text/plain": "{'uci_id': 296,\n 'name': 'Diabetes 130-US Hospitals for Years 1999-2008',\n 'repository_url': 'https://archive.ics.uci.edu/dataset/296/diabetes+130-us+hospitals+for+years+1999-2008',\n 'data_url': 'https://archive.ics.uci.edu/static/public/296/data.csv',\n 'abstract': 'The dataset represents ten years (1999-2008) of clinical care at 130 US hospitals and integrated delivery networks. Each row concerns hospital records of patients diagnosed with diabetes, who underwent laboratory, medications, and stayed up to 14 days. The goal is to determine the early readmission of the patient within 30 days of discharge.\\nThe problem is important for the following reasons. Despite high-quality evidence showing improved clinical outcomes for diabetic patients who receive various preventive and therapeutic interventions, many patients do not receive them. This can be partially attributed to arbitrary diabetes management in hospital environments, which fail to attend to glycemic control. Failure to provide proper diabetes care not only increases the managing costs for the hospitals (as the patients are readmitted) but also impacts the morbidity and mortality of the patients, who may face complications associated with diabetes.\\n',\n 'area': 'Health and Medicine',\n 'tasks': ['Classification', 'Clustering'],\n 'characteristics': ['Multivariate'],\n 'num_instances': 101766,\n 'num_features': 47,\n 'feature_types': ['Categorical', 'Integer'],\n 'demographics': ['Race', 'Gender', 'Age'],\n 'target_col': ['readmitted'],\n 'index_col': ['encounter_id', 'patient_nbr'],\n 'has_missing_values': 'yes',\n 'missing_values_symbol': 'NaN',\n 'year_of_dataset_creation': 2014,\n 'last_updated': 'Mon Feb 26 2024',\n 'dataset_doi': '10.24432/C5230J',\n 'creators': ['John Clore', 'Krzysztof Cios', 'Jon DeShazo', 'Beata Strack'],\n 'intro_paper': {'title': 'Impact of HbA1c Measurement on Hospital Readmission Rates: Analysis of 70,000 Clinical Database Patient Record',\n  'authors': 'Beata Strack, Jonathan DeShazo, Chris Gennings, Juan Olmo, Sebastian Ventura, Krzysztof Cios, John Clore',\n  'published_in': 'BioMed Research International, vol. 2014',\n  'year': 2014,\n  'url': 'https://www.hindawi.com/journals/bmri/2014/781670/',\n  'doi': None},\n 'additional_info': {'summary': 'The dataset represents ten years (1999-2008) of clinical care at 130 US hospitals and integrated delivery networks. It includes over 50 features representing patient and hospital outcomes. Information was extracted from the database for encounters that satisfied the following criteria.\\n(1)\\tIt is an inpatient encounter (a hospital admission).\\n(2)\\tIt is a diabetic encounter, that is, one during which any kind of diabetes was entered into the system as a diagnosis.\\n(3)\\tThe length of stay was at least 1 day and at most 14 days.\\n(4)\\tLaboratory tests were performed during the encounter.\\n(5)\\tMedications were administered during the encounter.\\n\\nThe data contains such attributes as patient number, race, gender, age, admission type, time in hospital, medical specialty of admitting physician, number of lab tests performed, HbA1c test result, diagnosis, number of medications, diabetic medications, number of outpatient, inpatient, and emergency visits in the year before the hospitalization, etc.',\n  'purpose': None,\n  'funded_by': None,\n  'instances_represent': 'The instances represent hospitalized patient records diagnosed with diabetes.',\n  'recommended_data_splits': 'No recommendation. The standard train-test split could be used. Can use three-way holdout split (i.e., train-validation-test) when doing model selection.',\n  'sensitive_data': 'Yes. The dataset contains information about the age, gender, and race of the patients.',\n  'preprocessing_description': None,\n  'variable_info': 'Detailed description of all the atrributes is provided in Table 1 Beata Strack, Jonathan P. DeShazo, Chris Gennings,  Juan L. Olmo, Sebastian Ventura,  Krzysztof J. Cios, and John N. Clore, “Impact of HbA1c Measurement on Hospital Readmission Rates: Analysis of 70,000 Clinical Database Patient Records,” BioMed Research International, vol. 2014, Article ID 781670, 11 pages, 2014.\\n\\nhttp://www.hindawi.com/journals/bmri/2014/781670/',\n  'citation': 'Please cite:\\nBeata Strack, Jonathan P. DeShazo, Chris Gennings, Juan L. Olmo, Sebastian Ventura, Krzysztof J. Cios, and John N. Clore, “Impact of HbA1c Measurement on Hospital Readmission Rates: Analysis of 70,000 Clinical Database Patient Records,” BioMed Research International, vol. 2014, Article ID 781670, 11 pages, 2014.'}}"
     },
     "execution_count": 38,
     "metadata": {},
     "output_type": "execute_result"
    }
   ],
   "source": [
    "# metadata\n",
    "diabetes_130_us_hospitals_for_years_1999_2008.metadata"
   ]
  },
  {
   "cell_type": "code",
   "execution_count": 39,
   "metadata": {
    "colab": {
     "base_uri": "https://localhost:8080/",
     "height": 424
    },
    "id": "YUga-quHyZQX",
    "outputId": "fb5c55cc-ac6e-41cd-e67f-6e59c343d0fe",
    "ExecuteTime": {
     "end_time": "2024-05-02T12:41:45.022061800Z",
     "start_time": "2024-05-02T12:41:44.420744100Z"
    }
   },
   "outputs": [
    {
     "data": {
      "text/plain": "                        name     role         type demographic  \\\n0               encounter_id       ID                     None   \n1                patient_nbr       ID                     None   \n2                       race  Feature  Categorical        Race   \n3                     gender  Feature  Categorical      Gender   \n4                        age  Feature  Categorical         Age   \n5                     weight  Feature  Categorical        None   \n6          admission_type_id  Feature  Categorical        None   \n7   discharge_disposition_id  Feature  Categorical        None   \n8        admission_source_id  Feature  Categorical        None   \n9           time_in_hospital  Feature      Integer        None   \n10                payer_code  Feature  Categorical        None   \n11         medical_specialty  Feature  Categorical        None   \n12        num_lab_procedures  Feature      Integer        None   \n13            num_procedures  Feature      Integer        None   \n14           num_medications  Feature      Integer        None   \n15         number_outpatient  Feature      Integer        None   \n16          number_emergency  Feature      Integer        None   \n17          number_inpatient  Feature      Integer        None   \n18                    diag_1  Feature  Categorical        None   \n19                    diag_2  Feature  Categorical        None   \n20                    diag_3  Feature  Categorical        None   \n21          number_diagnoses  Feature      Integer        None   \n22             max_glu_serum  Feature  Categorical        None   \n23                 A1Cresult  Feature  Categorical        None   \n24                 metformin  Feature  Categorical        None   \n25               repaglinide  Feature  Categorical        None   \n26               nateglinide  Feature  Categorical        None   \n27            chlorpropamide  Feature  Categorical        None   \n28               glimepiride  Feature  Categorical        None   \n29             acetohexamide  Feature  Categorical        None   \n30                 glipizide  Feature  Categorical        None   \n31                 glyburide  Feature  Categorical        None   \n32               tolbutamide  Feature  Categorical        None   \n33              pioglitazone  Feature  Categorical        None   \n34             rosiglitazone  Feature  Categorical        None   \n35                  acarbose  Feature  Categorical        None   \n36                  miglitol  Feature  Categorical        None   \n37              troglitazone  Feature  Categorical        None   \n38                tolazamide  Feature  Categorical        None   \n39                   examide  Feature  Categorical        None   \n40               citoglipton  Feature  Categorical        None   \n41                   insulin  Feature  Categorical        None   \n42       glyburide-metformin  Feature  Categorical        None   \n43       glipizide-metformin  Feature  Categorical        None   \n44  glimepiride-pioglitazone  Feature  Categorical        None   \n45   metformin-rosiglitazone  Feature  Categorical        None   \n46    metformin-pioglitazone  Feature  Categorical        None   \n47                    change  Feature  Categorical        None   \n48               diabetesMed  Feature  Categorical        None   \n49                readmitted   Target  Categorical        None   \n\n                                          description units missing_values  \n0                   Unique identifier of an encounter  None             no  \n1                      Unique identifier of a patient  None             no  \n2   Values: Caucasian, Asian, African American, Hi...  None            yes  \n3           Values: male, female, and unknown/invalid  None             no  \n4   Grouped in 10-year intervals: [0, 10), [10, 20...  None             no  \n5                                   Weight in pounds.  None            yes  \n6   Integer identifier corresponding to 9 distinct...  None             no  \n7   Integer identifier corresponding to 29 distinc...  None             no  \n8   Integer identifier corresponding to 21 distinc...  None             no  \n9   Integer number of days between admission and d...  None             no  \n10  Integer identifier corresponding to 23 distinc...  None            yes  \n11  Integer identifier of a specialty of the admit...  None            yes  \n12  Number of lab tests performed during the encou...  None             no  \n13  Number of procedures (other than lab tests) pe...  None             no  \n14  Number of distinct generic names administered ...  None             no  \n15  Number of outpatient visits of the patient in ...  None             no  \n16  Number of emergency visits of the patient in t...  None             no  \n17  Number of inpatient visits of the patient in t...  None             no  \n18  The primary diagnosis (coded as first three di...  None            yes  \n19  Secondary diagnosis (coded as first three digi...  None            yes  \n20  Additional secondary diagnosis (coded as first...  None            yes  \n21          Number of diagnoses entered to the system  None             no  \n22  Indicates the range of the result or if the te...  None             no  \n23  Indicates the range of the result or if the te...  None             no  \n24  The feature indicates whether the drug was pre...  None             no  \n25  The feature indicates whether the drug was pre...  None             no  \n26  The feature indicates whether the drug was pre...  None             no  \n27  The feature indicates whether the drug was pre...  None             no  \n28  The feature indicates whether the drug was pre...  None             no  \n29  The feature indicates whether the drug was pre...  None             no  \n30  The feature indicates whether the drug was pre...  None             no  \n31  The feature indicates whether the drug was pre...  None             no  \n32  The feature indicates whether the drug was pre...  None             no  \n33  The feature indicates whether the drug was pre...  None             no  \n34  The feature indicates whether the drug was pre...  None             no  \n35  The feature indicates whether the drug was pre...  None             no  \n36  The feature indicates whether the drug was pre...  None             no  \n37  The feature indicates whether the drug was pre...  None             no  \n38  The feature indicates whether the drug was pre...  None             no  \n39  The feature indicates whether the drug was pre...  None             no  \n40  The feature indicates whether the drug was pre...  None             no  \n41  The feature indicates whether the drug was pre...  None             no  \n42  The feature indicates whether the drug was pre...  None             no  \n43  The feature indicates whether the drug was pre...  None             no  \n44  The feature indicates whether the drug was pre...  None             no  \n45  The feature indicates whether the drug was pre...  None             no  \n46  The feature indicates whether the drug was pre...  None             no  \n47  Indicates if there was a change in diabetic me...  None             no  \n48  Indicates if there was any diabetic medication...  None             no  \n49  Days to inpatient readmission. Values: <30 if ...  None             no  ",
      "text/html": "<div>\n<style scoped>\n    .dataframe tbody tr th:only-of-type {\n        vertical-align: middle;\n    }\n\n    .dataframe tbody tr th {\n        vertical-align: top;\n    }\n\n    .dataframe thead th {\n        text-align: right;\n    }\n</style>\n<table border=\"1\" class=\"dataframe\">\n  <thead>\n    <tr style=\"text-align: right;\">\n      <th></th>\n      <th>name</th>\n      <th>role</th>\n      <th>type</th>\n      <th>demographic</th>\n      <th>description</th>\n      <th>units</th>\n      <th>missing_values</th>\n    </tr>\n  </thead>\n  <tbody>\n    <tr>\n      <th>0</th>\n      <td>encounter_id</td>\n      <td>ID</td>\n      <td></td>\n      <td>None</td>\n      <td>Unique identifier of an encounter</td>\n      <td>None</td>\n      <td>no</td>\n    </tr>\n    <tr>\n      <th>1</th>\n      <td>patient_nbr</td>\n      <td>ID</td>\n      <td></td>\n      <td>None</td>\n      <td>Unique identifier of a patient</td>\n      <td>None</td>\n      <td>no</td>\n    </tr>\n    <tr>\n      <th>2</th>\n      <td>race</td>\n      <td>Feature</td>\n      <td>Categorical</td>\n      <td>Race</td>\n      <td>Values: Caucasian, Asian, African American, Hi...</td>\n      <td>None</td>\n      <td>yes</td>\n    </tr>\n    <tr>\n      <th>3</th>\n      <td>gender</td>\n      <td>Feature</td>\n      <td>Categorical</td>\n      <td>Gender</td>\n      <td>Values: male, female, and unknown/invalid</td>\n      <td>None</td>\n      <td>no</td>\n    </tr>\n    <tr>\n      <th>4</th>\n      <td>age</td>\n      <td>Feature</td>\n      <td>Categorical</td>\n      <td>Age</td>\n      <td>Grouped in 10-year intervals: [0, 10), [10, 20...</td>\n      <td>None</td>\n      <td>no</td>\n    </tr>\n    <tr>\n      <th>5</th>\n      <td>weight</td>\n      <td>Feature</td>\n      <td>Categorical</td>\n      <td>None</td>\n      <td>Weight in pounds.</td>\n      <td>None</td>\n      <td>yes</td>\n    </tr>\n    <tr>\n      <th>6</th>\n      <td>admission_type_id</td>\n      <td>Feature</td>\n      <td>Categorical</td>\n      <td>None</td>\n      <td>Integer identifier corresponding to 9 distinct...</td>\n      <td>None</td>\n      <td>no</td>\n    </tr>\n    <tr>\n      <th>7</th>\n      <td>discharge_disposition_id</td>\n      <td>Feature</td>\n      <td>Categorical</td>\n      <td>None</td>\n      <td>Integer identifier corresponding to 29 distinc...</td>\n      <td>None</td>\n      <td>no</td>\n    </tr>\n    <tr>\n      <th>8</th>\n      <td>admission_source_id</td>\n      <td>Feature</td>\n      <td>Categorical</td>\n      <td>None</td>\n      <td>Integer identifier corresponding to 21 distinc...</td>\n      <td>None</td>\n      <td>no</td>\n    </tr>\n    <tr>\n      <th>9</th>\n      <td>time_in_hospital</td>\n      <td>Feature</td>\n      <td>Integer</td>\n      <td>None</td>\n      <td>Integer number of days between admission and d...</td>\n      <td>None</td>\n      <td>no</td>\n    </tr>\n    <tr>\n      <th>10</th>\n      <td>payer_code</td>\n      <td>Feature</td>\n      <td>Categorical</td>\n      <td>None</td>\n      <td>Integer identifier corresponding to 23 distinc...</td>\n      <td>None</td>\n      <td>yes</td>\n    </tr>\n    <tr>\n      <th>11</th>\n      <td>medical_specialty</td>\n      <td>Feature</td>\n      <td>Categorical</td>\n      <td>None</td>\n      <td>Integer identifier of a specialty of the admit...</td>\n      <td>None</td>\n      <td>yes</td>\n    </tr>\n    <tr>\n      <th>12</th>\n      <td>num_lab_procedures</td>\n      <td>Feature</td>\n      <td>Integer</td>\n      <td>None</td>\n      <td>Number of lab tests performed during the encou...</td>\n      <td>None</td>\n      <td>no</td>\n    </tr>\n    <tr>\n      <th>13</th>\n      <td>num_procedures</td>\n      <td>Feature</td>\n      <td>Integer</td>\n      <td>None</td>\n      <td>Number of procedures (other than lab tests) pe...</td>\n      <td>None</td>\n      <td>no</td>\n    </tr>\n    <tr>\n      <th>14</th>\n      <td>num_medications</td>\n      <td>Feature</td>\n      <td>Integer</td>\n      <td>None</td>\n      <td>Number of distinct generic names administered ...</td>\n      <td>None</td>\n      <td>no</td>\n    </tr>\n    <tr>\n      <th>15</th>\n      <td>number_outpatient</td>\n      <td>Feature</td>\n      <td>Integer</td>\n      <td>None</td>\n      <td>Number of outpatient visits of the patient in ...</td>\n      <td>None</td>\n      <td>no</td>\n    </tr>\n    <tr>\n      <th>16</th>\n      <td>number_emergency</td>\n      <td>Feature</td>\n      <td>Integer</td>\n      <td>None</td>\n      <td>Number of emergency visits of the patient in t...</td>\n      <td>None</td>\n      <td>no</td>\n    </tr>\n    <tr>\n      <th>17</th>\n      <td>number_inpatient</td>\n      <td>Feature</td>\n      <td>Integer</td>\n      <td>None</td>\n      <td>Number of inpatient visits of the patient in t...</td>\n      <td>None</td>\n      <td>no</td>\n    </tr>\n    <tr>\n      <th>18</th>\n      <td>diag_1</td>\n      <td>Feature</td>\n      <td>Categorical</td>\n      <td>None</td>\n      <td>The primary diagnosis (coded as first three di...</td>\n      <td>None</td>\n      <td>yes</td>\n    </tr>\n    <tr>\n      <th>19</th>\n      <td>diag_2</td>\n      <td>Feature</td>\n      <td>Categorical</td>\n      <td>None</td>\n      <td>Secondary diagnosis (coded as first three digi...</td>\n      <td>None</td>\n      <td>yes</td>\n    </tr>\n    <tr>\n      <th>20</th>\n      <td>diag_3</td>\n      <td>Feature</td>\n      <td>Categorical</td>\n      <td>None</td>\n      <td>Additional secondary diagnosis (coded as first...</td>\n      <td>None</td>\n      <td>yes</td>\n    </tr>\n    <tr>\n      <th>21</th>\n      <td>number_diagnoses</td>\n      <td>Feature</td>\n      <td>Integer</td>\n      <td>None</td>\n      <td>Number of diagnoses entered to the system</td>\n      <td>None</td>\n      <td>no</td>\n    </tr>\n    <tr>\n      <th>22</th>\n      <td>max_glu_serum</td>\n      <td>Feature</td>\n      <td>Categorical</td>\n      <td>None</td>\n      <td>Indicates the range of the result or if the te...</td>\n      <td>None</td>\n      <td>no</td>\n    </tr>\n    <tr>\n      <th>23</th>\n      <td>A1Cresult</td>\n      <td>Feature</td>\n      <td>Categorical</td>\n      <td>None</td>\n      <td>Indicates the range of the result or if the te...</td>\n      <td>None</td>\n      <td>no</td>\n    </tr>\n    <tr>\n      <th>24</th>\n      <td>metformin</td>\n      <td>Feature</td>\n      <td>Categorical</td>\n      <td>None</td>\n      <td>The feature indicates whether the drug was pre...</td>\n      <td>None</td>\n      <td>no</td>\n    </tr>\n    <tr>\n      <th>25</th>\n      <td>repaglinide</td>\n      <td>Feature</td>\n      <td>Categorical</td>\n      <td>None</td>\n      <td>The feature indicates whether the drug was pre...</td>\n      <td>None</td>\n      <td>no</td>\n    </tr>\n    <tr>\n      <th>26</th>\n      <td>nateglinide</td>\n      <td>Feature</td>\n      <td>Categorical</td>\n      <td>None</td>\n      <td>The feature indicates whether the drug was pre...</td>\n      <td>None</td>\n      <td>no</td>\n    </tr>\n    <tr>\n      <th>27</th>\n      <td>chlorpropamide</td>\n      <td>Feature</td>\n      <td>Categorical</td>\n      <td>None</td>\n      <td>The feature indicates whether the drug was pre...</td>\n      <td>None</td>\n      <td>no</td>\n    </tr>\n    <tr>\n      <th>28</th>\n      <td>glimepiride</td>\n      <td>Feature</td>\n      <td>Categorical</td>\n      <td>None</td>\n      <td>The feature indicates whether the drug was pre...</td>\n      <td>None</td>\n      <td>no</td>\n    </tr>\n    <tr>\n      <th>29</th>\n      <td>acetohexamide</td>\n      <td>Feature</td>\n      <td>Categorical</td>\n      <td>None</td>\n      <td>The feature indicates whether the drug was pre...</td>\n      <td>None</td>\n      <td>no</td>\n    </tr>\n    <tr>\n      <th>30</th>\n      <td>glipizide</td>\n      <td>Feature</td>\n      <td>Categorical</td>\n      <td>None</td>\n      <td>The feature indicates whether the drug was pre...</td>\n      <td>None</td>\n      <td>no</td>\n    </tr>\n    <tr>\n      <th>31</th>\n      <td>glyburide</td>\n      <td>Feature</td>\n      <td>Categorical</td>\n      <td>None</td>\n      <td>The feature indicates whether the drug was pre...</td>\n      <td>None</td>\n      <td>no</td>\n    </tr>\n    <tr>\n      <th>32</th>\n      <td>tolbutamide</td>\n      <td>Feature</td>\n      <td>Categorical</td>\n      <td>None</td>\n      <td>The feature indicates whether the drug was pre...</td>\n      <td>None</td>\n      <td>no</td>\n    </tr>\n    <tr>\n      <th>33</th>\n      <td>pioglitazone</td>\n      <td>Feature</td>\n      <td>Categorical</td>\n      <td>None</td>\n      <td>The feature indicates whether the drug was pre...</td>\n      <td>None</td>\n      <td>no</td>\n    </tr>\n    <tr>\n      <th>34</th>\n      <td>rosiglitazone</td>\n      <td>Feature</td>\n      <td>Categorical</td>\n      <td>None</td>\n      <td>The feature indicates whether the drug was pre...</td>\n      <td>None</td>\n      <td>no</td>\n    </tr>\n    <tr>\n      <th>35</th>\n      <td>acarbose</td>\n      <td>Feature</td>\n      <td>Categorical</td>\n      <td>None</td>\n      <td>The feature indicates whether the drug was pre...</td>\n      <td>None</td>\n      <td>no</td>\n    </tr>\n    <tr>\n      <th>36</th>\n      <td>miglitol</td>\n      <td>Feature</td>\n      <td>Categorical</td>\n      <td>None</td>\n      <td>The feature indicates whether the drug was pre...</td>\n      <td>None</td>\n      <td>no</td>\n    </tr>\n    <tr>\n      <th>37</th>\n      <td>troglitazone</td>\n      <td>Feature</td>\n      <td>Categorical</td>\n      <td>None</td>\n      <td>The feature indicates whether the drug was pre...</td>\n      <td>None</td>\n      <td>no</td>\n    </tr>\n    <tr>\n      <th>38</th>\n      <td>tolazamide</td>\n      <td>Feature</td>\n      <td>Categorical</td>\n      <td>None</td>\n      <td>The feature indicates whether the drug was pre...</td>\n      <td>None</td>\n      <td>no</td>\n    </tr>\n    <tr>\n      <th>39</th>\n      <td>examide</td>\n      <td>Feature</td>\n      <td>Categorical</td>\n      <td>None</td>\n      <td>The feature indicates whether the drug was pre...</td>\n      <td>None</td>\n      <td>no</td>\n    </tr>\n    <tr>\n      <th>40</th>\n      <td>citoglipton</td>\n      <td>Feature</td>\n      <td>Categorical</td>\n      <td>None</td>\n      <td>The feature indicates whether the drug was pre...</td>\n      <td>None</td>\n      <td>no</td>\n    </tr>\n    <tr>\n      <th>41</th>\n      <td>insulin</td>\n      <td>Feature</td>\n      <td>Categorical</td>\n      <td>None</td>\n      <td>The feature indicates whether the drug was pre...</td>\n      <td>None</td>\n      <td>no</td>\n    </tr>\n    <tr>\n      <th>42</th>\n      <td>glyburide-metformin</td>\n      <td>Feature</td>\n      <td>Categorical</td>\n      <td>None</td>\n      <td>The feature indicates whether the drug was pre...</td>\n      <td>None</td>\n      <td>no</td>\n    </tr>\n    <tr>\n      <th>43</th>\n      <td>glipizide-metformin</td>\n      <td>Feature</td>\n      <td>Categorical</td>\n      <td>None</td>\n      <td>The feature indicates whether the drug was pre...</td>\n      <td>None</td>\n      <td>no</td>\n    </tr>\n    <tr>\n      <th>44</th>\n      <td>glimepiride-pioglitazone</td>\n      <td>Feature</td>\n      <td>Categorical</td>\n      <td>None</td>\n      <td>The feature indicates whether the drug was pre...</td>\n      <td>None</td>\n      <td>no</td>\n    </tr>\n    <tr>\n      <th>45</th>\n      <td>metformin-rosiglitazone</td>\n      <td>Feature</td>\n      <td>Categorical</td>\n      <td>None</td>\n      <td>The feature indicates whether the drug was pre...</td>\n      <td>None</td>\n      <td>no</td>\n    </tr>\n    <tr>\n      <th>46</th>\n      <td>metformin-pioglitazone</td>\n      <td>Feature</td>\n      <td>Categorical</td>\n      <td>None</td>\n      <td>The feature indicates whether the drug was pre...</td>\n      <td>None</td>\n      <td>no</td>\n    </tr>\n    <tr>\n      <th>47</th>\n      <td>change</td>\n      <td>Feature</td>\n      <td>Categorical</td>\n      <td>None</td>\n      <td>Indicates if there was a change in diabetic me...</td>\n      <td>None</td>\n      <td>no</td>\n    </tr>\n    <tr>\n      <th>48</th>\n      <td>diabetesMed</td>\n      <td>Feature</td>\n      <td>Categorical</td>\n      <td>None</td>\n      <td>Indicates if there was any diabetic medication...</td>\n      <td>None</td>\n      <td>no</td>\n    </tr>\n    <tr>\n      <th>49</th>\n      <td>readmitted</td>\n      <td>Target</td>\n      <td>Categorical</td>\n      <td>None</td>\n      <td>Days to inpatient readmission. Values: &lt;30 if ...</td>\n      <td>None</td>\n      <td>no</td>\n    </tr>\n  </tbody>\n</table>\n</div>"
     },
     "execution_count": 39,
     "metadata": {},
     "output_type": "execute_result"
    }
   ],
   "source": [
    "# variable information\n",
    "diabetes_130_us_hospitals_for_years_1999_2008.variables"
   ]
  },
  {
   "cell_type": "markdown",
   "metadata": {
    "id": "7TL1QEbX966s"
   },
   "source": [
    "# Data Integrity"
   ]
  },
  {
   "cell_type": "code",
   "execution_count": 40,
   "metadata": {
    "colab": {
     "base_uri": "https://localhost:8080/"
    },
    "id": "jhC9lgrpqPJW",
    "outputId": "f1dd4cae-1a69-4cf7-fe25-ba7efe4cc42e",
    "ExecuteTime": {
     "end_time": "2024-05-02T12:41:45.186498300Z",
     "start_time": "2024-05-02T12:41:45.022061800Z"
    }
   },
   "outputs": [
    {
     "name": "stdout",
     "output_type": "stream",
     "text": [
      "<class 'pandas.core.frame.DataFrame'>\n",
      "RangeIndex: 101766 entries, 0 to 101765\n",
      "Data columns (total 50 columns):\n",
      " #   Column                    Non-Null Count   Dtype \n",
      "---  ------                    --------------   ----- \n",
      " 0   encounter_id              101766 non-null  int64 \n",
      " 1   patient_nbr               101766 non-null  int64 \n",
      " 2   race                      99493 non-null   object\n",
      " 3   gender                    101766 non-null  object\n",
      " 4   age                       101766 non-null  object\n",
      " 5   weight                    3197 non-null    object\n",
      " 6   admission_type_id         101766 non-null  int64 \n",
      " 7   discharge_disposition_id  101766 non-null  int64 \n",
      " 8   admission_source_id       101766 non-null  int64 \n",
      " 9   time_in_hospital          101766 non-null  int64 \n",
      " 10  payer_code                61510 non-null   object\n",
      " 11  medical_specialty         51817 non-null   object\n",
      " 12  num_lab_procedures        101766 non-null  int64 \n",
      " 13  num_procedures            101766 non-null  int64 \n",
      " 14  num_medications           101766 non-null  int64 \n",
      " 15  number_outpatient         101766 non-null  int64 \n",
      " 16  number_emergency          101766 non-null  int64 \n",
      " 17  number_inpatient          101766 non-null  int64 \n",
      " 18  diag_1                    101745 non-null  object\n",
      " 19  diag_2                    101408 non-null  object\n",
      " 20  diag_3                    100343 non-null  object\n",
      " 21  number_diagnoses          101766 non-null  int64 \n",
      " 22  max_glu_serum             5346 non-null    object\n",
      " 23  A1Cresult                 17018 non-null   object\n",
      " 24  metformin                 101766 non-null  object\n",
      " 25  repaglinide               101766 non-null  object\n",
      " 26  nateglinide               101766 non-null  object\n",
      " 27  chlorpropamide            101766 non-null  object\n",
      " 28  glimepiride               101766 non-null  object\n",
      " 29  acetohexamide             101766 non-null  object\n",
      " 30  glipizide                 101766 non-null  object\n",
      " 31  glyburide                 101766 non-null  object\n",
      " 32  tolbutamide               101766 non-null  object\n",
      " 33  pioglitazone              101766 non-null  object\n",
      " 34  rosiglitazone             101766 non-null  object\n",
      " 35  acarbose                  101766 non-null  object\n",
      " 36  miglitol                  101766 non-null  object\n",
      " 37  troglitazone              101766 non-null  object\n",
      " 38  tolazamide                101766 non-null  object\n",
      " 39  examide                   101766 non-null  object\n",
      " 40  citoglipton               101766 non-null  object\n",
      " 41  insulin                   101766 non-null  object\n",
      " 42  glyburide-metformin       101766 non-null  object\n",
      " 43  glipizide-metformin       101766 non-null  object\n",
      " 44  glimepiride-pioglitazone  101766 non-null  object\n",
      " 45  metformin-rosiglitazone   101766 non-null  object\n",
      " 46  metformin-pioglitazone    101766 non-null  object\n",
      " 47  change                    101766 non-null  object\n",
      " 48  diabetesMed               101766 non-null  object\n",
      " 49  readmitted                101766 non-null  object\n",
      "dtypes: int64(13), object(37)\n",
      "memory usage: 38.8+ MB\n"
     ]
    }
   ],
   "source": [
    "# get an overview over how data is represented inside pd.DataFrame\n",
    "data.info()"
   ]
  },
  {
   "cell_type": "code",
   "execution_count": 41,
   "metadata": {
    "colab": {
     "base_uri": "https://localhost:8080/"
    },
    "id": "gDTOlZvZJ-kO",
    "outputId": "4cc81d24-45c2-4f9d-a040-6865b0d0d99c",
    "ExecuteTime": {
     "end_time": "2024-05-02T12:41:45.206609100Z",
     "start_time": "2024-05-02T12:41:45.160061900Z"
    }
   },
   "outputs": [
    {
     "name": "stdout",
     "output_type": "stream",
     "text": [
      "max_glu_serum: [nan '>300' 'Norm' '>200']\n",
      "A1Cresult: [nan '>7' '>8' 'Norm']\n"
     ]
    }
   ],
   "source": [
    "# Check max_glue_serum and A1Cresult, because both are not supposed to contain NaN values but both do\n",
    "for key in data[['max_glu_serum', 'A1Cresult']].keys():\n",
    "  print(\"{column_name}: {unique_values}\".format(column_name=key, unique_values = data[key].unique()))"
   ]
  },
  {
   "cell_type": "markdown",
   "metadata": {
    "id": "d_7CGO59zj4j"
   },
   "source": [
    "#### Results\n",
    "According to the variable description there are seven variables with missing values. These are the following: *race*, *weight*, *payer_code*, *medical_specialty* and *diag_1*, *diag_2*, *diag_3*. Checking the dataset reveals, that *max_glu_serum* and *A1Cresult* also have missing values.\n",
    "Upon further inspectione it seems, that the categorical value None got replaced with NaN by pandas.  \n",
    "* For *weight* and *max_glu_serum* over 90% of values are missing or weren't measured.\n",
    "* For *A1Cresult* rougly 85% of values were not measured.\n",
    "* For *payer_code* and *medical_specialty* roughly 50% of values are missing.\n",
    "* For *race*, *diag_1*, *diag_2*, *diag_3* less than 10% of values are missing.\n",
    "  \n",
    "This could lead to different imputing stratagies."
   ]
  },
  {
   "cell_type": "markdown",
   "metadata": {
    "id": "aWH94o84-KE-"
   },
   "source": [
    "# Understanding Categorical Features\n",
    "To better understand categorical features, this following section is trying to get an overview over values, distribution of these and which encoding methods are suitable.  \n"
   ]
  },
  {
   "cell_type": "code",
   "execution_count": 42,
   "metadata": {
    "colab": {
     "base_uri": "https://localhost:8080/"
    },
    "id": "uixovyk06JM7",
    "outputId": "49c03d19-2ffb-44b2-9444-15a665e24432",
    "ExecuteTime": {
     "end_time": "2024-05-02T12:41:45.387875800Z",
     "start_time": "2024-05-02T12:41:45.201706200Z"
    }
   },
   "outputs": [
    {
     "name": "stdout",
     "output_type": "stream",
     "text": [
      "race: 6 unique values\n",
      "gender: 3 unique values\n",
      "age: 10 unique values\n",
      "weight: 10 unique values\n",
      "payer_code: 18 unique values\n",
      "medical_specialty: 73 unique values\n",
      "diag_1: 717 unique values\n",
      "diag_2: 749 unique values\n",
      "diag_3: 790 unique values\n",
      "max_glu_serum: 4 unique values\n",
      "A1Cresult: 4 unique values\n",
      "metformin: 4 unique values\n",
      "repaglinide: 4 unique values\n",
      "nateglinide: 4 unique values\n",
      "chlorpropamide: 4 unique values\n",
      "glimepiride: 4 unique values\n",
      "acetohexamide: 2 unique values\n",
      "glipizide: 4 unique values\n",
      "glyburide: 4 unique values\n",
      "tolbutamide: 2 unique values\n",
      "pioglitazone: 4 unique values\n",
      "rosiglitazone: 4 unique values\n",
      "acarbose: 4 unique values\n",
      "miglitol: 4 unique values\n",
      "troglitazone: 2 unique values\n",
      "tolazamide: 3 unique values\n",
      "examide: 1 unique values\n",
      "citoglipton: 1 unique values\n",
      "insulin: 4 unique values\n",
      "glyburide-metformin: 4 unique values\n",
      "glipizide-metformin: 2 unique values\n",
      "glimepiride-pioglitazone: 2 unique values\n",
      "metformin-rosiglitazone: 2 unique values\n",
      "metformin-pioglitazone: 2 unique values\n",
      "change: 2 unique values\n",
      "diabetesMed: 2 unique values\n",
      "readmitted: 3 unique values\n"
     ]
    }
   ],
   "source": [
    "# Check how many unique values each categorical variable has\n",
    "data_categorical = data.select_dtypes(include=[\"object\"])\n",
    "\n",
    "for key in data_categorical.keys():\n",
    "  print(\"{column_name}: {unique_values} unique values\".format(column_name=key, unique_values = len(data_categorical[key].unique())))"
   ]
  },
  {
   "cell_type": "code",
   "execution_count": 43,
   "metadata": {
    "colab": {
     "base_uri": "https://localhost:8080/"
    },
    "id": "qDxa7JczDGoq",
    "outputId": "2467c3a0-bd7e-4b5b-9b27-3ad35770bef8",
    "ExecuteTime": {
     "end_time": "2024-05-02T12:41:45.493115200Z",
     "start_time": "2024-05-02T12:41:45.393267500Z"
    }
   },
   "outputs": [
    {
     "name": "stdout",
     "output_type": "stream",
     "text": [
      "metformin: ['No' 'Steady' 'Up' 'Down']\n",
      "repaglinide: ['No' 'Up' 'Steady' 'Down']\n",
      "nateglinide: ['No' 'Steady' 'Down' 'Up']\n",
      "chlorpropamide: ['No' 'Steady' 'Down' 'Up']\n",
      "glimepiride: ['No' 'Steady' 'Down' 'Up']\n",
      "acetohexamide: ['No' 'Steady']\n",
      "glipizide: ['No' 'Steady' 'Up' 'Down']\n",
      "glyburide: ['No' 'Steady' 'Up' 'Down']\n",
      "tolbutamide: ['No' 'Steady']\n",
      "pioglitazone: ['No' 'Steady' 'Up' 'Down']\n",
      "rosiglitazone: ['No' 'Steady' 'Up' 'Down']\n",
      "acarbose: ['No' 'Steady' 'Up' 'Down']\n",
      "miglitol: ['No' 'Steady' 'Down' 'Up']\n",
      "troglitazone: ['No' 'Steady']\n",
      "tolazamide: ['No' 'Steady' 'Up']\n",
      "examide: ['No']\n",
      "citoglipton: ['No']\n",
      "insulin: ['No' 'Up' 'Steady' 'Down']\n",
      "glyburide-metformin: ['No' 'Steady' 'Down' 'Up']\n",
      "glipizide-metformin: ['No' 'Steady']\n",
      "glimepiride-pioglitazone: ['No' 'Steady']\n",
      "metformin-rosiglitazone: ['No' 'Steady']\n",
      "metformin-pioglitazone: ['No' 'Steady']\n"
     ]
    }
   ],
   "source": [
    "# Check the unique values of prescribed drugs\n",
    "drug_data = data_categorical.loc[:, 'metformin':'metformin-pioglitazone']\n",
    "for key in drug_data.keys():\n",
    "  print(\"{column_name}: {unique_values}\".format(column_name=key, unique_values = drug_data[key].unique()))"
   ]
  },
  {
   "cell_type": "code",
   "execution_count": 44,
   "metadata": {
    "colab": {
     "base_uri": "https://localhost:8080/"
    },
    "id": "4M2az2haJIZb",
    "outputId": "1a25691a-684b-4689-f21f-102baa41c44b",
    "ExecuteTime": {
     "end_time": "2024-05-02T12:41:45.526878400Z",
     "start_time": "2024-05-02T12:41:45.494201800Z"
    }
   },
   "outputs": [
    {
     "name": "stdout",
     "output_type": "stream",
     "text": [
      "admission_type_id: [6 1 2 3 4 5 8 7] in total 8 unique values\n",
      "discharge_disposition_id: [25  1  3  6  2  5 11  7 10  4 14 18  8 13 12 16 17 22 23  9 20 15 24 28\n",
      " 19 27] in total 26 unique values\n",
      "admission_source_id: [ 1  7  2  4  5  6 20  3 17  8  9 14 10 22 11 25 13] in total 17 unique values\n"
     ]
    }
   ],
   "source": [
    "# Take at look at the three missing categorical variables because their datatype is int\n",
    "categorical_numerical_data = data[['admission_type_id', 'discharge_disposition_id', 'admission_source_id']]\n",
    "for key in categorical_numerical_data.keys():\n",
    "  print(\"{column_name}: {unique_values} in total {n} unique values\".format(column_name=key, unique_values = categorical_numerical_data[key].unique(), n = len(categorical_numerical_data[key].unique())))"
   ]
  },
  {
   "cell_type": "markdown",
   "metadata": {
    "id": "3aMVasi1BOd1"
   },
   "source": [
    "#### Results:\n",
    "comparing the information given through the variable description by UCI and the results above, we can deduce the following:  \n",
    "The following variables are not categorical but binary:\n",
    "\n",
    "*   change\n",
    "*   diabetesMed  \n",
    "  \n",
    "The 23 different variables describing drug prescription should in theory all contain four unique values. On a first glance there are a few variables that seem to be binary, after further inspection, these are clearly not binary. Not all variables have as many unqiue values as stated in the variables description. This needs to be inspected further.\n",
    "  \n",
    "All remaining non binary categorials can be grouped into the following groups:\n",
    "\n",
    "**Nominal:**\n",
    "\n",
    "*   race\n",
    "*   gender\n",
    "*   payer_code\n",
    "*   diag_1, diag_2, diag_3\n",
    "*   medical_specialty\n",
    "*   all three ids (admission_type_id, discharge_disposition_id, admissin_source_id)\n",
    "\n",
    "**Ordinal:**\n",
    "\n",
    "*   age\n",
    "*   weight\n",
    "*   max_glu_serum\n",
    "*   A1Cresult\n",
    "*   all drug prescreption variables\n",
    "*   readmitted\n",
    "\n",
    "There are three variables with an exceptional large range of unique values, these are:\n",
    "\n",
    "\n",
    "*   diag_1\n",
    "*   diag_2\n",
    "*   diag_3\n",
    "\n",
    "Further there are two more variables with a larger range of unique values, these are:\n",
    "\n",
    "\n",
    "*   payer_code\n",
    "*   medical_specialty\n",
    "*   discharge_disposition_id\n",
    "*   admission_source_id\n",
    "\n",
    "All this has to be considered when choosing an encoding method. My first guess would be label encoding the variables with a large range of unique values and ordinal variables. The remaining nominal valriables could be encoded using one hot encoding.\n",
    "\n",
    "\n"
   ]
  },
  {
   "cell_type": "markdown",
   "metadata": {
    "id": "dve6mwWqVMow"
   },
   "source": [
    "# Remove variables\n",
    "Removing encounter_id (unique ID) and patient_nbr (otherwise it could be too easy for the model)."
   ]
  },
  {
   "cell_type": "markdown",
   "metadata": {
    "id": "rCz2yu2X2yyw"
   },
   "source": [
    "# Encoding and Imputing Values\n",
    "Imputing variables with large chunks of data missing could be counter productive, since this results in basically synthetic data. Because of that, in a first quick try, weight is omitted from the dataset. Further A1Cresult and max_glu_serum could be ommited from the dataset, because it was only measured for a small subset of patients. Further, the only possible values for the drug prescriptions of examide and citoglipton are \"No\" which seems useless to me. Next, encounter_id is just a unique identifier for each entry, which can also be dropped because it's of no use for classification."
   ]
  },
  {
   "cell_type": "code",
   "execution_count": 45,
   "metadata": {
    "id": "bQ6Skb8-JGt9",
    "colab": {
     "base_uri": "https://localhost:8080/",
     "height": 461
    },
    "outputId": "d9ce5fb3-e75f-43f6-e280-2a4d1b307d71",
    "ExecuteTime": {
     "end_time": "2024-05-02T12:41:47.001447800Z",
     "start_time": "2024-05-02T12:41:45.518742900Z"
    }
   },
   "outputs": [],
   "source": [
    "# drop weight and examide, citoglipton.\n",
    "data_encoded = data.copy().drop(['weight', 'examide','citoglipton', 'encounter_id'], axis=1)\n",
    "\n",
    "# cast diabetesMed and change to bool\n",
    "data_encoded['diabetesMed'] = (data_encoded['diabetesMed'] == 'Yes').astype(int)\n",
    "data_encoded['change'] = (data_encoded['change'] == 'Ch').astype(int)\n",
    "\n",
    "# Encode drug prescription data consistently across all variables\n",
    "drug_data = data_encoded.loc[:, 'metformin':'metformin-pioglitazone']\n",
    "for key in drug_data.keys():\n",
    "  if len(drug_data[key].unique()) == 4:\n",
    "    encodings = {key: {\"No\": 0, \"Down\": 1, 'Steady': 2, 'Up': 3}}\n",
    "    drug_data = drug_data.replace(encodings)\n",
    "  if len(drug_data[key].unique()) == 3:\n",
    "    encodings = {key: {\"No\": 0, 'Steady': 2, 'Up': 3}}\n",
    "    drug_data = drug_data.replace(encodings)\n",
    "  if len(drug_data[key].unique()) == 2:\n",
    "    encodings = {key: {\"No\": 0, 'Steady': 2}}\n",
    "    drug_data = drug_data.replace(encodings)\n",
    "  data_encoded[key] = drug_data[key]\n",
    "\n",
    "# map average age of the corresponding age bracket as int instead of string\n",
    "age_encodings = {'[0-10)': 5,\n",
    "                  '[10-20)': 15,\n",
    "                  '[20-30)': 25,\n",
    "                  '[30-40)' : 35,\n",
    "                  '[40-50)' : 45,\n",
    "                  '[50-60)' : 55,\n",
    "                  '[60-70)' : 65,\n",
    "                  '[70-80)' : 75,\n",
    "                  '[80-90)' : 85,\n",
    "                  '[90-100)' : 95}\n",
    "data_encoded['age'] = data_encoded['age'].map(age_encodings)\n",
    "# For max_glu_serum and A1Cresult the categorical value None got replace with np.nan while fetching the data and reading it as a DataFrame\n",
    "# these have to be replaced by categorical values again. In This case np.nan gets replaced with 'No', to be consitent with drug presciptiosn\n",
    "data_encoded[['max_glu_serum', 'A1Cresult']] = data_encoded[['max_glu_serum', 'A1Cresult']].fillna(value='No')\n",
    "\n",
    "# Encode 'max_glu_serum' and 'A1Cresult'\n",
    "max_glu_serum_encodings = {'No' : 0, 'Norm' : 1, '>200': 2, '>300' : 3}\n",
    "A1Cresult_encodings = {'No' : 0, 'Norm' :1, '>7' : 2, '>8' : 3}\n",
    "\n",
    "data_encoded['max_glu_serum'] = data_encoded['max_glu_serum'].map(max_glu_serum_encodings)\n",
    "data_encoded['A1Cresult'] = data_encoded['A1Cresult'].map(A1Cresult_encodings)\n",
    "\n",
    "\n",
    "# use one-hot encoding to encode nominal values, which have low cardinality\n",
    "data_encoded = pd.get_dummies(data_encoded, columns=['gender'], dtype=int)\n",
    "data_encoded = pd.get_dummies(data_encoded, columns=['race'], dtype=int, dummy_na=True)"
   ]
  },
  {
   "cell_type": "markdown",
   "metadata": {
    "id": "BVQc6IiTu_E6"
   },
   "source": [
    "## Grouping and encoding ICD-9 codes\n",
    "All values within the columns diag_1, diag_2 and diag_3 are strings. The ICD-9 codes are contained within these strings. Not all of these codes are numeric. However, the groups mentioned in the paper and adopted here all contain only numeric codes. Therefore, non-numeric codes can be sorted into \"Other\".\n",
    "\n",
    "**Groups:**\n",
    "*   Circulatory: 390-459, 785\n",
    "*   Respiratory: 460-519\n",
    "* Digestive: 520-579, 787\n",
    "* Diabetes: 250.x.x\n",
    "* Injury: 800-999\n",
    "* Musculoskeletal: 710-739\n",
    "* Genitourinary: 580–629, 788\n",
    "* Neoplasms: 140–239\n",
    "* Other: 780, 781, 784, 790–799, 240-249, 251-279, 680-709, 782, 001–139, 290–319, E-V, 280-289, 320-359, 630-679, 360-389, 740-759\n"
   ]
  },
  {
   "cell_type": "code",
   "execution_count": 46,
   "metadata": {
    "id": "DblVSeDk56Cv",
    "colab": {
     "base_uri": "https://localhost:8080/"
    },
    "outputId": "e3b654d6-57ef-43ad-fd5f-048c499ee27b",
    "ExecuteTime": {
     "end_time": "2024-05-02T12:41:47.013015500Z",
     "start_time": "2024-05-02T12:41:47.008488500Z"
    }
   },
   "outputs": [
    {
     "data": {
      "text/plain": "['250.83',\n '250.7',\n 'V57',\n '250.6',\n '250.4',\n '250.11',\n '250.32',\n 'V58',\n '250.13',\n '250.03',\n '250.8',\n '250.02',\n '250.42',\n '250.41',\n '250.22',\n '250.82',\n 'V55',\n '250.33',\n '250.12',\n 'V53',\n '250.81',\n '250.93',\n '250.01',\n '250.31',\n '250.43',\n '250.1',\n '250.2',\n '250.3',\n '250.23',\n '250.5',\n '250.92',\n '250.53',\n 'V45',\n 'V66',\n '250.21',\n 'V56',\n 'V26',\n '250.9',\n 'V71',\n 'V54',\n 'V67',\n 'V60',\n '250.52',\n '250.51',\n 'V43',\n '250.91',\n 'V63',\n 'V25',\n 'V70',\n 'E909',\n 'V07',\n 'V51']"
     },
     "execution_count": 46,
     "metadata": {},
     "output_type": "execute_result"
    }
   ],
   "source": [
    "diag_1_unique = data_encoded['diag_1'].unique()\n",
    "non_numeric_values = [value for value in diag_1_unique if isinstance(value, str) and not value.isdigit()]\n",
    "non_numeric_values"
   ]
  },
  {
   "cell_type": "code",
   "execution_count": 47,
   "metadata": {
    "id": "BQ5e8NEMu-di",
    "colab": {
     "base_uri": "https://localhost:8080/",
     "height": 479
    },
    "outputId": "137969c5-2db5-4451-a693-19f36741cf54",
    "ExecuteTime": {
     "end_time": "2024-05-02T12:41:47.381035800Z",
     "start_time": "2024-05-02T12:41:47.015170800Z"
    }
   },
   "outputs": [],
   "source": [
    "def group_diagnosis(code):\n",
    "    if pd.isnull(code):\n",
    "        return \"Missing\"\n",
    "    if code.startswith('250'):\n",
    "        return 'Diabetes'\n",
    "    if not code.isdigit():  # Überprüfen, ob der Code keine Zahl ist\n",
    "        return 'Other'\n",
    "    code = float(code)\n",
    "    if 390 <= code <= 459 or code == 785:\n",
    "        return 'Circulatory'\n",
    "    elif 460 <= code <= 519 or code == 786:\n",
    "        return 'Respiratory'\n",
    "    elif 520 <= code <= 579 or code == 787:\n",
    "        return 'Digestive'\n",
    "    elif 800 <= code <= 999:\n",
    "        return 'Injury'\n",
    "    elif 710 <= code <= 739:\n",
    "        return 'Musculoskeletal'\n",
    "    elif 580 <= code <= 629 or code == 788:\n",
    "        return 'Genitourinary'\n",
    "    elif 140 <= code <= 239:\n",
    "        return 'Neoplasms'\n",
    "    else:\n",
    "        return 'Other'\n",
    "\n",
    "data_encoded['diag_1_group'] = data_encoded['diag_1'].apply(group_diagnosis)\n",
    "data_encoded['diag_2_group'] = data_encoded['diag_2'].apply(group_diagnosis)\n",
    "data_encoded['diag_3_group'] = data_encoded['diag_3'].apply(group_diagnosis)\n",
    "\n",
    "pd.set_option('display.max_columns', None)"
   ]
  },
  {
   "cell_type": "code",
   "execution_count": 48,
   "metadata": {
    "id": "X6BlFrnlQIQh",
    "colab": {
     "base_uri": "https://localhost:8080/",
     "height": 479
    },
    "outputId": "7ec89aef-dc61-431c-c90b-9e63e1f5dc49",
    "ExecuteTime": {
     "end_time": "2024-05-02T12:41:47.536407Z",
     "start_time": "2024-05-02T12:41:47.383309800Z"
    }
   },
   "outputs": [],
   "source": [
    "# Erzeuge One-Hot-Encoding für die Spalte \"diag_1_group\"\n",
    "diag_1_group_encoded = pd.get_dummies(data_encoded['diag_1_group'], prefix='diag_1', dtype=int)\n",
    "\n",
    "# Füge die encodierten Spalten zum DataFrame hinzu\n",
    "data_encoded = pd.concat([data_encoded, diag_1_group_encoded], axis=1)\n",
    "\n",
    "# Entferne die ursprüngliche Spalte \"diag_1_group\"\n",
    "data_encoded.drop('diag_1_group', axis=1, inplace=True)\n",
    "\n",
    "# Erzeuge One-Hot-Encoding für die Spalte \"diag_2_group\"\n",
    "diag_2_group_encoded = pd.get_dummies(data_encoded['diag_2_group'], prefix='diag_2', dtype=int)\n",
    "\n",
    "# Füge die encodierten Spalten zum DataFrame hinzu\n",
    "data_encoded = pd.concat([data_encoded, diag_2_group_encoded], axis=1)\n",
    "\n",
    "# Entferne die ursprüngliche Spalte \"diag_2_group\"\n",
    "data_encoded.drop('diag_2_group', axis=1, inplace=True)\n",
    "\n",
    "# Erzeuge One-Hot-Encoding für die Spalte \"diag_3_group\"\n",
    "diag_3_group_encoded = pd.get_dummies(data_encoded['diag_3_group'], prefix='diag_3', dtype=int)\n",
    "\n",
    "# Füge die encodierten Spalten zum DataFrame hinzu\n",
    "data_encoded = pd.concat([data_encoded, diag_3_group_encoded], axis=1)\n",
    "\n",
    "# Entferne die ursprüngliche Spalte \"diag_2_group\"\n",
    "data_encoded.drop('diag_3_group', axis=1, inplace=True)"
   ]
  },
  {
   "cell_type": "code",
   "source": [
    "# delete old columns\n",
    "data_encoded.drop('diag_1', axis=1, inplace=True)\n",
    "data_encoded.drop('diag_2', axis=1, inplace=True)\n",
    "data_encoded.drop('diag_3', axis=1, inplace=True)"
   ],
   "metadata": {
    "id": "u8rXhHquTZgm",
    "ExecuteTime": {
     "end_time": "2024-05-02T12:41:47.599356900Z",
     "start_time": "2024-05-02T12:41:47.538043600Z"
    }
   },
   "execution_count": 49,
   "outputs": []
  },
  {
   "cell_type": "markdown",
   "metadata": {
    "id": "f3-GfXsT5XAS"
   },
   "source": [
    "# Grouping Medical Specialties\n",
    "\n"
   ]
  },
  {
   "cell_type": "code",
   "execution_count": 50,
   "metadata": {
    "id": "k5xvTeli5aFc",
    "colab": {
     "base_uri": "https://localhost:8080/"
    },
    "outputId": "600227be-67b9-49cc-b9bf-51ee22fb7450",
    "ExecuteTime": {
     "end_time": "2024-05-02T12:41:47.612255Z",
     "start_time": "2024-05-02T12:41:47.601465900Z"
    }
   },
   "outputs": [
    {
     "data": {
      "text/plain": "array(['Pediatrics-Endocrinology', nan, 'InternalMedicine',\n       'Family/GeneralPractice', 'Cardiology', 'Surgery-General',\n       'Orthopedics', 'Gastroenterology',\n       'Surgery-Cardiovascular/Thoracic', 'Nephrology',\n       'Orthopedics-Reconstructive', 'Psychiatry', 'Emergency/Trauma',\n       'Pulmonology', 'Surgery-Neuro',\n       'Obsterics&Gynecology-GynecologicOnco', 'ObstetricsandGynecology',\n       'Pediatrics', 'Hematology/Oncology', 'Otolaryngology',\n       'Surgery-Colon&Rectal', 'Pediatrics-CriticalCare', 'Endocrinology',\n       'Urology', 'Psychiatry-Child/Adolescent', 'Pediatrics-Pulmonology',\n       'Neurology', 'Anesthesiology-Pediatric', 'Radiology',\n       'Pediatrics-Hematology-Oncology', 'Psychology', 'Podiatry',\n       'Gynecology', 'Oncology', 'Pediatrics-Neurology',\n       'Surgery-Plastic', 'Surgery-Thoracic',\n       'Surgery-PlasticwithinHeadandNeck', 'Ophthalmology',\n       'Surgery-Pediatric', 'Pediatrics-EmergencyMedicine',\n       'PhysicalMedicineandRehabilitation', 'InfectiousDiseases',\n       'Anesthesiology', 'Rheumatology', 'AllergyandImmunology',\n       'Surgery-Maxillofacial', 'Pediatrics-InfectiousDiseases',\n       'Pediatrics-AllergyandImmunology', 'Dentistry', 'Surgeon',\n       'Surgery-Vascular', 'Osteopath', 'Psychiatry-Addictive',\n       'Surgery-Cardiovascular', 'PhysicianNotFound', 'Hematology',\n       'Proctology', 'Obstetrics', 'SurgicalSpecialty', 'Radiologist',\n       'Pathology', 'Dermatology', 'SportsMedicine', 'Speech',\n       'Hospitalist', 'OutreachServices', 'Cardiology-Pediatric',\n       'Perinatology', 'Neurophysiology', 'Endocrinology-Metabolism',\n       'DCPTEAM', 'Resident'], dtype=object)"
     },
     "execution_count": 50,
     "metadata": {},
     "output_type": "execute_result"
    }
   ],
   "source": [
    "specialty_unique = data_encoded['medical_specialty'].unique()\n",
    "specialty_unique"
   ]
  },
  {
   "cell_type": "markdown",
   "metadata": {
    "id": "pcYHjRxj6St2"
   },
   "source": [
    "General Practice:\n",
    "* 'Family/GeneralPractice'\n",
    "\n",
    "Internal Medicine:\n",
    "* 'InternalMedicine'\n",
    "* 'Endocrinology'\n",
    "* 'Nephrology'\n",
    "* 'Pulmonology'\n",
    "* 'Hematology/Oncology'\n",
    "* 'InfectiousDiseases'\n",
    "* 'Rheumatology'\n",
    "* 'AllergyandImmunology'\n",
    "* 'Endocrinology-Metabolism'\n",
    "\n",
    "Surgery:\n",
    "* 'Surgery-General'\n",
    "* 'Orthopedics'\n",
    "* 'Orthopedics-Reconstructive'\n",
    "* 'Surgery-Cardiovascular/Thoracic'\n",
    "* 'Surgery-Neuro'\n",
    "* 'Surgery-Colon&Rectal'\n",
    "* 'Surgery-Plastic'\n",
    "* 'Surgery-Thoracic'\n",
    "* 'Surgery-PlasticwithinHeadandNeck'\n",
    "* 'Surgery-Pediatric'\n",
    "* 'Surgery-Vascular'\n",
    "* 'Proctology'\n",
    "* 'SurgicalSpecialty'\n",
    "* 'Surgery-Cardiovascular'\n",
    "* 'SurgicalSpecialty'\n",
    "* 'Surgery-Maxillofacial'\n",
    "\n",
    "Missing:\n",
    "* 'nan'\n",
    "* 'PhysicianNotFound'\n",
    "\n",
    "Others: every specialty not mentioned above"
   ]
  },
  {
   "cell_type": "code",
   "execution_count": 51,
   "metadata": {
    "id": "bFg8VLA19mBm",
    "colab": {
     "base_uri": "https://localhost:8080/",
     "height": 479
    },
    "outputId": "d2ed1eba-7f0d-4b7c-83f2-249847fe024d",
    "ExecuteTime": {
     "end_time": "2024-05-02T12:41:47.742292500Z",
     "start_time": "2024-05-02T12:41:47.612255Z"
    }
   },
   "outputs": [],
   "source": [
    "def categorize_medical_specialty(specialty):\n",
    "    if specialty in ['Family/GeneralPractice']:\n",
    "        return 'General Practice'\n",
    "    elif specialty in ['InternalMedicine', 'Endocrinology', 'Nephrology', 'Pulmonology',\n",
    "                       'Hematology/Oncology', 'InfectiousDiseases', 'Rheumatology',\n",
    "                       'AllergyandImmunology', 'Endocrinology-Metabolism']:\n",
    "        return 'Internal Medicine'\n",
    "    elif specialty in ['Surgery-General', 'Orthopedics', 'Orthopedics-Reconstructive',\n",
    "                       'Surgery-Cardiovascular/Thoracic', 'Surgery-Neuro',\n",
    "                       'Surgery-Colon&Rectal', 'Surgery-Plastic', 'Surgery-Thoracic',\n",
    "                       'Surgery-PlasticwithinHeadandNeck', 'Surgery-Pediatric',\n",
    "                       'Surgery-Vascular', 'Proctology', 'SurgicalSpecialty',\n",
    "                       'Surgery-Cardiovascular', 'SurgicalSpecialty', 'Surgery-Maxillofacial']:\n",
    "        return 'Surgery'\n",
    "    elif pd.isnull(specialty) or specialty == 'PhysicianNotFound':\n",
    "        return 'Missing'\n",
    "    else:\n",
    "        return 'Others'\n",
    "\n",
    "data_encoded['medical_specialty_group'] = data_encoded['medical_specialty'].apply(categorize_medical_specialty)\n",
    "data_encoded.drop('medical_specialty', axis=1, inplace=True)"
   ]
  },
  {
   "cell_type": "code",
   "execution_count": 52,
   "metadata": {
    "id": "xuNKl21BSxc5",
    "colab": {
     "base_uri": "https://localhost:8080/",
     "height": 479
    },
    "outputId": "c11316a7-f339-4d19-a194-aba5349e75cc",
    "ExecuteTime": {
     "end_time": "2024-05-02T12:41:47.804149600Z",
     "start_time": "2024-05-02T12:41:47.746377400Z"
    }
   },
   "outputs": [],
   "source": [
    "# One-Hot-Encoding für die Spalte \"medical_specialty_group\"\n",
    "medical_specialty_group_encoded = pd.get_dummies(data_encoded['medical_specialty_group'], prefix='medical_specialty', dtype=int)\n",
    "data_encoded = pd.concat([data_encoded, medical_specialty_group_encoded], axis=1)\n",
    "data_encoded.drop('medical_specialty_group', axis=1, inplace=True)"
   ]
  },
  {
   "cell_type": "markdown",
   "metadata": {
    "id": "p-CxaDk3_dZt"
   },
   "source": [
    "# ID Mappings\n",
    "\n",
    "**Admission types ID:**\n",
    "\n",
    "1 = Emergency  \n",
    "2 = Urgent  \n",
    "3 = Elective  \n",
    "4 = Newborn  \n",
    "5 = Not Available  \n",
    "6 = NULL  \n",
    "7 = Trauma Center  \n",
    "8 = Not Mapped\n",
    "\n",
    "**Grouped to:**\n",
    "\n",
    "Emergency = 1,2,7  \n",
    "Elective = 3  \n",
    "Newborn = 4  \n",
    "Unavailable = 5,6,8\n"
   ]
  },
  {
   "cell_type": "code",
   "execution_count": 54,
   "metadata": {
    "id": "E3QKSmr3knzZ",
    "colab": {
     "base_uri": "https://localhost:8080/"
    },
    "outputId": "f89eb028-50bd-4ecc-caf7-267dd00c32ec",
    "ExecuteTime": {
     "end_time": "2024-05-02T12:41:47.869426800Z",
     "start_time": "2024-05-02T12:41:47.833478500Z"
    }
   },
   "outputs": [
    {
     "name": "stdout",
     "output_type": "stream",
     "text": [
      "Admission Type ID Verteilung:\n",
      " admission_type_id\n",
      "1    53990\n",
      "3    18869\n",
      "2    18480\n",
      "6     5291\n",
      "5     4785\n",
      "8      320\n",
      "7       21\n",
      "4       10\n",
      "Name: count, dtype: int64\n",
      "\n",
      "Discharge Disposition ID Verteilung:\n",
      " discharge_disposition_id\n",
      "1     60234\n",
      "3     13954\n",
      "6     12902\n",
      "18     3691\n",
      "2      2128\n",
      "22     1993\n",
      "11     1642\n",
      "5      1184\n",
      "25      989\n",
      "4       815\n",
      "7       623\n",
      "23      412\n",
      "13      399\n",
      "14      372\n",
      "28      139\n",
      "8       108\n",
      "15       63\n",
      "24       48\n",
      "9        21\n",
      "17       14\n",
      "16       11\n",
      "19        8\n",
      "10        6\n",
      "27        5\n",
      "12        3\n",
      "20        2\n",
      "Name: count, dtype: int64\n",
      "\n",
      "Admission Source ID Verteilung:\n",
      " admission_source_id\n",
      "7     57494\n",
      "1     29565\n",
      "17     6781\n",
      "4      3187\n",
      "6      2264\n",
      "2      1104\n",
      "5       855\n",
      "3       187\n",
      "20      161\n",
      "9       125\n",
      "8        16\n",
      "22       12\n",
      "10        8\n",
      "14        2\n",
      "11        2\n",
      "25        2\n",
      "13        1\n",
      "Name: count, dtype: int64\n"
     ]
    }
   ],
   "source": [
    "admission_type_id = data['admission_type_id'].value_counts()\n",
    "discharge_disposition_counts = data['discharge_disposition_id'].value_counts()\n",
    "admission_source_counts = data['admission_source_id'].value_counts()\n",
    "\n",
    "#Verteilung ausgeben, um zu gucken, ob es Sinn mach, kleine Gruppen zu entfernen\n",
    "print(\"Admission Type ID Verteilung:\\n\", admission_type_id)\n",
    "print(\"\\nDischarge Disposition ID Verteilung:\\n\", discharge_disposition_counts)\n",
    "print(\"\\nAdmission Source ID Verteilung:\\n\", admission_source_counts)"
   ]
  },
  {
   "cell_type": "code",
   "execution_count": 55,
   "metadata": {
    "id": "GN1oN4440H5c",
    "colab": {
     "base_uri": "https://localhost:8080/",
     "height": 461
    },
    "outputId": "7025d202-3a6d-4a65-a65d-1c3f6f8556c8",
    "ExecuteTime": {
     "end_time": "2024-05-02T12:41:47.989784Z",
     "start_time": "2024-05-02T12:41:47.864612800Z"
    }
   },
   "outputs": [],
   "source": [
    "#Grouping der Types\n",
    "def map_admission_type(admission_type_id):\n",
    "    if admission_type_id in [1, 2, 7]:\n",
    "        return 'Emergency'\n",
    "    elif admission_type_id == 3:\n",
    "        return 'Elective'\n",
    "    elif admission_type_id == 4:\n",
    "        return 'Newborn'\n",
    "    elif admission_type_id in [5, 6, 8]:\n",
    "        return 'Unavailable'\n",
    "\n",
    "data_encoded['admission_group'] = data_encoded['admission_type_id'].apply(map_admission_type)\n",
    "#one-hot encoding der zusammengefassten admission types\n",
    "admission_group_dummies = pd.get_dummies(data_encoded['admission_group'], prefix='admission_group', dtype=int)\n",
    "data_encoded = pd.concat([data_encoded, admission_group_dummies], axis=1)\n",
    "data_encoded.drop('admission_type_id', axis=1, inplace=True)\n",
    "data_encoded.drop('admission_group', axis=1, inplace=True)"
   ]
  },
  {
   "cell_type": "markdown",
   "source": [
    "**Grouped Discharge disposition ID:**\n",
    "\n",
    "1 = HomeWFollowUp :\n",
    "  - Discharged to home with home health service (6)\n",
    "  - Discharged/transferred to home under care of Home IV provider (8)\n",
    "\n",
    "2 = InstitutionalCare:\n",
    "  - Discharged/transferred to another short term hospital (2)\n",
    "  - Discharged/transferred to SNF (Skilled Nursing Facility) (3)\n",
    "  - Discharged/transferred to ICF (Intermediate Care Facility) (4)\n",
    "  - Discharged/transferred to another rehab facility including rehab units of a hospital (22)\n",
    "  - Discharged/transferred to a long term care hospital (23)\n",
    "  - Discharged/transferred to a nursing facility certified under Medicaid but not certified under Medicare (24)\n",
    "  - Discharged/transferred to another Type of Health Care Institution not Defined Elsewhere (30)\n",
    "  - Discharged/transferred to a federal health care facility (27)\n",
    "  - Discharged/transferred to a psychiatric hospital or psychiatric distinct part unit of a hospital (28)\n",
    "  - Discharged/transferred to a Critical Access Hospital (CAH) (29)\n",
    "\n",
    "3 = HomeDischarge:\n",
    "  - Discharged to home (1)\n",
    "\n",
    "4 = EndOfLife:\n",
    "  - Expired (11)\n",
    "  - Hospice / home (13)\n",
    "  - Hospice / medical facility (14)\n",
    "  - Expired at home. Medicaid only, hospice (19)\n",
    "  - Expired in a medical facility. Medicaid only, hospice (20)\n",
    "  - Expired, place unknown. Medicaid only, hospice (21)\n",
    "\n",
    "5 = AMA_StillCare:\n",
    "  - Left AMA (7)\n",
    "  - Still patient or expected to return for outpatient services (12)\n",
    "\n",
    "6 = Unknown:\n",
    "  - Not Available (5)\n",
    "  - NULL (18)\n",
    "  - Not Mapped (25)\n",
    "  - Unknown/Invalid (26)\n",
    "\n",
    "\n"
   ],
   "metadata": {
    "id": "mRGSuWBfNZQo"
   }
  },
  {
   "cell_type": "code",
   "source": [
    "def map_discharge_disposition_id(disposition_id):\n",
    "    if disposition_id in [6, 8]:\n",
    "        return 'HomeWFollowUp'\n",
    "    elif disposition_id in [2, 3, 4, 22, 23, 24, 30, 27, 28, 29]:\n",
    "        return 'InstitutionalCare'\n",
    "    elif disposition_id in [1]:\n",
    "        return 'HomeDischarge'\n",
    "    elif disposition_id in [11, 13, 14, 19, 20, 21]:\n",
    "        return 'EndOfLife'\n",
    "    elif disposition_id in [7, 12]:\n",
    "        return 'AMA_StillCare'\n",
    "    elif disposition_id in [5, 18, 25, 26]:\n",
    "        return 'Unknown'\n",
    "\n",
    "data_encoded['discharge_disposition_id_grouped'] = data_encoded['discharge_disposition_id'].apply(map_discharge_disposition_id)\n",
    "admission_group_dummies = pd.get_dummies(data_encoded['discharge_disposition_id_grouped'], prefix='discharge_disposition_id_grouped', dtype=int)\n",
    "data_encoded = pd.concat([data_encoded, admission_group_dummies], axis=1)\n",
    "data_encoded.drop('discharge_disposition_id', axis=1, inplace=True)\n",
    "data_encoded.drop('discharge_disposition_id_grouped', axis=1, inplace=True)"
   ],
   "metadata": {
    "id": "tC8D0kp5J5Gu",
    "colab": {
     "base_uri": "https://localhost:8080/",
     "height": 461
    },
    "outputId": "b9ae7e5d-a7c7-423d-ea59-1ff1ee790a38",
    "ExecuteTime": {
     "end_time": "2024-05-02T12:41:48.103543300Z",
     "start_time": "2024-05-02T12:41:47.994031400Z"
    }
   },
   "execution_count": 56,
   "outputs": []
  },
  {
   "cell_type": "markdown",
   "source": [
    "**Grouped Admission Souce ID**\n",
    "\n",
    "1 = Referrals:\n",
    "  - Physician Referral (1)\n",
    "  - Clinic Referral (2)\n",
    "  - HMO Referral (3)\n",
    "\n",
    "2 = Transfers:\n",
    "  - Transfer from a hospital (4)\n",
    "  - Transfer from a Skilled Nursing Facility (SNF) (5)\n",
    "  - Transfer from another health care facility (6)\n",
    "  - Transfer from critical access hospital (10)\n",
    "  - Transfer From Another Home Health Agency (18)\n",
    "  - Transfer from hospital inpt/same fac reslt in a sep claim (22)\n",
    "  - Transfer from Ambulatory Surgery Center (25)\n",
    "  - Transfer from Hospice (26)\n",
    "\n",
    "3 = EmergencyOrLaw:\n",
    "  - Emergency Room (7)\n",
    "  - Court/Law Enforcement (8)\n",
    "\n",
    "4 = Births:\n",
    "  - Normal Delivery (11)\n",
    "  - Premature Delivery (12)\n",
    "  - Sick Baby (13)\n",
    "  - Extramural Birth (14)\n",
    "  - Born inside this hospital (23)\n",
    "  - Born outside this hospital (24)\n",
    "\n",
    "5 = Unknown:\n",
    "  - Not Available (9, 15)\n",
    "  - NULL (17)\n",
    "  - Not Mapped (20)\n",
    "  - Unknown/Invalid (21)\n",
    "\n",
    "6 = Readmission:\n",
    "  - Readmission to Same Home Health Agency (19)"
   ],
   "metadata": {
    "id": "Z1Hu3WfjXxL9"
   }
  },
  {
   "cell_type": "code",
   "source": [
    "def map_admission_source(source_id):\n",
    "    if source_id in [1, 2, 3]:\n",
    "        return 'Referrals'\n",
    "    elif source_id in [4, 5, 6, 10, 18, 22, 25, 26]:\n",
    "        return 'Transfers'\n",
    "    elif source_id in [7, 8]:\n",
    "        return 'Emergency_or_Law'\n",
    "    elif source_id in [11, 12, 13, 14, 23, 24]:\n",
    "        return 'Births'\n",
    "    elif source_id in [9, 15, 17, 20, 21]:\n",
    "        return 'Data_Issues'\n",
    "    elif source_id == 19:\n",
    "        return 'Readmission'\n",
    "\n",
    "data_encoded['admission_source_grouped'] = data_encoded['admission_source_id'].apply(map_admission_source)\n",
    "admission_group_dummies = pd.get_dummies(data_encoded['admission_source_grouped'], prefix='admission_source_grouped', dtype=int)\n",
    "data_encoded = pd.concat([data_encoded, admission_group_dummies], axis=1)\n",
    "data_encoded.drop('admission_source_id', axis=1, inplace=True)\n",
    "data_encoded.drop('admission_source_grouped', axis=1, inplace=True)"
   ],
   "metadata": {
    "id": "l3CjXRRWd6U-",
    "colab": {
     "base_uri": "https://localhost:8080/",
     "height": 461
    },
    "outputId": "3204436f-5a19-41bf-8bd3-f9caa01b25b4",
    "ExecuteTime": {
     "end_time": "2024-05-02T12:41:48.214783Z",
     "start_time": "2024-05-02T12:41:48.116553600Z"
    }
   },
   "execution_count": 57,
   "outputs": []
  },
  {
   "cell_type": "markdown",
   "source": [
    "# Encoded target value"
   ],
   "metadata": {
    "id": "4NxTQbkSOfWj"
   }
  },
  {
   "cell_type": "code",
   "source": [
    "data_encoded['readmitted'].unique()\n",
    "readmitted_encodings = {'NO' : 0,\n",
    "                 '>30' : 0,\n",
    "                 '<30' : 1\n",
    "                 }\n",
    "data_encoded['readmitted'] = data_encoded['readmitted'].map(readmitted_encodings)"
   ],
   "metadata": {
    "id": "NuWL4AnZoExH",
    "ExecuteTime": {
     "end_time": "2024-05-02T12:41:48.234282100Z",
     "start_time": "2024-05-02T12:41:48.219769900Z"
    }
   },
   "execution_count": 58,
   "outputs": []
  },
  {
   "cell_type": "code",
   "source": [
    "data_encoded['readmitted'].unique()\n",
    "data_encoded['readmitted'].value_counts()"
   ],
   "metadata": {
    "id": "iA5FC1FqqmUg",
    "colab": {
     "base_uri": "https://localhost:8080/"
    },
    "outputId": "45242625-8bb7-4eb9-a316-53bd1943e998",
    "ExecuteTime": {
     "end_time": "2024-05-02T12:41:48.281620100Z",
     "start_time": "2024-05-02T12:41:48.231132700Z"
    }
   },
   "execution_count": 59,
   "outputs": [
    {
     "data": {
      "text/plain": "readmitted\n0    90409\n1    11357\nName: count, dtype: int64"
     },
     "execution_count": 59,
     "metadata": {},
     "output_type": "execute_result"
    }
   ]
  },
  {
   "cell_type": "code",
   "outputs": [
    {
     "name": "stdout",
     "output_type": "stream",
     "text": [
      "<class 'pandas.core.frame.DataFrame'>\n",
      "RangeIndex: 101766 entries, 0 to 101765\n",
      "Data columns (total 96 columns):\n",
      " #   Column                                              Non-Null Count   Dtype\n",
      "---  ------                                              --------------   -----\n",
      " 0   patient_nbr                                         101766 non-null  int64\n",
      " 1   age                                                 101766 non-null  int64\n",
      " 2   time_in_hospital                                    101766 non-null  int64\n",
      " 3   num_lab_procedures                                  101766 non-null  int64\n",
      " 4   num_procedures                                      101766 non-null  int64\n",
      " 5   num_medications                                     101766 non-null  int64\n",
      " 6   number_outpatient                                   101766 non-null  int64\n",
      " 7   number_emergency                                    101766 non-null  int64\n",
      " 8   number_inpatient                                    101766 non-null  int64\n",
      " 9   number_diagnoses                                    101766 non-null  int64\n",
      " 10  max_glu_serum                                       101766 non-null  int64\n",
      " 11  A1Cresult                                           101766 non-null  int64\n",
      " 12  metformin                                           101766 non-null  int64\n",
      " 13  repaglinide                                         101766 non-null  int64\n",
      " 14  nateglinide                                         101766 non-null  int64\n",
      " 15  chlorpropamide                                      101766 non-null  int64\n",
      " 16  glimepiride                                         101766 non-null  int64\n",
      " 17  acetohexamide                                       101766 non-null  int64\n",
      " 18  glipizide                                           101766 non-null  int64\n",
      " 19  glyburide                                           101766 non-null  int64\n",
      " 20  tolbutamide                                         101766 non-null  int64\n",
      " 21  pioglitazone                                        101766 non-null  int64\n",
      " 22  rosiglitazone                                       101766 non-null  int64\n",
      " 23  acarbose                                            101766 non-null  int64\n",
      " 24  miglitol                                            101766 non-null  int64\n",
      " 25  troglitazone                                        101766 non-null  int64\n",
      " 26  tolazamide                                          101766 non-null  int64\n",
      " 27  insulin                                             101766 non-null  int64\n",
      " 28  glyburide-metformin                                 101766 non-null  int64\n",
      " 29  glipizide-metformin                                 101766 non-null  int64\n",
      " 30  glimepiride-pioglitazone                            101766 non-null  int64\n",
      " 31  metformin-rosiglitazone                             101766 non-null  int64\n",
      " 32  metformin-pioglitazone                              101766 non-null  int64\n",
      " 33  change                                              101766 non-null  int32\n",
      " 34  diabetesMed                                         101766 non-null  int32\n",
      " 35  readmitted                                          101766 non-null  int64\n",
      " 36  gender_Female                                       101766 non-null  int32\n",
      " 37  gender_Male                                         101766 non-null  int32\n",
      " 38  gender_Unknown/Invalid                              101766 non-null  int32\n",
      " 39  race_AfricanAmerican                                101766 non-null  int32\n",
      " 40  race_Asian                                          101766 non-null  int32\n",
      " 41  race_Caucasian                                      101766 non-null  int32\n",
      " 42  race_Hispanic                                       101766 non-null  int32\n",
      " 43  race_Other                                          101766 non-null  int32\n",
      " 44  race_nan                                            101766 non-null  int32\n",
      " 45  diag_1_Circulatory                                  101766 non-null  int32\n",
      " 46  diag_1_Diabetes                                     101766 non-null  int32\n",
      " 47  diag_1_Digestive                                    101766 non-null  int32\n",
      " 48  diag_1_Genitourinary                                101766 non-null  int32\n",
      " 49  diag_1_Injury                                       101766 non-null  int32\n",
      " 50  diag_1_Missing                                      101766 non-null  int32\n",
      " 51  diag_1_Musculoskeletal                              101766 non-null  int32\n",
      " 52  diag_1_Neoplasms                                    101766 non-null  int32\n",
      " 53  diag_1_Other                                        101766 non-null  int32\n",
      " 54  diag_1_Respiratory                                  101766 non-null  int32\n",
      " 55  diag_2_Circulatory                                  101766 non-null  int32\n",
      " 56  diag_2_Diabetes                                     101766 non-null  int32\n",
      " 57  diag_2_Digestive                                    101766 non-null  int32\n",
      " 58  diag_2_Genitourinary                                101766 non-null  int32\n",
      " 59  diag_2_Injury                                       101766 non-null  int32\n",
      " 60  diag_2_Missing                                      101766 non-null  int32\n",
      " 61  diag_2_Musculoskeletal                              101766 non-null  int32\n",
      " 62  diag_2_Neoplasms                                    101766 non-null  int32\n",
      " 63  diag_2_Other                                        101766 non-null  int32\n",
      " 64  diag_2_Respiratory                                  101766 non-null  int32\n",
      " 65  diag_3_Circulatory                                  101766 non-null  int32\n",
      " 66  diag_3_Diabetes                                     101766 non-null  int32\n",
      " 67  diag_3_Digestive                                    101766 non-null  int32\n",
      " 68  diag_3_Genitourinary                                101766 non-null  int32\n",
      " 69  diag_3_Injury                                       101766 non-null  int32\n",
      " 70  diag_3_Missing                                      101766 non-null  int32\n",
      " 71  diag_3_Musculoskeletal                              101766 non-null  int32\n",
      " 72  diag_3_Neoplasms                                    101766 non-null  int32\n",
      " 73  diag_3_Other                                        101766 non-null  int32\n",
      " 74  diag_3_Respiratory                                  101766 non-null  int32\n",
      " 75  medical_specialty_General Practice                  101766 non-null  int32\n",
      " 76  medical_specialty_Internal Medicine                 101766 non-null  int32\n",
      " 77  medical_specialty_Missing                           101766 non-null  int32\n",
      " 78  medical_specialty_Others                            101766 non-null  int32\n",
      " 79  medical_specialty_Surgery                           101766 non-null  int32\n",
      " 80  admission_group_Elective                            101766 non-null  int32\n",
      " 81  admission_group_Emergency                           101766 non-null  int32\n",
      " 82  admission_group_Newborn                             101766 non-null  int32\n",
      " 83  admission_group_Unavailable                         101766 non-null  int32\n",
      " 84  discharge_disposition_id_grouped_AMA_StillCare      101766 non-null  int32\n",
      " 85  discharge_disposition_id_grouped_EndOfLife          101766 non-null  int32\n",
      " 86  discharge_disposition_id_grouped_HomeDischarge      101766 non-null  int32\n",
      " 87  discharge_disposition_id_grouped_HomeWFollowUp      101766 non-null  int32\n",
      " 88  discharge_disposition_id_grouped_InstitutionalCare  101766 non-null  int32\n",
      " 89  discharge_disposition_id_grouped_Unknown            101766 non-null  int32\n",
      " 90  admission_source_grouped_Births                     101766 non-null  int32\n",
      " 91  admission_source_grouped_Data_Issues                101766 non-null  int32\n",
      " 92  admission_source_grouped_Emergency_or_Law           101766 non-null  int32\n",
      " 93  admission_source_grouped_Referrals                  101766 non-null  int32\n",
      " 94  admission_source_grouped_Transfers                  101766 non-null  int32\n",
      " 95  payer_code_labeled                                  101766 non-null  int32\n",
      "dtypes: int32(62), int64(34)\n",
      "memory usage: 50.5 MB\n"
     ]
    }
   ],
   "source": [
    "label_encoder = LabelEncoder()\n",
    "data_encoded = data_encoded.copy()\n",
    "data_encoded[\"payer_code_labeled\"] = label_encoder.fit_transform(data_encoded[\"payer_code\"].astype(str))\n",
    "\n",
    "data_encoded.drop(\"payer_code\", axis=1, inplace=True)\n",
    "data_encoded.info(verbose=True, show_counts=True)"
   ],
   "metadata": {
    "collapsed": false,
    "ExecuteTime": {
     "end_time": "2024-05-02T12:41:48.425203400Z",
     "start_time": "2024-05-02T12:41:48.282734500Z"
    }
   },
   "execution_count": 60
  },
  {
   "cell_type": "code",
   "outputs": [
    {
     "data": {
      "text/plain": "<Figure size 1600x400 with 1 Axes>",
      "image/png": "[encoded data removed]"
     },
     "metadata": {},
     "output_type": "display_data"
    }
   ],
   "source": [
    "plt.figure(figsize=(16,4))\n",
    "data_encoded.copy().drop('patient_nbr', axis=1).loc[:,'age':'number_diagnoses'].boxplot(whis=(1,99))\n",
    "plt.title('(Raw) Distribution of Features', fontsize=17)\n",
    "plt.xticks(rotation=90)\n",
    "plt.show()"
   ],
   "metadata": {
    "collapsed": false,
    "ExecuteTime": {
     "end_time": "2024-05-02T12:41:49.513768900Z",
     "start_time": "2024-05-02T12:41:48.422022600Z"
    }
   },
   "execution_count": 61
  },
  {
   "cell_type": "code",
   "outputs": [
    {
     "data": {
      "text/plain": "   patient_nbr  age  time_in_hospital  num_lab_procedures  num_procedures  \\\n0      8222157    5               1.0                41.0               0   \n1     55629189   15               3.0                59.0               0   \n2     86047875   25               2.0                11.0               5   \n3     82442376   35               2.0                44.0               1   \n4     42519267   45               1.0                51.0               0   \n\n   num_medications  number_outpatient  number_emergency  number_inpatient  \\\n0              1.0                0.0               0.0               0.0   \n1             18.0                0.0               0.0               0.0   \n2             13.0                2.0               0.0               1.0   \n3             16.0                0.0               0.0               0.0   \n4              8.0                0.0               0.0               0.0   \n\n   number_diagnoses  max_glu_serum  A1Cresult  metformin  repaglinide  \\\n0               NaN              0          0          0            0   \n1               9.0              0          0          0            0   \n2               6.0              0          0          0            0   \n3               7.0              0          0          0            0   \n4               5.0              0          0          0            0   \n\n   nateglinide  chlorpropamide  glimepiride  acetohexamide  glipizide  \\\n0            0               0            0              0          0   \n1            0               0            0              0          0   \n2            0               0            0              0          2   \n3            0               0            0              0          0   \n4            0               0            0              0          2   \n\n   glyburide  tolbutamide  pioglitazone  rosiglitazone  acarbose  miglitol  \\\n0          0            0             0              0         0         0   \n1          0            0             0              0         0         0   \n2          0            0             0              0         0         0   \n3          0            0             0              0         0         0   \n4          0            0             0              0         0         0   \n\n   troglitazone  tolazamide  insulin  glyburide-metformin  \\\n0             0           0        0                    0   \n1             0           0        3                    0   \n2             0           0        0                    0   \n3             0           0        3                    0   \n4             0           0        2                    0   \n\n   glipizide-metformin  glimepiride-pioglitazone  metformin-rosiglitazone  \\\n0                    0                         0                        0   \n1                    0                         0                        0   \n2                    0                         0                        0   \n3                    0                         0                        0   \n4                    0                         0                        0   \n\n   metformin-pioglitazone  change  diabetesMed  readmitted  gender_Female  \\\n0                       0       0            0           0              1   \n1                       0       1            1           0              1   \n2                       0       0            1           0              1   \n3                       0       1            1           0              0   \n4                       0       1            1           0              0   \n\n   gender_Male  gender_Unknown/Invalid  race_AfricanAmerican  race_Asian  \\\n0            0                       0                     0           0   \n1            0                       0                     0           0   \n2            0                       0                     1           0   \n3            1                       0                     0           0   \n4            1                       0                     0           0   \n\n   race_Caucasian  race_Hispanic  race_Other  race_nan  diag_1_Circulatory  \\\n0               1              0           0         0                   0   \n1               1              0           0         0                   0   \n2               0              0           0         0                   0   \n3               1              0           0         0                   0   \n4               1              0           0         0                   0   \n\n   diag_1_Diabetes  diag_1_Digestive  diag_1_Genitourinary  diag_1_Injury  \\\n0                1                 0                     0              0   \n1                0                 0                     0              0   \n2                0                 0                     0              0   \n3                0                 0                     0              0   \n4                0                 0                     0              0   \n\n   diag_1_Missing  diag_1_Musculoskeletal  diag_1_Neoplasms  diag_1_Other  \\\n0               0                       0                 0             0   \n1               0                       0                 0             1   \n2               0                       0                 0             1   \n3               0                       0                 0             1   \n4               0                       0                 1             0   \n\n   diag_1_Respiratory  diag_2_Circulatory  diag_2_Diabetes  diag_2_Digestive  \\\n0                   0                   0                0                 0   \n1                   0                   0                1                 0   \n2                   0                   0                1                 0   \n3                   0                   0                1                 0   \n4                   0                   0                0                 0   \n\n   diag_2_Genitourinary  diag_2_Injury  diag_2_Missing  \\\n0                     0              0               1   \n1                     0              0               0   \n2                     0              0               0   \n3                     0              0               0   \n4                     0              0               0   \n\n   diag_2_Musculoskeletal  diag_2_Neoplasms  diag_2_Other  diag_2_Respiratory  \\\n0                       0                 0             0                   0   \n1                       0                 0             0                   0   \n2                       0                 0             0                   0   \n3                       0                 0             0                   0   \n4                       0                 1             0                   0   \n\n   diag_3_Circulatory  diag_3_Diabetes  diag_3_Digestive  \\\n0                   0                0                 0   \n1                   0                0                 0   \n2                   0                0                 0   \n3                   1                0                 0   \n4                   0                1                 0   \n\n   diag_3_Genitourinary  diag_3_Injury  diag_3_Missing  \\\n0                     0              0               1   \n1                     0              0               0   \n2                     0              0               0   \n3                     0              0               0   \n4                     0              0               0   \n\n   diag_3_Musculoskeletal  diag_3_Neoplasms  diag_3_Other  diag_3_Respiratory  \\\n0                       0                 0             0                   0   \n1                       0                 0             1                   0   \n2                       0                 0             1                   0   \n3                       0                 0             0                   0   \n4                       0                 0             0                   0   \n\n   medical_specialty_General Practice  medical_specialty_Internal Medicine  \\\n0                                   0                                    0   \n1                                   0                                    0   \n2                                   0                                    0   \n3                                   0                                    0   \n4                                   0                                    0   \n\n   medical_specialty_Missing  medical_specialty_Others  \\\n0                          0                         1   \n1                          1                         0   \n2                          1                         0   \n3                          1                         0   \n4                          1                         0   \n\n   medical_specialty_Surgery  admission_group_Elective  \\\n0                          0                         0   \n1                          0                         0   \n2                          0                         0   \n3                          0                         0   \n4                          0                         0   \n\n   admission_group_Emergency  admission_group_Newborn  \\\n0                          0                        0   \n1                          1                        0   \n2                          1                        0   \n3                          1                        0   \n4                          1                        0   \n\n   admission_group_Unavailable  \\\n0                            1   \n1                            0   \n2                            0   \n3                            0   \n4                            0   \n\n   discharge_disposition_id_grouped_AMA_StillCare  \\\n0                                               0   \n1                                               0   \n2                                               0   \n3                                               0   \n4                                               0   \n\n   discharge_disposition_id_grouped_EndOfLife  \\\n0                                           0   \n1                                           0   \n2                                           0   \n3                                           0   \n4                                           0   \n\n   discharge_disposition_id_grouped_HomeDischarge  \\\n0                                               0   \n1                                               1   \n2                                               1   \n3                                               1   \n4                                               1   \n\n   discharge_disposition_id_grouped_HomeWFollowUp  \\\n0                                               0   \n1                                               0   \n2                                               0   \n3                                               0   \n4                                               0   \n\n   discharge_disposition_id_grouped_InstitutionalCare  \\\n0                                                  0    \n1                                                  0    \n2                                                  0    \n3                                                  0    \n4                                                  0    \n\n   discharge_disposition_id_grouped_Unknown  admission_source_grouped_Births  \\\n0                                         1                                0   \n1                                         0                                0   \n2                                         0                                0   \n3                                         0                                0   \n4                                         0                                0   \n\n   admission_source_grouped_Data_Issues  \\\n0                                     0   \n1                                     0   \n2                                     0   \n3                                     0   \n4                                     0   \n\n   admission_source_grouped_Emergency_or_Law  \\\n0                                          0   \n1                                          1   \n2                                          1   \n3                                          1   \n4                                          1   \n\n   admission_source_grouped_Referrals  admission_source_grouped_Transfers  \\\n0                                   1                                   0   \n1                                   0                                   0   \n2                                   0                                   0   \n3                                   0                                   0   \n4                                   0                                   0   \n\n   payer_code_labeled  \n0                  17  \n1                  17  \n2                  17  \n3                  17  \n4                  17  ",
      "text/html": "<div>\n<style scoped>\n    .dataframe tbody tr th:only-of-type {\n        vertical-align: middle;\n    }\n\n    .dataframe tbody tr th {\n        vertical-align: top;\n    }\n\n    .dataframe thead th {\n        text-align: right;\n    }\n</style>\n<table border=\"1\" class=\"dataframe\">\n  <thead>\n    <tr style=\"text-align: right;\">\n      <th></th>\n      <th>patient_nbr</th>\n      <th>age</th>\n      <th>time_in_hospital</th>\n      <th>num_lab_procedures</th>\n      <th>num_procedures</th>\n      <th>num_medications</th>\n      <th>number_outpatient</th>\n      <th>number_emergency</th>\n      <th>number_inpatient</th>\n      <th>number_diagnoses</th>\n      <th>max_glu_serum</th>\n      <th>A1Cresult</th>\n      <th>metformin</th>\n      <th>repaglinide</th>\n      <th>nateglinide</th>\n      <th>chlorpropamide</th>\n      <th>glimepiride</th>\n      <th>acetohexamide</th>\n      <th>glipizide</th>\n      <th>glyburide</th>\n      <th>tolbutamide</th>\n      <th>pioglitazone</th>\n      <th>rosiglitazone</th>\n      <th>acarbose</th>\n      <th>miglitol</th>\n      <th>troglitazone</th>\n      <th>tolazamide</th>\n      <th>insulin</th>\n      <th>glyburide-metformin</th>\n      <th>glipizide-metformin</th>\n      <th>glimepiride-pioglitazone</th>\n      <th>metformin-rosiglitazone</th>\n      <th>metformin-pioglitazone</th>\n      <th>change</th>\n      <th>diabetesMed</th>\n      <th>readmitted</th>\n      <th>gender_Female</th>\n      <th>gender_Male</th>\n      <th>gender_Unknown/Invalid</th>\n      <th>race_AfricanAmerican</th>\n      <th>race_Asian</th>\n      <th>race_Caucasian</th>\n      <th>race_Hispanic</th>\n      <th>race_Other</th>\n      <th>race_nan</th>\n      <th>diag_1_Circulatory</th>\n      <th>diag_1_Diabetes</th>\n      <th>diag_1_Digestive</th>\n      <th>diag_1_Genitourinary</th>\n      <th>diag_1_Injury</th>\n      <th>diag_1_Missing</th>\n      <th>diag_1_Musculoskeletal</th>\n      <th>diag_1_Neoplasms</th>\n      <th>diag_1_Other</th>\n      <th>diag_1_Respiratory</th>\n      <th>diag_2_Circulatory</th>\n      <th>diag_2_Diabetes</th>\n      <th>diag_2_Digestive</th>\n      <th>diag_2_Genitourinary</th>\n      <th>diag_2_Injury</th>\n      <th>diag_2_Missing</th>\n      <th>diag_2_Musculoskeletal</th>\n      <th>diag_2_Neoplasms</th>\n      <th>diag_2_Other</th>\n      <th>diag_2_Respiratory</th>\n      <th>diag_3_Circulatory</th>\n      <th>diag_3_Diabetes</th>\n      <th>diag_3_Digestive</th>\n      <th>diag_3_Genitourinary</th>\n      <th>diag_3_Injury</th>\n      <th>diag_3_Missing</th>\n      <th>diag_3_Musculoskeletal</th>\n      <th>diag_3_Neoplasms</th>\n      <th>diag_3_Other</th>\n      <th>diag_3_Respiratory</th>\n      <th>medical_specialty_General Practice</th>\n      <th>medical_specialty_Internal Medicine</th>\n      <th>medical_specialty_Missing</th>\n      <th>medical_specialty_Others</th>\n      <th>medical_specialty_Surgery</th>\n      <th>admission_group_Elective</th>\n      <th>admission_group_Emergency</th>\n      <th>admission_group_Newborn</th>\n      <th>admission_group_Unavailable</th>\n      <th>discharge_disposition_id_grouped_AMA_StillCare</th>\n      <th>discharge_disposition_id_grouped_EndOfLife</th>\n      <th>discharge_disposition_id_grouped_HomeDischarge</th>\n      <th>discharge_disposition_id_grouped_HomeWFollowUp</th>\n      <th>discharge_disposition_id_grouped_InstitutionalCare</th>\n      <th>discharge_disposition_id_grouped_Unknown</th>\n      <th>admission_source_grouped_Births</th>\n      <th>admission_source_grouped_Data_Issues</th>\n      <th>admission_source_grouped_Emergency_or_Law</th>\n      <th>admission_source_grouped_Referrals</th>\n      <th>admission_source_grouped_Transfers</th>\n      <th>payer_code_labeled</th>\n    </tr>\n  </thead>\n  <tbody>\n    <tr>\n      <th>0</th>\n      <td>8222157</td>\n      <td>5</td>\n      <td>1.0</td>\n      <td>41.0</td>\n      <td>0</td>\n      <td>1.0</td>\n      <td>0.0</td>\n      <td>0.0</td>\n      <td>0.0</td>\n      <td>NaN</td>\n      <td>0</td>\n      <td>0</td>\n      <td>0</td>\n      <td>0</td>\n      <td>0</td>\n      <td>0</td>\n      <td>0</td>\n      <td>0</td>\n      <td>0</td>\n      <td>0</td>\n      <td>0</td>\n      <td>0</td>\n      <td>0</td>\n      <td>0</td>\n      <td>0</td>\n      <td>0</td>\n      <td>0</td>\n      <td>0</td>\n      <td>0</td>\n      <td>0</td>\n      <td>0</td>\n      <td>0</td>\n      <td>0</td>\n      <td>0</td>\n      <td>0</td>\n      <td>0</td>\n      <td>1</td>\n      <td>0</td>\n      <td>0</td>\n      <td>0</td>\n      <td>0</td>\n      <td>1</td>\n      <td>0</td>\n      <td>0</td>\n      <td>0</td>\n      <td>0</td>\n      <td>1</td>\n      <td>0</td>\n      <td>0</td>\n      <td>0</td>\n      <td>0</td>\n      <td>0</td>\n      <td>0</td>\n      <td>0</td>\n      <td>0</td>\n      <td>0</td>\n      <td>0</td>\n      <td>0</td>\n      <td>0</td>\n      <td>0</td>\n      <td>1</td>\n      <td>0</td>\n      <td>0</td>\n      <td>0</td>\n      <td>0</td>\n      <td>0</td>\n      <td>0</td>\n      <td>0</td>\n      <td>0</td>\n      <td>0</td>\n      <td>1</td>\n      <td>0</td>\n      <td>0</td>\n      <td>0</td>\n      <td>0</td>\n      <td>0</td>\n      <td>0</td>\n      <td>0</td>\n      <td>1</td>\n      <td>0</td>\n      <td>0</td>\n      <td>0</td>\n      <td>0</td>\n      <td>1</td>\n      <td>0</td>\n      <td>0</td>\n      <td>0</td>\n      <td>0</td>\n      <td>0</td>\n      <td>1</td>\n      <td>0</td>\n      <td>0</td>\n      <td>0</td>\n      <td>1</td>\n      <td>0</td>\n      <td>17</td>\n    </tr>\n    <tr>\n      <th>1</th>\n      <td>55629189</td>\n      <td>15</td>\n      <td>3.0</td>\n      <td>59.0</td>\n      <td>0</td>\n      <td>18.0</td>\n      <td>0.0</td>\n      <td>0.0</td>\n      <td>0.0</td>\n      <td>9.0</td>\n      <td>0</td>\n      <td>0</td>\n      <td>0</td>\n      <td>0</td>\n      <td>0</td>\n      <td>0</td>\n      <td>0</td>\n      <td>0</td>\n      <td>0</td>\n      <td>0</td>\n      <td>0</td>\n      <td>0</td>\n      <td>0</td>\n      <td>0</td>\n      <td>0</td>\n      <td>0</td>\n      <td>0</td>\n      <td>3</td>\n      <td>0</td>\n      <td>0</td>\n      <td>0</td>\n      <td>0</td>\n      <td>0</td>\n      <td>1</td>\n      <td>1</td>\n      <td>0</td>\n      <td>1</td>\n      <td>0</td>\n      <td>0</td>\n      <td>0</td>\n      <td>0</td>\n      <td>1</td>\n      <td>0</td>\n      <td>0</td>\n      <td>0</td>\n      <td>0</td>\n      <td>0</td>\n      <td>0</td>\n      <td>0</td>\n      <td>0</td>\n      <td>0</td>\n      <td>0</td>\n      <td>0</td>\n      <td>1</td>\n      <td>0</td>\n      <td>0</td>\n      <td>1</td>\n      <td>0</td>\n      <td>0</td>\n      <td>0</td>\n      <td>0</td>\n      <td>0</td>\n      <td>0</td>\n      <td>0</td>\n      <td>0</td>\n      <td>0</td>\n      <td>0</td>\n      <td>0</td>\n      <td>0</td>\n      <td>0</td>\n      <td>0</td>\n      <td>0</td>\n      <td>0</td>\n      <td>1</td>\n      <td>0</td>\n      <td>0</td>\n      <td>0</td>\n      <td>1</td>\n      <td>0</td>\n      <td>0</td>\n      <td>0</td>\n      <td>1</td>\n      <td>0</td>\n      <td>0</td>\n      <td>0</td>\n      <td>0</td>\n      <td>1</td>\n      <td>0</td>\n      <td>0</td>\n      <td>0</td>\n      <td>0</td>\n      <td>0</td>\n      <td>1</td>\n      <td>0</td>\n      <td>0</td>\n      <td>17</td>\n    </tr>\n    <tr>\n      <th>2</th>\n      <td>86047875</td>\n      <td>25</td>\n      <td>2.0</td>\n      <td>11.0</td>\n      <td>5</td>\n      <td>13.0</td>\n      <td>2.0</td>\n      <td>0.0</td>\n      <td>1.0</td>\n      <td>6.0</td>\n      <td>0</td>\n      <td>0</td>\n      <td>0</td>\n      <td>0</td>\n      <td>0</td>\n      <td>0</td>\n      <td>0</td>\n      <td>0</td>\n      <td>2</td>\n      <td>0</td>\n      <td>0</td>\n      <td>0</td>\n      <td>0</td>\n      <td>0</td>\n      <td>0</td>\n      <td>0</td>\n      <td>0</td>\n      <td>0</td>\n      <td>0</td>\n      <td>0</td>\n      <td>0</td>\n      <td>0</td>\n      <td>0</td>\n      <td>0</td>\n      <td>1</td>\n      <td>0</td>\n      <td>1</td>\n      <td>0</td>\n      <td>0</td>\n      <td>1</td>\n      <td>0</td>\n      <td>0</td>\n      <td>0</td>\n      <td>0</td>\n      <td>0</td>\n      <td>0</td>\n      <td>0</td>\n      <td>0</td>\n      <td>0</td>\n      <td>0</td>\n      <td>0</td>\n      <td>0</td>\n      <td>0</td>\n      <td>1</td>\n      <td>0</td>\n      <td>0</td>\n      <td>1</td>\n      <td>0</td>\n      <td>0</td>\n      <td>0</td>\n      <td>0</td>\n      <td>0</td>\n      <td>0</td>\n      <td>0</td>\n      <td>0</td>\n      <td>0</td>\n      <td>0</td>\n      <td>0</td>\n      <td>0</td>\n      <td>0</td>\n      <td>0</td>\n      <td>0</td>\n      <td>0</td>\n      <td>1</td>\n      <td>0</td>\n      <td>0</td>\n      <td>0</td>\n      <td>1</td>\n      <td>0</td>\n      <td>0</td>\n      <td>0</td>\n      <td>1</td>\n      <td>0</td>\n      <td>0</td>\n      <td>0</td>\n      <td>0</td>\n      <td>1</td>\n      <td>0</td>\n      <td>0</td>\n      <td>0</td>\n      <td>0</td>\n      <td>0</td>\n      <td>1</td>\n      <td>0</td>\n      <td>0</td>\n      <td>17</td>\n    </tr>\n    <tr>\n      <th>3</th>\n      <td>82442376</td>\n      <td>35</td>\n      <td>2.0</td>\n      <td>44.0</td>\n      <td>1</td>\n      <td>16.0</td>\n      <td>0.0</td>\n      <td>0.0</td>\n      <td>0.0</td>\n      <td>7.0</td>\n      <td>0</td>\n      <td>0</td>\n      <td>0</td>\n      <td>0</td>\n      <td>0</td>\n      <td>0</td>\n      <td>0</td>\n      <td>0</td>\n      <td>0</td>\n      <td>0</td>\n      <td>0</td>\n      <td>0</td>\n      <td>0</td>\n      <td>0</td>\n      <td>0</td>\n      <td>0</td>\n      <td>0</td>\n      <td>3</td>\n      <td>0</td>\n      <td>0</td>\n      <td>0</td>\n      <td>0</td>\n      <td>0</td>\n      <td>1</td>\n      <td>1</td>\n      <td>0</td>\n      <td>0</td>\n      <td>1</td>\n      <td>0</td>\n      <td>0</td>\n      <td>0</td>\n      <td>1</td>\n      <td>0</td>\n      <td>0</td>\n      <td>0</td>\n      <td>0</td>\n      <td>0</td>\n      <td>0</td>\n      <td>0</td>\n      <td>0</td>\n      <td>0</td>\n      <td>0</td>\n      <td>0</td>\n      <td>1</td>\n      <td>0</td>\n      <td>0</td>\n      <td>1</td>\n      <td>0</td>\n      <td>0</td>\n      <td>0</td>\n      <td>0</td>\n      <td>0</td>\n      <td>0</td>\n      <td>0</td>\n      <td>0</td>\n      <td>1</td>\n      <td>0</td>\n      <td>0</td>\n      <td>0</td>\n      <td>0</td>\n      <td>0</td>\n      <td>0</td>\n      <td>0</td>\n      <td>0</td>\n      <td>0</td>\n      <td>0</td>\n      <td>0</td>\n      <td>1</td>\n      <td>0</td>\n      <td>0</td>\n      <td>0</td>\n      <td>1</td>\n      <td>0</td>\n      <td>0</td>\n      <td>0</td>\n      <td>0</td>\n      <td>1</td>\n      <td>0</td>\n      <td>0</td>\n      <td>0</td>\n      <td>0</td>\n      <td>0</td>\n      <td>1</td>\n      <td>0</td>\n      <td>0</td>\n      <td>17</td>\n    </tr>\n    <tr>\n      <th>4</th>\n      <td>42519267</td>\n      <td>45</td>\n      <td>1.0</td>\n      <td>51.0</td>\n      <td>0</td>\n      <td>8.0</td>\n      <td>0.0</td>\n      <td>0.0</td>\n      <td>0.0</td>\n      <td>5.0</td>\n      <td>0</td>\n      <td>0</td>\n      <td>0</td>\n      <td>0</td>\n      <td>0</td>\n      <td>0</td>\n      <td>0</td>\n      <td>0</td>\n      <td>2</td>\n      <td>0</td>\n      <td>0</td>\n      <td>0</td>\n      <td>0</td>\n      <td>0</td>\n      <td>0</td>\n      <td>0</td>\n      <td>0</td>\n      <td>2</td>\n      <td>0</td>\n      <td>0</td>\n      <td>0</td>\n      <td>0</td>\n      <td>0</td>\n      <td>1</td>\n      <td>1</td>\n      <td>0</td>\n      <td>0</td>\n      <td>1</td>\n      <td>0</td>\n      <td>0</td>\n      <td>0</td>\n      <td>1</td>\n      <td>0</td>\n      <td>0</td>\n      <td>0</td>\n      <td>0</td>\n      <td>0</td>\n      <td>0</td>\n      <td>0</td>\n      <td>0</td>\n      <td>0</td>\n      <td>0</td>\n      <td>1</td>\n      <td>0</td>\n      <td>0</td>\n      <td>0</td>\n      <td>0</td>\n      <td>0</td>\n      <td>0</td>\n      <td>0</td>\n      <td>0</td>\n      <td>0</td>\n      <td>1</td>\n      <td>0</td>\n      <td>0</td>\n      <td>0</td>\n      <td>1</td>\n      <td>0</td>\n      <td>0</td>\n      <td>0</td>\n      <td>0</td>\n      <td>0</td>\n      <td>0</td>\n      <td>0</td>\n      <td>0</td>\n      <td>0</td>\n      <td>0</td>\n      <td>1</td>\n      <td>0</td>\n      <td>0</td>\n      <td>0</td>\n      <td>1</td>\n      <td>0</td>\n      <td>0</td>\n      <td>0</td>\n      <td>0</td>\n      <td>1</td>\n      <td>0</td>\n      <td>0</td>\n      <td>0</td>\n      <td>0</td>\n      <td>0</td>\n      <td>1</td>\n      <td>0</td>\n      <td>0</td>\n      <td>17</td>\n    </tr>\n  </tbody>\n</table>\n</div>"
     },
     "execution_count": 62,
     "metadata": {},
     "output_type": "execute_result"
    }
   ],
   "source": [
    "for key in data_encoded.loc[:,'time_in_hospital':'number_diagnoses'].keys():\n",
    "    data_encoded[key] = data_encoded[key][(np.abs(stats.zscore(data_encoded[key])) < 3)]\n",
    "data_encoded.head()"
   ],
   "metadata": {
    "collapsed": false,
    "ExecuteTime": {
     "end_time": "2024-05-02T12:41:49.678539100Z",
     "start_time": "2024-05-02T12:41:49.511585900Z"
    }
   },
   "execution_count": 62
  },
  {
   "cell_type": "code",
   "outputs": [
    {
     "data": {
      "text/plain": "        patient_nbr   age  time_in_hospital  num_lab_procedures  \\\n0         8222157.0   5.0               1.0                41.0   \n1        55629189.0  15.0               3.0                59.0   \n2        86047875.0  25.0               2.0                11.0   \n3        82442376.0  35.0               2.0                44.0   \n4        42519267.0  45.0               1.0                51.0   \n...             ...   ...               ...                 ...   \n101761  100162476.0  75.0               3.0                51.0   \n101762   74694222.0  85.0               5.0                33.0   \n101763   41088789.0  75.0               1.0                53.0   \n101764   31693671.0  85.0              10.0                45.0   \n101765  175429310.0  75.0               6.0                13.0   \n\n        num_procedures  num_medications  number_outpatient  number_emergency  \\\n0                  0.0              1.0                0.0               0.0   \n1                  0.0             18.0                0.0               0.0   \n2                  5.0             13.0                2.0               0.0   \n3                  1.0             16.0                0.0               0.0   \n4                  0.0              8.0                0.0               0.0   \n...                ...              ...                ...               ...   \n101761             0.0             16.0                0.0               0.0   \n101762             3.0             18.0                0.0               0.0   \n101763             0.0              9.0                1.0               0.0   \n101764             2.0             21.0                0.0               0.0   \n101765             3.0              3.0                0.0               0.0   \n\n        number_inpatient  number_diagnoses  max_glu_serum  A1Cresult  \\\n0                    0.0          7.431463            0.0        0.0   \n1                    0.0          9.000000            0.0        0.0   \n2                    1.0          6.000000            0.0        0.0   \n3                    0.0          7.000000            0.0        0.0   \n4                    0.0          5.000000            0.0        0.0   \n...                  ...               ...            ...        ...   \n101761               0.0          9.000000            0.0        3.0   \n101762               1.0          9.000000            0.0        0.0   \n101763               0.0         13.000000            0.0        0.0   \n101764               1.0          9.000000            0.0        0.0   \n101765               0.0          9.000000            0.0        0.0   \n\n        metformin  repaglinide  nateglinide  chlorpropamide  glimepiride  \\\n0             0.0          0.0          0.0             0.0          0.0   \n1             0.0          0.0          0.0             0.0          0.0   \n2             0.0          0.0          0.0             0.0          0.0   \n3             0.0          0.0          0.0             0.0          0.0   \n4             0.0          0.0          0.0             0.0          0.0   \n...           ...          ...          ...             ...          ...   \n101761        2.0          0.0          0.0             0.0          0.0   \n101762        0.0          0.0          0.0             0.0          0.0   \n101763        2.0          0.0          0.0             0.0          0.0   \n101764        0.0          0.0          0.0             0.0          0.0   \n101765        0.0          0.0          0.0             0.0          0.0   \n\n        acetohexamide  glipizide  glyburide  tolbutamide  pioglitazone  \\\n0                 0.0        0.0        0.0          0.0           0.0   \n1                 0.0        0.0        0.0          0.0           0.0   \n2                 0.0        2.0        0.0          0.0           0.0   \n3                 0.0        0.0        0.0          0.0           0.0   \n4                 0.0        2.0        0.0          0.0           0.0   \n...               ...        ...        ...          ...           ...   \n101761            0.0        0.0        0.0          0.0           0.0   \n101762            0.0        0.0        0.0          0.0           0.0   \n101763            0.0        0.0        0.0          0.0           0.0   \n101764            0.0        2.0        0.0          0.0           2.0   \n101765            0.0        0.0        0.0          0.0           0.0   \n\n        rosiglitazone  acarbose  miglitol  troglitazone  tolazamide  insulin  \\\n0                 0.0       0.0       0.0           0.0         0.0      0.0   \n1                 0.0       0.0       0.0           0.0         0.0      3.0   \n2                 0.0       0.0       0.0           0.0         0.0      0.0   \n3                 0.0       0.0       0.0           0.0         0.0      3.0   \n4                 0.0       0.0       0.0           0.0         0.0      2.0   \n...               ...       ...       ...           ...         ...      ...   \n101761            0.0       0.0       0.0           0.0         0.0      1.0   \n101762            0.0       0.0       0.0           0.0         0.0      2.0   \n101763            0.0       0.0       0.0           0.0         0.0      1.0   \n101764            0.0       0.0       0.0           0.0         0.0      3.0   \n101765            0.0       0.0       0.0           0.0         0.0      0.0   \n\n        glyburide-metformin  glipizide-metformin  glimepiride-pioglitazone  \\\n0                       0.0                  0.0                       0.0   \n1                       0.0                  0.0                       0.0   \n2                       0.0                  0.0                       0.0   \n3                       0.0                  0.0                       0.0   \n4                       0.0                  0.0                       0.0   \n...                     ...                  ...                       ...   \n101761                  0.0                  0.0                       0.0   \n101762                  0.0                  0.0                       0.0   \n101763                  0.0                  0.0                       0.0   \n101764                  0.0                  0.0                       0.0   \n101765                  0.0                  0.0                       0.0   \n\n        metformin-rosiglitazone  metformin-pioglitazone  change  diabetesMed  \\\n0                           0.0                     0.0     0.0          0.0   \n1                           0.0                     0.0     1.0          1.0   \n2                           0.0                     0.0     0.0          1.0   \n3                           0.0                     0.0     1.0          1.0   \n4                           0.0                     0.0     1.0          1.0   \n...                         ...                     ...     ...          ...   \n101761                      0.0                     0.0     1.0          1.0   \n101762                      0.0                     0.0     0.0          1.0   \n101763                      0.0                     0.0     1.0          1.0   \n101764                      0.0                     0.0     1.0          1.0   \n101765                      0.0                     0.0     0.0          0.0   \n\n        readmitted  gender_Female  gender_Male  gender_Unknown/Invalid  \\\n0              0.0            1.0          0.0                     0.0   \n1              0.0            1.0          0.0                     0.0   \n2              0.0            1.0          0.0                     0.0   \n3              0.0            0.0          1.0                     0.0   \n4              0.0            0.0          1.0                     0.0   \n...            ...            ...          ...                     ...   \n101761         0.0            0.0          1.0                     0.0   \n101762         0.0            1.0          0.0                     0.0   \n101763         0.0            0.0          1.0                     0.0   \n101764         0.0            1.0          0.0                     0.0   \n101765         0.0            0.0          1.0                     0.0   \n\n        race_AfricanAmerican  race_Asian  race_Caucasian  race_Hispanic  \\\n0                        0.0         0.0             1.0            0.0   \n1                        0.0         0.0             1.0            0.0   \n2                        1.0         0.0             0.0            0.0   \n3                        0.0         0.0             1.0            0.0   \n4                        0.0         0.0             1.0            0.0   \n...                      ...         ...             ...            ...   \n101761                   1.0         0.0             0.0            0.0   \n101762                   1.0         0.0             0.0            0.0   \n101763                   0.0         0.0             1.0            0.0   \n101764                   0.0         0.0             1.0            0.0   \n101765                   0.0         0.0             1.0            0.0   \n\n        race_Other  race_nan  diag_1_Circulatory  diag_1_Diabetes  \\\n0              0.0       0.0                 0.0              1.0   \n1              0.0       0.0                 0.0              0.0   \n2              0.0       0.0                 0.0              0.0   \n3              0.0       0.0                 0.0              0.0   \n4              0.0       0.0                 0.0              0.0   \n...            ...       ...                 ...              ...   \n101761         0.0       0.0                 0.0              1.0   \n101762         0.0       0.0                 0.0              0.0   \n101763         0.0       0.0                 0.0              0.0   \n101764         0.0       0.0                 0.0              0.0   \n101765         0.0       0.0                 0.0              0.0   \n\n        diag_1_Digestive  diag_1_Genitourinary  diag_1_Injury  diag_1_Missing  \\\n0                    0.0                   0.0            0.0             0.0   \n1                    0.0                   0.0            0.0             0.0   \n2                    0.0                   0.0            0.0             0.0   \n3                    0.0                   0.0            0.0             0.0   \n4                    0.0                   0.0            0.0             0.0   \n...                  ...                   ...            ...             ...   \n101761               0.0                   0.0            0.0             0.0   \n101762               1.0                   0.0            0.0             0.0   \n101763               0.0                   0.0            0.0             0.0   \n101764               0.0                   0.0            1.0             0.0   \n101765               1.0                   0.0            0.0             0.0   \n\n        diag_1_Musculoskeletal  diag_1_Neoplasms  diag_1_Other  \\\n0                          0.0               0.0           0.0   \n1                          0.0               0.0           1.0   \n2                          0.0               0.0           1.0   \n3                          0.0               0.0           1.0   \n4                          0.0               1.0           0.0   \n...                        ...               ...           ...   \n101761                     0.0               0.0           0.0   \n101762                     0.0               0.0           0.0   \n101763                     0.0               0.0           1.0   \n101764                     0.0               0.0           0.0   \n101765                     0.0               0.0           0.0   \n\n        diag_1_Respiratory  diag_2_Circulatory  diag_2_Diabetes  \\\n0                      0.0                 0.0              0.0   \n1                      0.0                 0.0              1.0   \n2                      0.0                 0.0              1.0   \n3                      0.0                 0.0              1.0   \n4                      0.0                 0.0              0.0   \n...                    ...                 ...              ...   \n101761                 0.0                 0.0              0.0   \n101762                 0.0                 0.0              0.0   \n101763                 0.0                 0.0              0.0   \n101764                 0.0                 0.0              0.0   \n101765                 0.0                 0.0              0.0   \n\n        diag_2_Digestive  diag_2_Genitourinary  diag_2_Injury  diag_2_Missing  \\\n0                    0.0                   0.0            0.0             1.0   \n1                    0.0                   0.0            0.0             0.0   \n2                    0.0                   0.0            0.0             0.0   \n3                    0.0                   0.0            0.0             0.0   \n4                    0.0                   0.0            0.0             0.0   \n...                  ...                   ...            ...             ...   \n101761               0.0                   0.0            0.0             0.0   \n101762               0.0                   0.0            0.0             0.0   \n101763               0.0                   1.0            0.0             0.0   \n101764               0.0                   0.0            0.0             0.0   \n101765               1.0                   0.0            0.0             0.0   \n\n        diag_2_Musculoskeletal  diag_2_Neoplasms  diag_2_Other  \\\n0                          0.0               0.0           0.0   \n1                          0.0               0.0           0.0   \n2                          0.0               0.0           0.0   \n3                          0.0               0.0           0.0   \n4                          0.0               1.0           0.0   \n...                        ...               ...           ...   \n101761                     0.0               0.0           1.0   \n101762                     0.0               0.0           1.0   \n101763                     0.0               0.0           0.0   \n101764                     0.0               0.0           1.0   \n101765                     0.0               0.0           0.0   \n\n        diag_2_Respiratory  diag_3_Circulatory  diag_3_Diabetes  \\\n0                      0.0                 0.0              0.0   \n1                      0.0                 0.0              0.0   \n2                      0.0                 0.0              0.0   \n3                      0.0                 1.0              0.0   \n4                      0.0                 0.0              1.0   \n...                    ...                 ...              ...   \n101761                 0.0                 1.0              0.0   \n101762                 0.0                 0.0              0.0   \n101763                 0.0                 0.0              0.0   \n101764                 0.0                 0.0              0.0   \n101765                 0.0                 0.0              0.0   \n\n        diag_3_Digestive  diag_3_Genitourinary  diag_3_Injury  diag_3_Missing  \\\n0                    0.0                   0.0            0.0             1.0   \n1                    0.0                   0.0            0.0             0.0   \n2                    0.0                   0.0            0.0             0.0   \n3                    0.0                   0.0            0.0             0.0   \n4                    0.0                   0.0            0.0             0.0   \n...                  ...                   ...            ...             ...   \n101761               0.0                   0.0            0.0             0.0   \n101762               1.0                   0.0            0.0             0.0   \n101763               0.0                   0.0            0.0             0.0   \n101764               0.0                   0.0            1.0             0.0   \n101765               1.0                   0.0            0.0             0.0   \n\n        diag_3_Musculoskeletal  diag_3_Neoplasms  diag_3_Other  \\\n0                          0.0               0.0           0.0   \n1                          0.0               0.0           1.0   \n2                          0.0               0.0           1.0   \n3                          0.0               0.0           0.0   \n4                          0.0               0.0           0.0   \n...                        ...               ...           ...   \n101761                     0.0               0.0           0.0   \n101762                     0.0               0.0           0.0   \n101763                     0.0               0.0           1.0   \n101764                     0.0               0.0           0.0   \n101765                     0.0               0.0           0.0   \n\n        diag_3_Respiratory  medical_specialty_General Practice  \\\n0                      0.0                                 0.0   \n1                      0.0                                 0.0   \n2                      0.0                                 0.0   \n3                      0.0                                 0.0   \n4                      0.0                                 0.0   \n...                    ...                                 ...   \n101761                 0.0                                 0.0   \n101762                 0.0                                 0.0   \n101763                 0.0                                 0.0   \n101764                 0.0                                 0.0   \n101765                 0.0                                 0.0   \n\n        medical_specialty_Internal Medicine  medical_specialty_Missing  \\\n0                                       0.0                        0.0   \n1                                       0.0                        1.0   \n2                                       0.0                        1.0   \n3                                       0.0                        1.0   \n4                                       0.0                        1.0   \n...                                     ...                        ...   \n101761                                  0.0                        1.0   \n101762                                  0.0                        1.0   \n101763                                  0.0                        1.0   \n101764                                  0.0                        0.0   \n101765                                  0.0                        1.0   \n\n        medical_specialty_Others  medical_specialty_Surgery  \\\n0                            1.0                        0.0   \n1                            0.0                        0.0   \n2                            0.0                        0.0   \n3                            0.0                        0.0   \n4                            0.0                        0.0   \n...                          ...                        ...   \n101761                       0.0                        0.0   \n101762                       0.0                        0.0   \n101763                       0.0                        0.0   \n101764                       0.0                        1.0   \n101765                       0.0                        0.0   \n\n        admission_group_Elective  admission_group_Emergency  \\\n0                            0.0                        0.0   \n1                            0.0                        1.0   \n2                            0.0                        1.0   \n3                            0.0                        1.0   \n4                            0.0                        1.0   \n...                          ...                        ...   \n101761                       0.0                        1.0   \n101762                       0.0                        1.0   \n101763                       0.0                        1.0   \n101764                       0.0                        1.0   \n101765                       0.0                        1.0   \n\n        admission_group_Newborn  admission_group_Unavailable  \\\n0                           0.0                          1.0   \n1                           0.0                          0.0   \n2                           0.0                          0.0   \n3                           0.0                          0.0   \n4                           0.0                          0.0   \n...                         ...                          ...   \n101761                      0.0                          0.0   \n101762                      0.0                          0.0   \n101763                      0.0                          0.0   \n101764                      0.0                          0.0   \n101765                      0.0                          0.0   \n\n        discharge_disposition_id_grouped_AMA_StillCare  \\\n0                                                  0.0   \n1                                                  0.0   \n2                                                  0.0   \n3                                                  0.0   \n4                                                  0.0   \n...                                                ...   \n101761                                             0.0   \n101762                                             0.0   \n101763                                             0.0   \n101764                                             0.0   \n101765                                             0.0   \n\n        discharge_disposition_id_grouped_EndOfLife  \\\n0                                              0.0   \n1                                              0.0   \n2                                              0.0   \n3                                              0.0   \n4                                              0.0   \n...                                            ...   \n101761                                         0.0   \n101762                                         0.0   \n101763                                         0.0   \n101764                                         0.0   \n101765                                         0.0   \n\n        discharge_disposition_id_grouped_HomeDischarge  \\\n0                                                  0.0   \n1                                                  1.0   \n2                                                  1.0   \n3                                                  1.0   \n4                                                  1.0   \n...                                                ...   \n101761                                             0.0   \n101762                                             0.0   \n101763                                             1.0   \n101764                                             0.0   \n101765                                             1.0   \n\n        discharge_disposition_id_grouped_HomeWFollowUp  \\\n0                                                  0.0   \n1                                                  0.0   \n2                                                  0.0   \n3                                                  0.0   \n4                                                  0.0   \n...                                                ...   \n101761                                             0.0   \n101762                                             0.0   \n101763                                             0.0   \n101764                                             0.0   \n101765                                             0.0   \n\n        discharge_disposition_id_grouped_InstitutionalCare  \\\n0                                                     0.0    \n1                                                     0.0    \n2                                                     0.0    \n3                                                     0.0    \n4                                                     0.0    \n...                                                   ...    \n101761                                                1.0    \n101762                                                1.0    \n101763                                                0.0    \n101764                                                1.0    \n101765                                                0.0    \n\n        discharge_disposition_id_grouped_Unknown  \\\n0                                            1.0   \n1                                            0.0   \n2                                            0.0   \n3                                            0.0   \n4                                            0.0   \n...                                          ...   \n101761                                       0.0   \n101762                                       0.0   \n101763                                       0.0   \n101764                                       0.0   \n101765                                       0.0   \n\n        admission_source_grouped_Births  admission_source_grouped_Data_Issues  \\\n0                                   0.0                                   0.0   \n1                                   0.0                                   0.0   \n2                                   0.0                                   0.0   \n3                                   0.0                                   0.0   \n4                                   0.0                                   0.0   \n...                                 ...                                   ...   \n101761                              0.0                                   0.0   \n101762                              0.0                                   0.0   \n101763                              0.0                                   0.0   \n101764                              0.0                                   0.0   \n101765                              0.0                                   0.0   \n\n        admission_source_grouped_Emergency_or_Law  \\\n0                                             0.0   \n1                                             1.0   \n2                                             1.0   \n3                                             1.0   \n4                                             1.0   \n...                                           ...   \n101761                                        1.0   \n101762                                        0.0   \n101763                                        1.0   \n101764                                        1.0   \n101765                                        1.0   \n\n        admission_source_grouped_Referrals  \\\n0                                      1.0   \n1                                      0.0   \n2                                      0.0   \n3                                      0.0   \n4                                      0.0   \n...                                    ...   \n101761                                 0.0   \n101762                                 0.0   \n101763                                 0.0   \n101764                                 0.0   \n101765                                 0.0   \n\n        admission_source_grouped_Transfers  payer_code_labeled  \n0                                      0.0                17.0  \n1                                      0.0                17.0  \n2                                      0.0                17.0  \n3                                      0.0                17.0  \n4                                      0.0                17.0  \n...                                    ...                 ...  \n101761                                 0.0                 7.0  \n101762                                 1.0                 7.0  \n101763                                 0.0                 7.0  \n101764                                 0.0                 7.0  \n101765                                 0.0                17.0  \n\n[101766 rows x 96 columns]",
      "text/html": "<div>\n<style scoped>\n    .dataframe tbody tr th:only-of-type {\n        vertical-align: middle;\n    }\n\n    .dataframe tbody tr th {\n        vertical-align: top;\n    }\n\n    .dataframe thead th {\n        text-align: right;\n    }\n</style>\n<table border=\"1\" class=\"dataframe\">\n  <thead>\n    <tr style=\"text-align: right;\">\n      <th></th>\n      <th>patient_nbr</th>\n      <th>age</th>\n      <th>time_in_hospital</th>\n      <th>num_lab_procedures</th>\n      <th>num_procedures</th>\n      <th>num_medications</th>\n      <th>number_outpatient</th>\n      <th>number_emergency</th>\n      <th>number_inpatient</th>\n      <th>number_diagnoses</th>\n      <th>max_glu_serum</th>\n      <th>A1Cresult</th>\n      <th>metformin</th>\n      <th>repaglinide</th>\n      <th>nateglinide</th>\n      <th>chlorpropamide</th>\n      <th>glimepiride</th>\n      <th>acetohexamide</th>\n      <th>glipizide</th>\n      <th>glyburide</th>\n      <th>tolbutamide</th>\n      <th>pioglitazone</th>\n      <th>rosiglitazone</th>\n      <th>acarbose</th>\n      <th>miglitol</th>\n      <th>troglitazone</th>\n      <th>tolazamide</th>\n      <th>insulin</th>\n      <th>glyburide-metformin</th>\n      <th>glipizide-metformin</th>\n      <th>glimepiride-pioglitazone</th>\n      <th>metformin-rosiglitazone</th>\n      <th>metformin-pioglitazone</th>\n      <th>change</th>\n      <th>diabetesMed</th>\n      <th>readmitted</th>\n      <th>gender_Female</th>\n      <th>gender_Male</th>\n      <th>gender_Unknown/Invalid</th>\n      <th>race_AfricanAmerican</th>\n      <th>race_Asian</th>\n      <th>race_Caucasian</th>\n      <th>race_Hispanic</th>\n      <th>race_Other</th>\n      <th>race_nan</th>\n      <th>diag_1_Circulatory</th>\n      <th>diag_1_Diabetes</th>\n      <th>diag_1_Digestive</th>\n      <th>diag_1_Genitourinary</th>\n      <th>diag_1_Injury</th>\n      <th>diag_1_Missing</th>\n      <th>diag_1_Musculoskeletal</th>\n      <th>diag_1_Neoplasms</th>\n      <th>diag_1_Other</th>\n      <th>diag_1_Respiratory</th>\n      <th>diag_2_Circulatory</th>\n      <th>diag_2_Diabetes</th>\n      <th>diag_2_Digestive</th>\n      <th>diag_2_Genitourinary</th>\n      <th>diag_2_Injury</th>\n      <th>diag_2_Missing</th>\n      <th>diag_2_Musculoskeletal</th>\n      <th>diag_2_Neoplasms</th>\n      <th>diag_2_Other</th>\n      <th>diag_2_Respiratory</th>\n      <th>diag_3_Circulatory</th>\n      <th>diag_3_Diabetes</th>\n      <th>diag_3_Digestive</th>\n      <th>diag_3_Genitourinary</th>\n      <th>diag_3_Injury</th>\n      <th>diag_3_Missing</th>\n      <th>diag_3_Musculoskeletal</th>\n      <th>diag_3_Neoplasms</th>\n      <th>diag_3_Other</th>\n      <th>diag_3_Respiratory</th>\n      <th>medical_specialty_General Practice</th>\n      <th>medical_specialty_Internal Medicine</th>\n      <th>medical_specialty_Missing</th>\n      <th>medical_specialty_Others</th>\n      <th>medical_specialty_Surgery</th>\n      <th>admission_group_Elective</th>\n      <th>admission_group_Emergency</th>\n      <th>admission_group_Newborn</th>\n      <th>admission_group_Unavailable</th>\n      <th>discharge_disposition_id_grouped_AMA_StillCare</th>\n      <th>discharge_disposition_id_grouped_EndOfLife</th>\n      <th>discharge_disposition_id_grouped_HomeDischarge</th>\n      <th>discharge_disposition_id_grouped_HomeWFollowUp</th>\n      <th>discharge_disposition_id_grouped_InstitutionalCare</th>\n      <th>discharge_disposition_id_grouped_Unknown</th>\n      <th>admission_source_grouped_Births</th>\n      <th>admission_source_grouped_Data_Issues</th>\n      <th>admission_source_grouped_Emergency_or_Law</th>\n      <th>admission_source_grouped_Referrals</th>\n      <th>admission_source_grouped_Transfers</th>\n      <th>payer_code_labeled</th>\n    </tr>\n  </thead>\n  <tbody>\n    <tr>\n      <th>0</th>\n      <td>8222157.0</td>\n      <td>5.0</td>\n      <td>1.0</td>\n      <td>41.0</td>\n      <td>0.0</td>\n      <td>1.0</td>\n      <td>0.0</td>\n      <td>0.0</td>\n      <td>0.0</td>\n      <td>7.431463</td>\n      <td>0.0</td>\n      <td>0.0</td>\n      <td>0.0</td>\n      <td>0.0</td>\n      <td>0.0</td>\n      <td>0.0</td>\n      <td>0.0</td>\n      <td>0.0</td>\n      <td>0.0</td>\n      <td>0.0</td>\n      <td>0.0</td>\n      <td>0.0</td>\n      <td>0.0</td>\n      <td>0.0</td>\n      <td>0.0</td>\n      <td>0.0</td>\n      <td>0.0</td>\n      <td>0.0</td>\n      <td>0.0</td>\n      <td>0.0</td>\n      <td>0.0</td>\n      <td>0.0</td>\n      <td>0.0</td>\n      <td>0.0</td>\n      <td>0.0</td>\n      <td>0.0</td>\n      <td>1.0</td>\n      <td>0.0</td>\n      <td>0.0</td>\n      <td>0.0</td>\n      <td>0.0</td>\n      <td>1.0</td>\n      <td>0.0</td>\n      <td>0.0</td>\n      <td>0.0</td>\n      <td>0.0</td>\n      <td>1.0</td>\n      <td>0.0</td>\n      <td>0.0</td>\n      <td>0.0</td>\n      <td>0.0</td>\n      <td>0.0</td>\n      <td>0.0</td>\n      <td>0.0</td>\n      <td>0.0</td>\n      <td>0.0</td>\n      <td>0.0</td>\n      <td>0.0</td>\n      <td>0.0</td>\n      <td>0.0</td>\n      <td>1.0</td>\n      <td>0.0</td>\n      <td>0.0</td>\n      <td>0.0</td>\n      <td>0.0</td>\n      <td>0.0</td>\n      <td>0.0</td>\n      <td>0.0</td>\n      <td>0.0</td>\n      <td>0.0</td>\n      <td>1.0</td>\n      <td>0.0</td>\n      <td>0.0</td>\n      <td>0.0</td>\n      <td>0.0</td>\n      <td>0.0</td>\n      <td>0.0</td>\n      <td>0.0</td>\n      <td>1.0</td>\n      <td>0.0</td>\n      <td>0.0</td>\n      <td>0.0</td>\n      <td>0.0</td>\n      <td>1.0</td>\n      <td>0.0</td>\n      <td>0.0</td>\n      <td>0.0</td>\n      <td>0.0</td>\n      <td>0.0</td>\n      <td>1.0</td>\n      <td>0.0</td>\n      <td>0.0</td>\n      <td>0.0</td>\n      <td>1.0</td>\n      <td>0.0</td>\n      <td>17.0</td>\n    </tr>\n    <tr>\n      <th>1</th>\n      <td>55629189.0</td>\n      <td>15.0</td>\n      <td>3.0</td>\n      <td>59.0</td>\n      <td>0.0</td>\n      <td>18.0</td>\n      <td>0.0</td>\n      <td>0.0</td>\n      <td>0.0</td>\n      <td>9.000000</td>\n      <td>0.0</td>\n      <td>0.0</td>\n      <td>0.0</td>\n      <td>0.0</td>\n      <td>0.0</td>\n      <td>0.0</td>\n      <td>0.0</td>\n      <td>0.0</td>\n      <td>0.0</td>\n      <td>0.0</td>\n      <td>0.0</td>\n      <td>0.0</td>\n      <td>0.0</td>\n      <td>0.0</td>\n      <td>0.0</td>\n      <td>0.0</td>\n      <td>0.0</td>\n      <td>3.0</td>\n      <td>0.0</td>\n      <td>0.0</td>\n      <td>0.0</td>\n      <td>0.0</td>\n      <td>0.0</td>\n      <td>1.0</td>\n      <td>1.0</td>\n      <td>0.0</td>\n      <td>1.0</td>\n      <td>0.0</td>\n      <td>0.0</td>\n      <td>0.0</td>\n      <td>0.0</td>\n      <td>1.0</td>\n      <td>0.0</td>\n      <td>0.0</td>\n      <td>0.0</td>\n      <td>0.0</td>\n      <td>0.0</td>\n      <td>0.0</td>\n      <td>0.0</td>\n      <td>0.0</td>\n      <td>0.0</td>\n      <td>0.0</td>\n      <td>0.0</td>\n      <td>1.0</td>\n      <td>0.0</td>\n      <td>0.0</td>\n      <td>1.0</td>\n      <td>0.0</td>\n      <td>0.0</td>\n      <td>0.0</td>\n      <td>0.0</td>\n      <td>0.0</td>\n      <td>0.0</td>\n      <td>0.0</td>\n      <td>0.0</td>\n      <td>0.0</td>\n      <td>0.0</td>\n      <td>0.0</td>\n      <td>0.0</td>\n      <td>0.0</td>\n      <td>0.0</td>\n      <td>0.0</td>\n      <td>0.0</td>\n      <td>1.0</td>\n      <td>0.0</td>\n      <td>0.0</td>\n      <td>0.0</td>\n      <td>1.0</td>\n      <td>0.0</td>\n      <td>0.0</td>\n      <td>0.0</td>\n      <td>1.0</td>\n      <td>0.0</td>\n      <td>0.0</td>\n      <td>0.0</td>\n      <td>0.0</td>\n      <td>1.0</td>\n      <td>0.0</td>\n      <td>0.0</td>\n      <td>0.0</td>\n      <td>0.0</td>\n      <td>0.0</td>\n      <td>1.0</td>\n      <td>0.0</td>\n      <td>0.0</td>\n      <td>17.0</td>\n    </tr>\n    <tr>\n      <th>2</th>\n      <td>86047875.0</td>\n      <td>25.0</td>\n      <td>2.0</td>\n      <td>11.0</td>\n      <td>5.0</td>\n      <td>13.0</td>\n      <td>2.0</td>\n      <td>0.0</td>\n      <td>1.0</td>\n      <td>6.000000</td>\n      <td>0.0</td>\n      <td>0.0</td>\n      <td>0.0</td>\n      <td>0.0</td>\n      <td>0.0</td>\n      <td>0.0</td>\n      <td>0.0</td>\n      <td>0.0</td>\n      <td>2.0</td>\n      <td>0.0</td>\n      <td>0.0</td>\n      <td>0.0</td>\n      <td>0.0</td>\n      <td>0.0</td>\n      <td>0.0</td>\n      <td>0.0</td>\n      <td>0.0</td>\n      <td>0.0</td>\n      <td>0.0</td>\n      <td>0.0</td>\n      <td>0.0</td>\n      <td>0.0</td>\n      <td>0.0</td>\n      <td>0.0</td>\n      <td>1.0</td>\n      <td>0.0</td>\n      <td>1.0</td>\n      <td>0.0</td>\n      <td>0.0</td>\n      <td>1.0</td>\n      <td>0.0</td>\n      <td>0.0</td>\n      <td>0.0</td>\n      <td>0.0</td>\n      <td>0.0</td>\n      <td>0.0</td>\n      <td>0.0</td>\n      <td>0.0</td>\n      <td>0.0</td>\n      <td>0.0</td>\n      <td>0.0</td>\n      <td>0.0</td>\n      <td>0.0</td>\n      <td>1.0</td>\n      <td>0.0</td>\n      <td>0.0</td>\n      <td>1.0</td>\n      <td>0.0</td>\n      <td>0.0</td>\n      <td>0.0</td>\n      <td>0.0</td>\n      <td>0.0</td>\n      <td>0.0</td>\n      <td>0.0</td>\n      <td>0.0</td>\n      <td>0.0</td>\n      <td>0.0</td>\n      <td>0.0</td>\n      <td>0.0</td>\n      <td>0.0</td>\n      <td>0.0</td>\n      <td>0.0</td>\n      <td>0.0</td>\n      <td>1.0</td>\n      <td>0.0</td>\n      <td>0.0</td>\n      <td>0.0</td>\n      <td>1.0</td>\n      <td>0.0</td>\n      <td>0.0</td>\n      <td>0.0</td>\n      <td>1.0</td>\n      <td>0.0</td>\n      <td>0.0</td>\n      <td>0.0</td>\n      <td>0.0</td>\n      <td>1.0</td>\n      <td>0.0</td>\n      <td>0.0</td>\n      <td>0.0</td>\n      <td>0.0</td>\n      <td>0.0</td>\n      <td>1.0</td>\n      <td>0.0</td>\n      <td>0.0</td>\n      <td>17.0</td>\n    </tr>\n    <tr>\n      <th>3</th>\n      <td>82442376.0</td>\n      <td>35.0</td>\n      <td>2.0</td>\n      <td>44.0</td>\n      <td>1.0</td>\n      <td>16.0</td>\n      <td>0.0</td>\n      <td>0.0</td>\n      <td>0.0</td>\n      <td>7.000000</td>\n      <td>0.0</td>\n      <td>0.0</td>\n      <td>0.0</td>\n      <td>0.0</td>\n      <td>0.0</td>\n      <td>0.0</td>\n      <td>0.0</td>\n      <td>0.0</td>\n      <td>0.0</td>\n      <td>0.0</td>\n      <td>0.0</td>\n      <td>0.0</td>\n      <td>0.0</td>\n      <td>0.0</td>\n      <td>0.0</td>\n      <td>0.0</td>\n      <td>0.0</td>\n      <td>3.0</td>\n      <td>0.0</td>\n      <td>0.0</td>\n      <td>0.0</td>\n      <td>0.0</td>\n      <td>0.0</td>\n      <td>1.0</td>\n      <td>1.0</td>\n      <td>0.0</td>\n      <td>0.0</td>\n      <td>1.0</td>\n      <td>0.0</td>\n      <td>0.0</td>\n      <td>0.0</td>\n      <td>1.0</td>\n      <td>0.0</td>\n      <td>0.0</td>\n      <td>0.0</td>\n      <td>0.0</td>\n      <td>0.0</td>\n      <td>0.0</td>\n      <td>0.0</td>\n      <td>0.0</td>\n      <td>0.0</td>\n      <td>0.0</td>\n      <td>0.0</td>\n      <td>1.0</td>\n      <td>0.0</td>\n      <td>0.0</td>\n      <td>1.0</td>\n      <td>0.0</td>\n      <td>0.0</td>\n      <td>0.0</td>\n      <td>0.0</td>\n      <td>0.0</td>\n      <td>0.0</td>\n      <td>0.0</td>\n      <td>0.0</td>\n      <td>1.0</td>\n      <td>0.0</td>\n      <td>0.0</td>\n      <td>0.0</td>\n      <td>0.0</td>\n      <td>0.0</td>\n      <td>0.0</td>\n      <td>0.0</td>\n      <td>0.0</td>\n      <td>0.0</td>\n      <td>0.0</td>\n      <td>0.0</td>\n      <td>1.0</td>\n      <td>0.0</td>\n      <td>0.0</td>\n      <td>0.0</td>\n      <td>1.0</td>\n      <td>0.0</td>\n      <td>0.0</td>\n      <td>0.0</td>\n      <td>0.0</td>\n      <td>1.0</td>\n      <td>0.0</td>\n      <td>0.0</td>\n      <td>0.0</td>\n      <td>0.0</td>\n      <td>0.0</td>\n      <td>1.0</td>\n      <td>0.0</td>\n      <td>0.0</td>\n      <td>17.0</td>\n    </tr>\n    <tr>\n      <th>4</th>\n      <td>42519267.0</td>\n      <td>45.0</td>\n      <td>1.0</td>\n      <td>51.0</td>\n      <td>0.0</td>\n      <td>8.0</td>\n      <td>0.0</td>\n      <td>0.0</td>\n      <td>0.0</td>\n      <td>5.000000</td>\n      <td>0.0</td>\n      <td>0.0</td>\n      <td>0.0</td>\n      <td>0.0</td>\n      <td>0.0</td>\n      <td>0.0</td>\n      <td>0.0</td>\n      <td>0.0</td>\n      <td>2.0</td>\n      <td>0.0</td>\n      <td>0.0</td>\n      <td>0.0</td>\n      <td>0.0</td>\n      <td>0.0</td>\n      <td>0.0</td>\n      <td>0.0</td>\n      <td>0.0</td>\n      <td>2.0</td>\n      <td>0.0</td>\n      <td>0.0</td>\n      <td>0.0</td>\n      <td>0.0</td>\n      <td>0.0</td>\n      <td>1.0</td>\n      <td>1.0</td>\n      <td>0.0</td>\n      <td>0.0</td>\n      <td>1.0</td>\n      <td>0.0</td>\n      <td>0.0</td>\n      <td>0.0</td>\n      <td>1.0</td>\n      <td>0.0</td>\n      <td>0.0</td>\n      <td>0.0</td>\n      <td>0.0</td>\n      <td>0.0</td>\n      <td>0.0</td>\n      <td>0.0</td>\n      <td>0.0</td>\n      <td>0.0</td>\n      <td>0.0</td>\n      <td>1.0</td>\n      <td>0.0</td>\n      <td>0.0</td>\n      <td>0.0</td>\n      <td>0.0</td>\n      <td>0.0</td>\n      <td>0.0</td>\n      <td>0.0</td>\n      <td>0.0</td>\n      <td>0.0</td>\n      <td>1.0</td>\n      <td>0.0</td>\n      <td>0.0</td>\n      <td>0.0</td>\n      <td>1.0</td>\n      <td>0.0</td>\n      <td>0.0</td>\n      <td>0.0</td>\n      <td>0.0</td>\n      <td>0.0</td>\n      <td>0.0</td>\n      <td>0.0</td>\n      <td>0.0</td>\n      <td>0.0</td>\n      <td>0.0</td>\n      <td>1.0</td>\n      <td>0.0</td>\n      <td>0.0</td>\n      <td>0.0</td>\n      <td>1.0</td>\n      <td>0.0</td>\n      <td>0.0</td>\n      <td>0.0</td>\n      <td>0.0</td>\n      <td>1.0</td>\n      <td>0.0</td>\n      <td>0.0</td>\n      <td>0.0</td>\n      <td>0.0</td>\n      <td>0.0</td>\n      <td>1.0</td>\n      <td>0.0</td>\n      <td>0.0</td>\n      <td>17.0</td>\n    </tr>\n    <tr>\n      <th>...</th>\n      <td>...</td>\n      <td>...</td>\n      <td>...</td>\n      <td>...</td>\n      <td>...</td>\n      <td>...</td>\n      <td>...</td>\n      <td>...</td>\n      <td>...</td>\n      <td>...</td>\n      <td>...</td>\n      <td>...</td>\n      <td>...</td>\n      <td>...</td>\n      <td>...</td>\n      <td>...</td>\n      <td>...</td>\n      <td>...</td>\n      <td>...</td>\n      <td>...</td>\n      <td>...</td>\n      <td>...</td>\n      <td>...</td>\n      <td>...</td>\n      <td>...</td>\n      <td>...</td>\n      <td>...</td>\n      <td>...</td>\n      <td>...</td>\n      <td>...</td>\n      <td>...</td>\n      <td>...</td>\n      <td>...</td>\n      <td>...</td>\n      <td>...</td>\n      <td>...</td>\n      <td>...</td>\n      <td>...</td>\n      <td>...</td>\n      <td>...</td>\n      <td>...</td>\n      <td>...</td>\n      <td>...</td>\n      <td>...</td>\n      <td>...</td>\n      <td>...</td>\n      <td>...</td>\n      <td>...</td>\n      <td>...</td>\n      <td>...</td>\n      <td>...</td>\n      <td>...</td>\n      <td>...</td>\n      <td>...</td>\n      <td>...</td>\n      <td>...</td>\n      <td>...</td>\n      <td>...</td>\n      <td>...</td>\n      <td>...</td>\n      <td>...</td>\n      <td>...</td>\n      <td>...</td>\n      <td>...</td>\n      <td>...</td>\n      <td>...</td>\n      <td>...</td>\n      <td>...</td>\n      <td>...</td>\n      <td>...</td>\n      <td>...</td>\n      <td>...</td>\n      <td>...</td>\n      <td>...</td>\n      <td>...</td>\n      <td>...</td>\n      <td>...</td>\n      <td>...</td>\n      <td>...</td>\n      <td>...</td>\n      <td>...</td>\n      <td>...</td>\n      <td>...</td>\n      <td>...</td>\n      <td>...</td>\n      <td>...</td>\n      <td>...</td>\n      <td>...</td>\n      <td>...</td>\n      <td>...</td>\n      <td>...</td>\n      <td>...</td>\n      <td>...</td>\n      <td>...</td>\n      <td>...</td>\n      <td>...</td>\n    </tr>\n    <tr>\n      <th>101761</th>\n      <td>100162476.0</td>\n      <td>75.0</td>\n      <td>3.0</td>\n      <td>51.0</td>\n      <td>0.0</td>\n      <td>16.0</td>\n      <td>0.0</td>\n      <td>0.0</td>\n      <td>0.0</td>\n      <td>9.000000</td>\n      <td>0.0</td>\n      <td>3.0</td>\n      <td>2.0</td>\n      <td>0.0</td>\n      <td>0.0</td>\n      <td>0.0</td>\n      <td>0.0</td>\n      <td>0.0</td>\n      <td>0.0</td>\n      <td>0.0</td>\n      <td>0.0</td>\n      <td>0.0</td>\n      <td>0.0</td>\n      <td>0.0</td>\n      <td>0.0</td>\n      <td>0.0</td>\n      <td>0.0</td>\n      <td>1.0</td>\n      <td>0.0</td>\n      <td>0.0</td>\n      <td>0.0</td>\n      <td>0.0</td>\n      <td>0.0</td>\n      <td>1.0</td>\n      <td>1.0</td>\n      <td>0.0</td>\n      <td>0.0</td>\n      <td>1.0</td>\n      <td>0.0</td>\n      <td>1.0</td>\n      <td>0.0</td>\n      <td>0.0</td>\n      <td>0.0</td>\n      <td>0.0</td>\n      <td>0.0</td>\n      <td>0.0</td>\n      <td>1.0</td>\n      <td>0.0</td>\n      <td>0.0</td>\n      <td>0.0</td>\n      <td>0.0</td>\n      <td>0.0</td>\n      <td>0.0</td>\n      <td>0.0</td>\n      <td>0.0</td>\n      <td>0.0</td>\n      <td>0.0</td>\n      <td>0.0</td>\n      <td>0.0</td>\n      <td>0.0</td>\n      <td>0.0</td>\n      <td>0.0</td>\n      <td>0.0</td>\n      <td>1.0</td>\n      <td>0.0</td>\n      <td>1.0</td>\n      <td>0.0</td>\n      <td>0.0</td>\n      <td>0.0</td>\n      <td>0.0</td>\n      <td>0.0</td>\n      <td>0.0</td>\n      <td>0.0</td>\n      <td>0.0</td>\n      <td>0.0</td>\n      <td>0.0</td>\n      <td>0.0</td>\n      <td>1.0</td>\n      <td>0.0</td>\n      <td>0.0</td>\n      <td>0.0</td>\n      <td>1.0</td>\n      <td>0.0</td>\n      <td>0.0</td>\n      <td>0.0</td>\n      <td>0.0</td>\n      <td>0.0</td>\n      <td>0.0</td>\n      <td>1.0</td>\n      <td>0.0</td>\n      <td>0.0</td>\n      <td>0.0</td>\n      <td>1.0</td>\n      <td>0.0</td>\n      <td>0.0</td>\n      <td>7.0</td>\n    </tr>\n    <tr>\n      <th>101762</th>\n      <td>74694222.0</td>\n      <td>85.0</td>\n      <td>5.0</td>\n      <td>33.0</td>\n      <td>3.0</td>\n      <td>18.0</td>\n      <td>0.0</td>\n      <td>0.0</td>\n      <td>1.0</td>\n      <td>9.000000</td>\n      <td>0.0</td>\n      <td>0.0</td>\n      <td>0.0</td>\n      <td>0.0</td>\n      <td>0.0</td>\n      <td>0.0</td>\n      <td>0.0</td>\n      <td>0.0</td>\n      <td>0.0</td>\n      <td>0.0</td>\n      <td>0.0</td>\n      <td>0.0</td>\n      <td>0.0</td>\n      <td>0.0</td>\n      <td>0.0</td>\n      <td>0.0</td>\n      <td>0.0</td>\n      <td>2.0</td>\n      <td>0.0</td>\n      <td>0.0</td>\n      <td>0.0</td>\n      <td>0.0</td>\n      <td>0.0</td>\n      <td>0.0</td>\n      <td>1.0</td>\n      <td>0.0</td>\n      <td>1.0</td>\n      <td>0.0</td>\n      <td>0.0</td>\n      <td>1.0</td>\n      <td>0.0</td>\n      <td>0.0</td>\n      <td>0.0</td>\n      <td>0.0</td>\n      <td>0.0</td>\n      <td>0.0</td>\n      <td>0.0</td>\n      <td>1.0</td>\n      <td>0.0</td>\n      <td>0.0</td>\n      <td>0.0</td>\n      <td>0.0</td>\n      <td>0.0</td>\n      <td>0.0</td>\n      <td>0.0</td>\n      <td>0.0</td>\n      <td>0.0</td>\n      <td>0.0</td>\n      <td>0.0</td>\n      <td>0.0</td>\n      <td>0.0</td>\n      <td>0.0</td>\n      <td>0.0</td>\n      <td>1.0</td>\n      <td>0.0</td>\n      <td>0.0</td>\n      <td>0.0</td>\n      <td>1.0</td>\n      <td>0.0</td>\n      <td>0.0</td>\n      <td>0.0</td>\n      <td>0.0</td>\n      <td>0.0</td>\n      <td>0.0</td>\n      <td>0.0</td>\n      <td>0.0</td>\n      <td>0.0</td>\n      <td>1.0</td>\n      <td>0.0</td>\n      <td>0.0</td>\n      <td>0.0</td>\n      <td>1.0</td>\n      <td>0.0</td>\n      <td>0.0</td>\n      <td>0.0</td>\n      <td>0.0</td>\n      <td>0.0</td>\n      <td>0.0</td>\n      <td>1.0</td>\n      <td>0.0</td>\n      <td>0.0</td>\n      <td>0.0</td>\n      <td>0.0</td>\n      <td>0.0</td>\n      <td>1.0</td>\n      <td>7.0</td>\n    </tr>\n    <tr>\n      <th>101763</th>\n      <td>41088789.0</td>\n      <td>75.0</td>\n      <td>1.0</td>\n      <td>53.0</td>\n      <td>0.0</td>\n      <td>9.0</td>\n      <td>1.0</td>\n      <td>0.0</td>\n      <td>0.0</td>\n      <td>13.000000</td>\n      <td>0.0</td>\n      <td>0.0</td>\n      <td>2.0</td>\n      <td>0.0</td>\n      <td>0.0</td>\n      <td>0.0</td>\n      <td>0.0</td>\n      <td>0.0</td>\n      <td>0.0</td>\n      <td>0.0</td>\n      <td>0.0</td>\n      <td>0.0</td>\n      <td>0.0</td>\n      <td>0.0</td>\n      <td>0.0</td>\n      <td>0.0</td>\n      <td>0.0</td>\n      <td>1.0</td>\n      <td>0.0</td>\n      <td>0.0</td>\n      <td>0.0</td>\n      <td>0.0</td>\n      <td>0.0</td>\n      <td>1.0</td>\n      <td>1.0</td>\n      <td>0.0</td>\n      <td>0.0</td>\n      <td>1.0</td>\n      <td>0.0</td>\n      <td>0.0</td>\n      <td>0.0</td>\n      <td>1.0</td>\n      <td>0.0</td>\n      <td>0.0</td>\n      <td>0.0</td>\n      <td>0.0</td>\n      <td>0.0</td>\n      <td>0.0</td>\n      <td>0.0</td>\n      <td>0.0</td>\n      <td>0.0</td>\n      <td>0.0</td>\n      <td>0.0</td>\n      <td>1.0</td>\n      <td>0.0</td>\n      <td>0.0</td>\n      <td>0.0</td>\n      <td>0.0</td>\n      <td>1.0</td>\n      <td>0.0</td>\n      <td>0.0</td>\n      <td>0.0</td>\n      <td>0.0</td>\n      <td>0.0</td>\n      <td>0.0</td>\n      <td>0.0</td>\n      <td>0.0</td>\n      <td>0.0</td>\n      <td>0.0</td>\n      <td>0.0</td>\n      <td>0.0</td>\n      <td>0.0</td>\n      <td>0.0</td>\n      <td>1.0</td>\n      <td>0.0</td>\n      <td>0.0</td>\n      <td>0.0</td>\n      <td>1.0</td>\n      <td>0.0</td>\n      <td>0.0</td>\n      <td>0.0</td>\n      <td>1.0</td>\n      <td>0.0</td>\n      <td>0.0</td>\n      <td>0.0</td>\n      <td>0.0</td>\n      <td>1.0</td>\n      <td>0.0</td>\n      <td>0.0</td>\n      <td>0.0</td>\n      <td>0.0</td>\n      <td>0.0</td>\n      <td>1.0</td>\n      <td>0.0</td>\n      <td>0.0</td>\n      <td>7.0</td>\n    </tr>\n    <tr>\n      <th>101764</th>\n      <td>31693671.0</td>\n      <td>85.0</td>\n      <td>10.0</td>\n      <td>45.0</td>\n      <td>2.0</td>\n      <td>21.0</td>\n      <td>0.0</td>\n      <td>0.0</td>\n      <td>1.0</td>\n      <td>9.000000</td>\n      <td>0.0</td>\n      <td>0.0</td>\n      <td>0.0</td>\n      <td>0.0</td>\n      <td>0.0</td>\n      <td>0.0</td>\n      <td>0.0</td>\n      <td>0.0</td>\n      <td>2.0</td>\n      <td>0.0</td>\n      <td>0.0</td>\n      <td>2.0</td>\n      <td>0.0</td>\n      <td>0.0</td>\n      <td>0.0</td>\n      <td>0.0</td>\n      <td>0.0</td>\n      <td>3.0</td>\n      <td>0.0</td>\n      <td>0.0</td>\n      <td>0.0</td>\n      <td>0.0</td>\n      <td>0.0</td>\n      <td>1.0</td>\n      <td>1.0</td>\n      <td>0.0</td>\n      <td>1.0</td>\n      <td>0.0</td>\n      <td>0.0</td>\n      <td>0.0</td>\n      <td>0.0</td>\n      <td>1.0</td>\n      <td>0.0</td>\n      <td>0.0</td>\n      <td>0.0</td>\n      <td>0.0</td>\n      <td>0.0</td>\n      <td>0.0</td>\n      <td>0.0</td>\n      <td>1.0</td>\n      <td>0.0</td>\n      <td>0.0</td>\n      <td>0.0</td>\n      <td>0.0</td>\n      <td>0.0</td>\n      <td>0.0</td>\n      <td>0.0</td>\n      <td>0.0</td>\n      <td>0.0</td>\n      <td>0.0</td>\n      <td>0.0</td>\n      <td>0.0</td>\n      <td>0.0</td>\n      <td>1.0</td>\n      <td>0.0</td>\n      <td>0.0</td>\n      <td>0.0</td>\n      <td>0.0</td>\n      <td>0.0</td>\n      <td>1.0</td>\n      <td>0.0</td>\n      <td>0.0</td>\n      <td>0.0</td>\n      <td>0.0</td>\n      <td>0.0</td>\n      <td>0.0</td>\n      <td>0.0</td>\n      <td>0.0</td>\n      <td>0.0</td>\n      <td>1.0</td>\n      <td>0.0</td>\n      <td>1.0</td>\n      <td>0.0</td>\n      <td>0.0</td>\n      <td>0.0</td>\n      <td>0.0</td>\n      <td>0.0</td>\n      <td>0.0</td>\n      <td>1.0</td>\n      <td>0.0</td>\n      <td>0.0</td>\n      <td>0.0</td>\n      <td>1.0</td>\n      <td>0.0</td>\n      <td>0.0</td>\n      <td>7.0</td>\n    </tr>\n    <tr>\n      <th>101765</th>\n      <td>175429310.0</td>\n      <td>75.0</td>\n      <td>6.0</td>\n      <td>13.0</td>\n      <td>3.0</td>\n      <td>3.0</td>\n      <td>0.0</td>\n      <td>0.0</td>\n      <td>0.0</td>\n      <td>9.000000</td>\n      <td>0.0</td>\n      <td>0.0</td>\n      <td>0.0</td>\n      <td>0.0</td>\n      <td>0.0</td>\n      <td>0.0</td>\n      <td>0.0</td>\n      <td>0.0</td>\n      <td>0.0</td>\n      <td>0.0</td>\n      <td>0.0</td>\n      <td>0.0</td>\n      <td>0.0</td>\n      <td>0.0</td>\n      <td>0.0</td>\n      <td>0.0</td>\n      <td>0.0</td>\n      <td>0.0</td>\n      <td>0.0</td>\n      <td>0.0</td>\n      <td>0.0</td>\n      <td>0.0</td>\n      <td>0.0</td>\n      <td>0.0</td>\n      <td>0.0</td>\n      <td>0.0</td>\n      <td>0.0</td>\n      <td>1.0</td>\n      <td>0.0</td>\n      <td>0.0</td>\n      <td>0.0</td>\n      <td>1.0</td>\n      <td>0.0</td>\n      <td>0.0</td>\n      <td>0.0</td>\n      <td>0.0</td>\n      <td>0.0</td>\n      <td>1.0</td>\n      <td>0.0</td>\n      <td>0.0</td>\n      <td>0.0</td>\n      <td>0.0</td>\n      <td>0.0</td>\n      <td>0.0</td>\n      <td>0.0</td>\n      <td>0.0</td>\n      <td>0.0</td>\n      <td>1.0</td>\n      <td>0.0</td>\n      <td>0.0</td>\n      <td>0.0</td>\n      <td>0.0</td>\n      <td>0.0</td>\n      <td>0.0</td>\n      <td>0.0</td>\n      <td>0.0</td>\n      <td>0.0</td>\n      <td>1.0</td>\n      <td>0.0</td>\n      <td>0.0</td>\n      <td>0.0</td>\n      <td>0.0</td>\n      <td>0.0</td>\n      <td>0.0</td>\n      <td>0.0</td>\n      <td>0.0</td>\n      <td>0.0</td>\n      <td>1.0</td>\n      <td>0.0</td>\n      <td>0.0</td>\n      <td>0.0</td>\n      <td>1.0</td>\n      <td>0.0</td>\n      <td>0.0</td>\n      <td>0.0</td>\n      <td>0.0</td>\n      <td>1.0</td>\n      <td>0.0</td>\n      <td>0.0</td>\n      <td>0.0</td>\n      <td>0.0</td>\n      <td>0.0</td>\n      <td>1.0</td>\n      <td>0.0</td>\n      <td>0.0</td>\n      <td>17.0</td>\n    </tr>\n  </tbody>\n</table>\n<p>101766 rows × 96 columns</p>\n</div>"
     },
     "execution_count": 63,
     "metadata": {},
     "output_type": "execute_result"
    }
   ],
   "source": [
    "imp = SimpleImputer(missing_values=np.nan, strategy='mean')\n",
    "data_imputed = data_encoded.copy()\n",
    "data_imputed[data_encoded.columns] = imp.fit_transform(data_encoded)\n",
    "data_imputed"
   ],
   "metadata": {
    "collapsed": false,
    "ExecuteTime": {
     "end_time": "2024-05-02T12:41:50.033715700Z",
     "start_time": "2024-05-02T12:41:49.585805Z"
    }
   },
   "execution_count": 63
  },
  {
   "cell_type": "code",
   "outputs": [
    {
     "data": {
      "text/plain": "   patient_nbr       age  time_in_hospital  num_lab_procedures  \\\n0    8222157.0  0.000000          0.000000            0.396040   \n1   55629189.0  0.111111          0.166667            0.574257   \n2   86047875.0  0.222222          0.083333            0.099010   \n3   82442376.0  0.333333          0.083333            0.425743   \n4   42519267.0  0.444444          0.000000            0.495050   \n\n   num_procedures  num_medications  number_outpatient  number_emergency  \\\n0        0.000000         0.000000                0.0               0.0   \n1        0.000000         0.435897                0.0               0.0   \n2        0.833333         0.307692                0.5               0.0   \n3        0.166667         0.384615                0.0               0.0   \n4        0.000000         0.179487                0.0               0.0   \n\n   number_inpatient  number_diagnoses  max_glu_serum  A1Cresult  metformin  \\\n0              0.00          0.493769            0.0        0.0        0.0   \n1              0.00          0.636364            0.0        0.0        0.0   \n2              0.25          0.363636            0.0        0.0        0.0   \n3              0.00          0.454545            0.0        0.0        0.0   \n4              0.00          0.272727            0.0        0.0        0.0   \n\n   repaglinide  nateglinide  chlorpropamide  glimepiride  acetohexamide  \\\n0          0.0          0.0             0.0          0.0            0.0   \n1          0.0          0.0             0.0          0.0            0.0   \n2          0.0          0.0             0.0          0.0            0.0   \n3          0.0          0.0             0.0          0.0            0.0   \n4          0.0          0.0             0.0          0.0            0.0   \n\n   glipizide  glyburide  tolbutamide  pioglitazone  rosiglitazone  acarbose  \\\n0        0.0        0.0          0.0           0.0            0.0       0.0   \n1        0.0        0.0          0.0           0.0            0.0       0.0   \n2        2.0        0.0          0.0           0.0            0.0       0.0   \n3        0.0        0.0          0.0           0.0            0.0       0.0   \n4        2.0        0.0          0.0           0.0            0.0       0.0   \n\n   miglitol  troglitazone  tolazamide  insulin  glyburide-metformin  \\\n0       0.0           0.0         0.0      0.0                  0.0   \n1       0.0           0.0         0.0      3.0                  0.0   \n2       0.0           0.0         0.0      0.0                  0.0   \n3       0.0           0.0         0.0      3.0                  0.0   \n4       0.0           0.0         0.0      2.0                  0.0   \n\n   glipizide-metformin  glimepiride-pioglitazone  metformin-rosiglitazone  \\\n0                  0.0                       0.0                      0.0   \n1                  0.0                       0.0                      0.0   \n2                  0.0                       0.0                      0.0   \n3                  0.0                       0.0                      0.0   \n4                  0.0                       0.0                      0.0   \n\n   metformin-pioglitazone  change  diabetesMed  readmitted  gender_Female  \\\n0                     0.0     0.0          0.0         0.0            1.0   \n1                     0.0     1.0          1.0         0.0            1.0   \n2                     0.0     0.0          1.0         0.0            1.0   \n3                     0.0     1.0          1.0         0.0            0.0   \n4                     0.0     1.0          1.0         0.0            0.0   \n\n   gender_Male  gender_Unknown/Invalid  race_AfricanAmerican  race_Asian  \\\n0          0.0                     0.0                   0.0         0.0   \n1          0.0                     0.0                   0.0         0.0   \n2          0.0                     0.0                   1.0         0.0   \n3          1.0                     0.0                   0.0         0.0   \n4          1.0                     0.0                   0.0         0.0   \n\n   race_Caucasian  race_Hispanic  race_Other  race_nan  diag_1_Circulatory  \\\n0             1.0            0.0         0.0       0.0                 0.0   \n1             1.0            0.0         0.0       0.0                 0.0   \n2             0.0            0.0         0.0       0.0                 0.0   \n3             1.0            0.0         0.0       0.0                 0.0   \n4             1.0            0.0         0.0       0.0                 0.0   \n\n   diag_1_Diabetes  diag_1_Digestive  diag_1_Genitourinary  diag_1_Injury  \\\n0              1.0               0.0                   0.0            0.0   \n1              0.0               0.0                   0.0            0.0   \n2              0.0               0.0                   0.0            0.0   \n3              0.0               0.0                   0.0            0.0   \n4              0.0               0.0                   0.0            0.0   \n\n   diag_1_Missing  diag_1_Musculoskeletal  diag_1_Neoplasms  diag_1_Other  \\\n0             0.0                     0.0               0.0           0.0   \n1             0.0                     0.0               0.0           1.0   \n2             0.0                     0.0               0.0           1.0   \n3             0.0                     0.0               0.0           1.0   \n4             0.0                     0.0               1.0           0.0   \n\n   diag_1_Respiratory  diag_2_Circulatory  diag_2_Diabetes  diag_2_Digestive  \\\n0                 0.0                 0.0              0.0               0.0   \n1                 0.0                 0.0              1.0               0.0   \n2                 0.0                 0.0              1.0               0.0   \n3                 0.0                 0.0              1.0               0.0   \n4                 0.0                 0.0              0.0               0.0   \n\n   diag_2_Genitourinary  diag_2_Injury  diag_2_Missing  \\\n0                   0.0            0.0             1.0   \n1                   0.0            0.0             0.0   \n2                   0.0            0.0             0.0   \n3                   0.0            0.0             0.0   \n4                   0.0            0.0             0.0   \n\n   diag_2_Musculoskeletal  diag_2_Neoplasms  diag_2_Other  diag_2_Respiratory  \\\n0                     0.0               0.0           0.0                 0.0   \n1                     0.0               0.0           0.0                 0.0   \n2                     0.0               0.0           0.0                 0.0   \n3                     0.0               0.0           0.0                 0.0   \n4                     0.0               1.0           0.0                 0.0   \n\n   diag_3_Circulatory  diag_3_Diabetes  diag_3_Digestive  \\\n0                 0.0              0.0               0.0   \n1                 0.0              0.0               0.0   \n2                 0.0              0.0               0.0   \n3                 1.0              0.0               0.0   \n4                 0.0              1.0               0.0   \n\n   diag_3_Genitourinary  diag_3_Injury  diag_3_Missing  \\\n0                   0.0            0.0             1.0   \n1                   0.0            0.0             0.0   \n2                   0.0            0.0             0.0   \n3                   0.0            0.0             0.0   \n4                   0.0            0.0             0.0   \n\n   diag_3_Musculoskeletal  diag_3_Neoplasms  diag_3_Other  diag_3_Respiratory  \\\n0                     0.0               0.0           0.0                 0.0   \n1                     0.0               0.0           1.0                 0.0   \n2                     0.0               0.0           1.0                 0.0   \n3                     0.0               0.0           0.0                 0.0   \n4                     0.0               0.0           0.0                 0.0   \n\n   medical_specialty_General Practice  medical_specialty_Internal Medicine  \\\n0                                 0.0                                  0.0   \n1                                 0.0                                  0.0   \n2                                 0.0                                  0.0   \n3                                 0.0                                  0.0   \n4                                 0.0                                  0.0   \n\n   medical_specialty_Missing  medical_specialty_Others  \\\n0                        0.0                       1.0   \n1                        1.0                       0.0   \n2                        1.0                       0.0   \n3                        1.0                       0.0   \n4                        1.0                       0.0   \n\n   medical_specialty_Surgery  admission_group_Elective  \\\n0                        0.0                       0.0   \n1                        0.0                       0.0   \n2                        0.0                       0.0   \n3                        0.0                       0.0   \n4                        0.0                       0.0   \n\n   admission_group_Emergency  admission_group_Newborn  \\\n0                        0.0                      0.0   \n1                        1.0                      0.0   \n2                        1.0                      0.0   \n3                        1.0                      0.0   \n4                        1.0                      0.0   \n\n   admission_group_Unavailable  \\\n0                          1.0   \n1                          0.0   \n2                          0.0   \n3                          0.0   \n4                          0.0   \n\n   discharge_disposition_id_grouped_AMA_StillCare  \\\n0                                             0.0   \n1                                             0.0   \n2                                             0.0   \n3                                             0.0   \n4                                             0.0   \n\n   discharge_disposition_id_grouped_EndOfLife  \\\n0                                         0.0   \n1                                         0.0   \n2                                         0.0   \n3                                         0.0   \n4                                         0.0   \n\n   discharge_disposition_id_grouped_HomeDischarge  \\\n0                                             0.0   \n1                                             1.0   \n2                                             1.0   \n3                                             1.0   \n4                                             1.0   \n\n   discharge_disposition_id_grouped_HomeWFollowUp  \\\n0                                             0.0   \n1                                             0.0   \n2                                             0.0   \n3                                             0.0   \n4                                             0.0   \n\n   discharge_disposition_id_grouped_InstitutionalCare  \\\n0                                                0.0    \n1                                                0.0    \n2                                                0.0    \n3                                                0.0    \n4                                                0.0    \n\n   discharge_disposition_id_grouped_Unknown  admission_source_grouped_Births  \\\n0                                       1.0                              0.0   \n1                                       0.0                              0.0   \n2                                       0.0                              0.0   \n3                                       0.0                              0.0   \n4                                       0.0                              0.0   \n\n   admission_source_grouped_Data_Issues  \\\n0                                   0.0   \n1                                   0.0   \n2                                   0.0   \n3                                   0.0   \n4                                   0.0   \n\n   admission_source_grouped_Emergency_or_Law  \\\n0                                        0.0   \n1                                        1.0   \n2                                        1.0   \n3                                        1.0   \n4                                        1.0   \n\n   admission_source_grouped_Referrals  admission_source_grouped_Transfers  \\\n0                                 1.0                                 0.0   \n1                                 0.0                                 0.0   \n2                                 0.0                                 0.0   \n3                                 0.0                                 0.0   \n4                                 0.0                                 0.0   \n\n   payer_code_labeled  \n0                17.0  \n1                17.0  \n2                17.0  \n3                17.0  \n4                17.0  ",
      "text/html": "<div>\n<style scoped>\n    .dataframe tbody tr th:only-of-type {\n        vertical-align: middle;\n    }\n\n    .dataframe tbody tr th {\n        vertical-align: top;\n    }\n\n    .dataframe thead th {\n        text-align: right;\n    }\n</style>\n<table border=\"1\" class=\"dataframe\">\n  <thead>\n    <tr style=\"text-align: right;\">\n      <th></th>\n      <th>patient_nbr</th>\n      <th>age</th>\n      <th>time_in_hospital</th>\n      <th>num_lab_procedures</th>\n      <th>num_procedures</th>\n      <th>num_medications</th>\n      <th>number_outpatient</th>\n      <th>number_emergency</th>\n      <th>number_inpatient</th>\n      <th>number_diagnoses</th>\n      <th>max_glu_serum</th>\n      <th>A1Cresult</th>\n      <th>metformin</th>\n      <th>repaglinide</th>\n      <th>nateglinide</th>\n      <th>chlorpropamide</th>\n      <th>glimepiride</th>\n      <th>acetohexamide</th>\n      <th>glipizide</th>\n      <th>glyburide</th>\n      <th>tolbutamide</th>\n      <th>pioglitazone</th>\n      <th>rosiglitazone</th>\n      <th>acarbose</th>\n      <th>miglitol</th>\n      <th>troglitazone</th>\n      <th>tolazamide</th>\n      <th>insulin</th>\n      <th>glyburide-metformin</th>\n      <th>glipizide-metformin</th>\n      <th>glimepiride-pioglitazone</th>\n      <th>metformin-rosiglitazone</th>\n      <th>metformin-pioglitazone</th>\n      <th>change</th>\n      <th>diabetesMed</th>\n      <th>readmitted</th>\n      <th>gender_Female</th>\n      <th>gender_Male</th>\n      <th>gender_Unknown/Invalid</th>\n      <th>race_AfricanAmerican</th>\n      <th>race_Asian</th>\n      <th>race_Caucasian</th>\n      <th>race_Hispanic</th>\n      <th>race_Other</th>\n      <th>race_nan</th>\n      <th>diag_1_Circulatory</th>\n      <th>diag_1_Diabetes</th>\n      <th>diag_1_Digestive</th>\n      <th>diag_1_Genitourinary</th>\n      <th>diag_1_Injury</th>\n      <th>diag_1_Missing</th>\n      <th>diag_1_Musculoskeletal</th>\n      <th>diag_1_Neoplasms</th>\n      <th>diag_1_Other</th>\n      <th>diag_1_Respiratory</th>\n      <th>diag_2_Circulatory</th>\n      <th>diag_2_Diabetes</th>\n      <th>diag_2_Digestive</th>\n      <th>diag_2_Genitourinary</th>\n      <th>diag_2_Injury</th>\n      <th>diag_2_Missing</th>\n      <th>diag_2_Musculoskeletal</th>\n      <th>diag_2_Neoplasms</th>\n      <th>diag_2_Other</th>\n      <th>diag_2_Respiratory</th>\n      <th>diag_3_Circulatory</th>\n      <th>diag_3_Diabetes</th>\n      <th>diag_3_Digestive</th>\n      <th>diag_3_Genitourinary</th>\n      <th>diag_3_Injury</th>\n      <th>diag_3_Missing</th>\n      <th>diag_3_Musculoskeletal</th>\n      <th>diag_3_Neoplasms</th>\n      <th>diag_3_Other</th>\n      <th>diag_3_Respiratory</th>\n      <th>medical_specialty_General Practice</th>\n      <th>medical_specialty_Internal Medicine</th>\n      <th>medical_specialty_Missing</th>\n      <th>medical_specialty_Others</th>\n      <th>medical_specialty_Surgery</th>\n      <th>admission_group_Elective</th>\n      <th>admission_group_Emergency</th>\n      <th>admission_group_Newborn</th>\n      <th>admission_group_Unavailable</th>\n      <th>discharge_disposition_id_grouped_AMA_StillCare</th>\n      <th>discharge_disposition_id_grouped_EndOfLife</th>\n      <th>discharge_disposition_id_grouped_HomeDischarge</th>\n      <th>discharge_disposition_id_grouped_HomeWFollowUp</th>\n      <th>discharge_disposition_id_grouped_InstitutionalCare</th>\n      <th>discharge_disposition_id_grouped_Unknown</th>\n      <th>admission_source_grouped_Births</th>\n      <th>admission_source_grouped_Data_Issues</th>\n      <th>admission_source_grouped_Emergency_or_Law</th>\n      <th>admission_source_grouped_Referrals</th>\n      <th>admission_source_grouped_Transfers</th>\n      <th>payer_code_labeled</th>\n    </tr>\n  </thead>\n  <tbody>\n    <tr>\n      <th>0</th>\n      <td>8222157.0</td>\n      <td>0.000000</td>\n      <td>0.000000</td>\n      <td>0.396040</td>\n      <td>0.000000</td>\n      <td>0.000000</td>\n      <td>0.0</td>\n      <td>0.0</td>\n      <td>0.00</td>\n      <td>0.493769</td>\n      <td>0.0</td>\n      <td>0.0</td>\n      <td>0.0</td>\n      <td>0.0</td>\n      <td>0.0</td>\n      <td>0.0</td>\n      <td>0.0</td>\n      <td>0.0</td>\n      <td>0.0</td>\n      <td>0.0</td>\n      <td>0.0</td>\n      <td>0.0</td>\n      <td>0.0</td>\n      <td>0.0</td>\n      <td>0.0</td>\n      <td>0.0</td>\n      <td>0.0</td>\n      <td>0.0</td>\n      <td>0.0</td>\n      <td>0.0</td>\n      <td>0.0</td>\n      <td>0.0</td>\n      <td>0.0</td>\n      <td>0.0</td>\n      <td>0.0</td>\n      <td>0.0</td>\n      <td>1.0</td>\n      <td>0.0</td>\n      <td>0.0</td>\n      <td>0.0</td>\n      <td>0.0</td>\n      <td>1.0</td>\n      <td>0.0</td>\n      <td>0.0</td>\n      <td>0.0</td>\n      <td>0.0</td>\n      <td>1.0</td>\n      <td>0.0</td>\n      <td>0.0</td>\n      <td>0.0</td>\n      <td>0.0</td>\n      <td>0.0</td>\n      <td>0.0</td>\n      <td>0.0</td>\n      <td>0.0</td>\n      <td>0.0</td>\n      <td>0.0</td>\n      <td>0.0</td>\n      <td>0.0</td>\n      <td>0.0</td>\n      <td>1.0</td>\n      <td>0.0</td>\n      <td>0.0</td>\n      <td>0.0</td>\n      <td>0.0</td>\n      <td>0.0</td>\n      <td>0.0</td>\n      <td>0.0</td>\n      <td>0.0</td>\n      <td>0.0</td>\n      <td>1.0</td>\n      <td>0.0</td>\n      <td>0.0</td>\n      <td>0.0</td>\n      <td>0.0</td>\n      <td>0.0</td>\n      <td>0.0</td>\n      <td>0.0</td>\n      <td>1.0</td>\n      <td>0.0</td>\n      <td>0.0</td>\n      <td>0.0</td>\n      <td>0.0</td>\n      <td>1.0</td>\n      <td>0.0</td>\n      <td>0.0</td>\n      <td>0.0</td>\n      <td>0.0</td>\n      <td>0.0</td>\n      <td>1.0</td>\n      <td>0.0</td>\n      <td>0.0</td>\n      <td>0.0</td>\n      <td>1.0</td>\n      <td>0.0</td>\n      <td>17.0</td>\n    </tr>\n    <tr>\n      <th>1</th>\n      <td>55629189.0</td>\n      <td>0.111111</td>\n      <td>0.166667</td>\n      <td>0.574257</td>\n      <td>0.000000</td>\n      <td>0.435897</td>\n      <td>0.0</td>\n      <td>0.0</td>\n      <td>0.00</td>\n      <td>0.636364</td>\n      <td>0.0</td>\n      <td>0.0</td>\n      <td>0.0</td>\n      <td>0.0</td>\n      <td>0.0</td>\n      <td>0.0</td>\n      <td>0.0</td>\n      <td>0.0</td>\n      <td>0.0</td>\n      <td>0.0</td>\n      <td>0.0</td>\n      <td>0.0</td>\n      <td>0.0</td>\n      <td>0.0</td>\n      <td>0.0</td>\n      <td>0.0</td>\n      <td>0.0</td>\n      <td>3.0</td>\n      <td>0.0</td>\n      <td>0.0</td>\n      <td>0.0</td>\n      <td>0.0</td>\n      <td>0.0</td>\n      <td>1.0</td>\n      <td>1.0</td>\n      <td>0.0</td>\n      <td>1.0</td>\n      <td>0.0</td>\n      <td>0.0</td>\n      <td>0.0</td>\n      <td>0.0</td>\n      <td>1.0</td>\n      <td>0.0</td>\n      <td>0.0</td>\n      <td>0.0</td>\n      <td>0.0</td>\n      <td>0.0</td>\n      <td>0.0</td>\n      <td>0.0</td>\n      <td>0.0</td>\n      <td>0.0</td>\n      <td>0.0</td>\n      <td>0.0</td>\n      <td>1.0</td>\n      <td>0.0</td>\n      <td>0.0</td>\n      <td>1.0</td>\n      <td>0.0</td>\n      <td>0.0</td>\n      <td>0.0</td>\n      <td>0.0</td>\n      <td>0.0</td>\n      <td>0.0</td>\n      <td>0.0</td>\n      <td>0.0</td>\n      <td>0.0</td>\n      <td>0.0</td>\n      <td>0.0</td>\n      <td>0.0</td>\n      <td>0.0</td>\n      <td>0.0</td>\n      <td>0.0</td>\n      <td>0.0</td>\n      <td>1.0</td>\n      <td>0.0</td>\n      <td>0.0</td>\n      <td>0.0</td>\n      <td>1.0</td>\n      <td>0.0</td>\n      <td>0.0</td>\n      <td>0.0</td>\n      <td>1.0</td>\n      <td>0.0</td>\n      <td>0.0</td>\n      <td>0.0</td>\n      <td>0.0</td>\n      <td>1.0</td>\n      <td>0.0</td>\n      <td>0.0</td>\n      <td>0.0</td>\n      <td>0.0</td>\n      <td>0.0</td>\n      <td>1.0</td>\n      <td>0.0</td>\n      <td>0.0</td>\n      <td>17.0</td>\n    </tr>\n    <tr>\n      <th>2</th>\n      <td>86047875.0</td>\n      <td>0.222222</td>\n      <td>0.083333</td>\n      <td>0.099010</td>\n      <td>0.833333</td>\n      <td>0.307692</td>\n      <td>0.5</td>\n      <td>0.0</td>\n      <td>0.25</td>\n      <td>0.363636</td>\n      <td>0.0</td>\n      <td>0.0</td>\n      <td>0.0</td>\n      <td>0.0</td>\n      <td>0.0</td>\n      <td>0.0</td>\n      <td>0.0</td>\n      <td>0.0</td>\n      <td>2.0</td>\n      <td>0.0</td>\n      <td>0.0</td>\n      <td>0.0</td>\n      <td>0.0</td>\n      <td>0.0</td>\n      <td>0.0</td>\n      <td>0.0</td>\n      <td>0.0</td>\n      <td>0.0</td>\n      <td>0.0</td>\n      <td>0.0</td>\n      <td>0.0</td>\n      <td>0.0</td>\n      <td>0.0</td>\n      <td>0.0</td>\n      <td>1.0</td>\n      <td>0.0</td>\n      <td>1.0</td>\n      <td>0.0</td>\n      <td>0.0</td>\n      <td>1.0</td>\n      <td>0.0</td>\n      <td>0.0</td>\n      <td>0.0</td>\n      <td>0.0</td>\n      <td>0.0</td>\n      <td>0.0</td>\n      <td>0.0</td>\n      <td>0.0</td>\n      <td>0.0</td>\n      <td>0.0</td>\n      <td>0.0</td>\n      <td>0.0</td>\n      <td>0.0</td>\n      <td>1.0</td>\n      <td>0.0</td>\n      <td>0.0</td>\n      <td>1.0</td>\n      <td>0.0</td>\n      <td>0.0</td>\n      <td>0.0</td>\n      <td>0.0</td>\n      <td>0.0</td>\n      <td>0.0</td>\n      <td>0.0</td>\n      <td>0.0</td>\n      <td>0.0</td>\n      <td>0.0</td>\n      <td>0.0</td>\n      <td>0.0</td>\n      <td>0.0</td>\n      <td>0.0</td>\n      <td>0.0</td>\n      <td>0.0</td>\n      <td>1.0</td>\n      <td>0.0</td>\n      <td>0.0</td>\n      <td>0.0</td>\n      <td>1.0</td>\n      <td>0.0</td>\n      <td>0.0</td>\n      <td>0.0</td>\n      <td>1.0</td>\n      <td>0.0</td>\n      <td>0.0</td>\n      <td>0.0</td>\n      <td>0.0</td>\n      <td>1.0</td>\n      <td>0.0</td>\n      <td>0.0</td>\n      <td>0.0</td>\n      <td>0.0</td>\n      <td>0.0</td>\n      <td>1.0</td>\n      <td>0.0</td>\n      <td>0.0</td>\n      <td>17.0</td>\n    </tr>\n    <tr>\n      <th>3</th>\n      <td>82442376.0</td>\n      <td>0.333333</td>\n      <td>0.083333</td>\n      <td>0.425743</td>\n      <td>0.166667</td>\n      <td>0.384615</td>\n      <td>0.0</td>\n      <td>0.0</td>\n      <td>0.00</td>\n      <td>0.454545</td>\n      <td>0.0</td>\n      <td>0.0</td>\n      <td>0.0</td>\n      <td>0.0</td>\n      <td>0.0</td>\n      <td>0.0</td>\n      <td>0.0</td>\n      <td>0.0</td>\n      <td>0.0</td>\n      <td>0.0</td>\n      <td>0.0</td>\n      <td>0.0</td>\n      <td>0.0</td>\n      <td>0.0</td>\n      <td>0.0</td>\n      <td>0.0</td>\n      <td>0.0</td>\n      <td>3.0</td>\n      <td>0.0</td>\n      <td>0.0</td>\n      <td>0.0</td>\n      <td>0.0</td>\n      <td>0.0</td>\n      <td>1.0</td>\n      <td>1.0</td>\n      <td>0.0</td>\n      <td>0.0</td>\n      <td>1.0</td>\n      <td>0.0</td>\n      <td>0.0</td>\n      <td>0.0</td>\n      <td>1.0</td>\n      <td>0.0</td>\n      <td>0.0</td>\n      <td>0.0</td>\n      <td>0.0</td>\n      <td>0.0</td>\n      <td>0.0</td>\n      <td>0.0</td>\n      <td>0.0</td>\n      <td>0.0</td>\n      <td>0.0</td>\n      <td>0.0</td>\n      <td>1.0</td>\n      <td>0.0</td>\n      <td>0.0</td>\n      <td>1.0</td>\n      <td>0.0</td>\n      <td>0.0</td>\n      <td>0.0</td>\n      <td>0.0</td>\n      <td>0.0</td>\n      <td>0.0</td>\n      <td>0.0</td>\n      <td>0.0</td>\n      <td>1.0</td>\n      <td>0.0</td>\n      <td>0.0</td>\n      <td>0.0</td>\n      <td>0.0</td>\n      <td>0.0</td>\n      <td>0.0</td>\n      <td>0.0</td>\n      <td>0.0</td>\n      <td>0.0</td>\n      <td>0.0</td>\n      <td>0.0</td>\n      <td>1.0</td>\n      <td>0.0</td>\n      <td>0.0</td>\n      <td>0.0</td>\n      <td>1.0</td>\n      <td>0.0</td>\n      <td>0.0</td>\n      <td>0.0</td>\n      <td>0.0</td>\n      <td>1.0</td>\n      <td>0.0</td>\n      <td>0.0</td>\n      <td>0.0</td>\n      <td>0.0</td>\n      <td>0.0</td>\n      <td>1.0</td>\n      <td>0.0</td>\n      <td>0.0</td>\n      <td>17.0</td>\n    </tr>\n    <tr>\n      <th>4</th>\n      <td>42519267.0</td>\n      <td>0.444444</td>\n      <td>0.000000</td>\n      <td>0.495050</td>\n      <td>0.000000</td>\n      <td>0.179487</td>\n      <td>0.0</td>\n      <td>0.0</td>\n      <td>0.00</td>\n      <td>0.272727</td>\n      <td>0.0</td>\n      <td>0.0</td>\n      <td>0.0</td>\n      <td>0.0</td>\n      <td>0.0</td>\n      <td>0.0</td>\n      <td>0.0</td>\n      <td>0.0</td>\n      <td>2.0</td>\n      <td>0.0</td>\n      <td>0.0</td>\n      <td>0.0</td>\n      <td>0.0</td>\n      <td>0.0</td>\n      <td>0.0</td>\n      <td>0.0</td>\n      <td>0.0</td>\n      <td>2.0</td>\n      <td>0.0</td>\n      <td>0.0</td>\n      <td>0.0</td>\n      <td>0.0</td>\n      <td>0.0</td>\n      <td>1.0</td>\n      <td>1.0</td>\n      <td>0.0</td>\n      <td>0.0</td>\n      <td>1.0</td>\n      <td>0.0</td>\n      <td>0.0</td>\n      <td>0.0</td>\n      <td>1.0</td>\n      <td>0.0</td>\n      <td>0.0</td>\n      <td>0.0</td>\n      <td>0.0</td>\n      <td>0.0</td>\n      <td>0.0</td>\n      <td>0.0</td>\n      <td>0.0</td>\n      <td>0.0</td>\n      <td>0.0</td>\n      <td>1.0</td>\n      <td>0.0</td>\n      <td>0.0</td>\n      <td>0.0</td>\n      <td>0.0</td>\n      <td>0.0</td>\n      <td>0.0</td>\n      <td>0.0</td>\n      <td>0.0</td>\n      <td>0.0</td>\n      <td>1.0</td>\n      <td>0.0</td>\n      <td>0.0</td>\n      <td>0.0</td>\n      <td>1.0</td>\n      <td>0.0</td>\n      <td>0.0</td>\n      <td>0.0</td>\n      <td>0.0</td>\n      <td>0.0</td>\n      <td>0.0</td>\n      <td>0.0</td>\n      <td>0.0</td>\n      <td>0.0</td>\n      <td>0.0</td>\n      <td>1.0</td>\n      <td>0.0</td>\n      <td>0.0</td>\n      <td>0.0</td>\n      <td>1.0</td>\n      <td>0.0</td>\n      <td>0.0</td>\n      <td>0.0</td>\n      <td>0.0</td>\n      <td>1.0</td>\n      <td>0.0</td>\n      <td>0.0</td>\n      <td>0.0</td>\n      <td>0.0</td>\n      <td>0.0</td>\n      <td>1.0</td>\n      <td>0.0</td>\n      <td>0.0</td>\n      <td>17.0</td>\n    </tr>\n  </tbody>\n</table>\n</div>"
     },
     "execution_count": 64,
     "metadata": {},
     "output_type": "execute_result"
    }
   ],
   "source": [
    "scaler = MinMaxScaler()\n",
    "data_scaled = data_imputed.copy()\n",
    "data_scaled[data_scaled.loc[:,'age':'number_diagnoses'].columns] = scaler.fit_transform(data_scaled.loc[:,'age':'number_diagnoses'])\n",
    "data_scaled.head()"
   ],
   "metadata": {
    "collapsed": false,
    "ExecuteTime": {
     "end_time": "2024-05-02T12:41:50.265086200Z",
     "start_time": "2024-05-02T12:41:50.033715700Z"
    }
   },
   "execution_count": 64
  },
  {
   "cell_type": "code",
   "outputs": [],
   "source": [
    "pickle.dump( data_scaled, open( \"../data/encodings_final.p\", \"wb\" ) )\n"
   ],
   "metadata": {
    "collapsed": false,
    "ExecuteTime": {
     "end_time": "2024-05-02T12:59:37.547832400Z",
     "start_time": "2024-05-02T12:59:37.326452600Z"
    }
   },
   "execution_count": 70
  }
 ],
 "metadata": {
  "colab": {
   "provenance": [],
   "gpuType": "T4"
  },
  "kernelspec": {
   "name": "python3",
   "language": "python",
   "display_name": "Python 3 (ipykernel)"
  },
  "language_info": {
   "name": "python"
  },
  "accelerator": "GPU"
 },
 "nbformat": 4,
 "nbformat_minor": 0
}
