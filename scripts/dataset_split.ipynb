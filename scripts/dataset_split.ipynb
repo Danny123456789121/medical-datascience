{
  "nbformat": 4,
  "nbformat_minor": 0,
  "metadata": {
    "colab": {
      "provenance": []
    },
    "kernelspec": {
      "name": "python3",
      "language": "python",
      "display_name": "Python 3 (ipykernel)"
    },
    "language_info": {
      "name": "python"
    }
  },
  "cells": [
    {
      "cell_type": "code",
      "source": [
        "import pickle\n",
        "import pandas as pd\n",
        "from sklearn.model_selection import train_test_split"
      ],
      "metadata": {
        "id": "gbCwJmR0ZkG1",
        "ExecuteTime": {
          "end_time": "2024-05-02T13:02:42.672666800Z",
          "start_time": "2024-05-02T13:02:42.609788300Z"
        }
      },
      "execution_count": null,
      "outputs": []
    },
    {
      "cell_type": "code",
      "execution_count": null,
      "metadata": {
        "colab": {
          "base_uri": "https://localhost:8080/",
          "height": 244
        },
        "id": "cL8qBXDGZKs_",
        "outputId": "fa57185b-1d47-48a0-ae64-f5c1e81551de",
        "ExecuteTime": {
          "end_time": "2024-05-02T13:02:42.767279Z",
          "start_time": "2024-05-02T13:02:42.674724100Z"
        }
      },
      "outputs": [
        {
          "data": {
            "text/plain": "   patient_nbr       age  time_in_hospital  num_lab_procedures  \\\n0    8222157.0  0.000000          0.000000            0.396040   \n1   55629189.0  0.111111          0.166667            0.574257   \n2   86047875.0  0.222222          0.083333            0.099010   \n3   82442376.0  0.333333          0.083333            0.425743   \n4   42519267.0  0.444444          0.000000            0.495050   \n\n   num_procedures  num_medications  number_outpatient  number_emergency  \\\n0        0.000000         0.000000                0.0               0.0   \n1        0.000000         0.435897                0.0               0.0   \n2        0.833333         0.307692                0.5               0.0   \n3        0.166667         0.384615                0.0               0.0   \n4        0.000000         0.179487                0.0               0.0   \n\n   number_inpatient  number_diagnoses  ...  \\\n0              0.00          0.493769  ...   \n1              0.00          0.636364  ...   \n2              0.25          0.363636  ...   \n3              0.00          0.454545  ...   \n4              0.00          0.272727  ...   \n\n   discharge_disposition_id_grouped_HomeDischarge  \\\n0                                             0.0   \n1                                             1.0   \n2                                             1.0   \n3                                             1.0   \n4                                             1.0   \n\n   discharge_disposition_id_grouped_HomeWFollowUp  \\\n0                                             0.0   \n1                                             0.0   \n2                                             0.0   \n3                                             0.0   \n4                                             0.0   \n\n   discharge_disposition_id_grouped_InstitutionalCare  \\\n0                                                0.0    \n1                                                0.0    \n2                                                0.0    \n3                                                0.0    \n4                                                0.0    \n\n   discharge_disposition_id_grouped_Unknown  admission_source_grouped_Births  \\\n0                                       1.0                              0.0   \n1                                       0.0                              0.0   \n2                                       0.0                              0.0   \n3                                       0.0                              0.0   \n4                                       0.0                              0.0   \n\n   admission_source_grouped_Data_Issues  \\\n0                                   0.0   \n1                                   0.0   \n2                                   0.0   \n3                                   0.0   \n4                                   0.0   \n\n   admission_source_grouped_Emergency_or_Law  \\\n0                                        0.0   \n1                                        1.0   \n2                                        1.0   \n3                                        1.0   \n4                                        1.0   \n\n   admission_source_grouped_Referrals  admission_source_grouped_Transfers  \\\n0                                 1.0                                 0.0   \n1                                 0.0                                 0.0   \n2                                 0.0                                 0.0   \n3                                 0.0                                 0.0   \n4                                 0.0                                 0.0   \n\n   payer_code_labeled  \n0                17.0  \n1                17.0  \n2                17.0  \n3                17.0  \n4                17.0  \n\n[5 rows x 96 columns]",
            "text/html": "<div>\n<style scoped>\n    .dataframe tbody tr th:only-of-type {\n        vertical-align: middle;\n    }\n\n    .dataframe tbody tr th {\n        vertical-align: top;\n    }\n\n    .dataframe thead th {\n        text-align: right;\n    }\n</style>\n<table border=\"1\" class=\"dataframe\">\n  <thead>\n    <tr style=\"text-align: right;\">\n      <th></th>\n      <th>patient_nbr</th>\n      <th>age</th>\n      <th>time_in_hospital</th>\n      <th>num_lab_procedures</th>\n      <th>num_procedures</th>\n      <th>num_medications</th>\n      <th>number_outpatient</th>\n      <th>number_emergency</th>\n      <th>number_inpatient</th>\n      <th>number_diagnoses</th>\n      <th>...</th>\n      <th>discharge_disposition_id_grouped_HomeDischarge</th>\n      <th>discharge_disposition_id_grouped_HomeWFollowUp</th>\n      <th>discharge_disposition_id_grouped_InstitutionalCare</th>\n      <th>discharge_disposition_id_grouped_Unknown</th>\n      <th>admission_source_grouped_Births</th>\n      <th>admission_source_grouped_Data_Issues</th>\n      <th>admission_source_grouped_Emergency_or_Law</th>\n      <th>admission_source_grouped_Referrals</th>\n      <th>admission_source_grouped_Transfers</th>\n      <th>payer_code_labeled</th>\n    </tr>\n  </thead>\n  <tbody>\n    <tr>\n      <th>0</th>\n      <td>8222157.0</td>\n      <td>0.000000</td>\n      <td>0.000000</td>\n      <td>0.396040</td>\n      <td>0.000000</td>\n      <td>0.000000</td>\n      <td>0.0</td>\n      <td>0.0</td>\n      <td>0.00</td>\n      <td>0.493769</td>\n      <td>...</td>\n      <td>0.0</td>\n      <td>0.0</td>\n      <td>0.0</td>\n      <td>1.0</td>\n      <td>0.0</td>\n      <td>0.0</td>\n      <td>0.0</td>\n      <td>1.0</td>\n      <td>0.0</td>\n      <td>17.0</td>\n    </tr>\n    <tr>\n      <th>1</th>\n      <td>55629189.0</td>\n      <td>0.111111</td>\n      <td>0.166667</td>\n      <td>0.574257</td>\n      <td>0.000000</td>\n      <td>0.435897</td>\n      <td>0.0</td>\n      <td>0.0</td>\n      <td>0.00</td>\n      <td>0.636364</td>\n      <td>...</td>\n      <td>1.0</td>\n      <td>0.0</td>\n      <td>0.0</td>\n      <td>0.0</td>\n      <td>0.0</td>\n      <td>0.0</td>\n      <td>1.0</td>\n      <td>0.0</td>\n      <td>0.0</td>\n      <td>17.0</td>\n    </tr>\n    <tr>\n      <th>2</th>\n      <td>86047875.0</td>\n      <td>0.222222</td>\n      <td>0.083333</td>\n      <td>0.099010</td>\n      <td>0.833333</td>\n      <td>0.307692</td>\n      <td>0.5</td>\n      <td>0.0</td>\n      <td>0.25</td>\n      <td>0.363636</td>\n      <td>...</td>\n      <td>1.0</td>\n      <td>0.0</td>\n      <td>0.0</td>\n      <td>0.0</td>\n      <td>0.0</td>\n      <td>0.0</td>\n      <td>1.0</td>\n      <td>0.0</td>\n      <td>0.0</td>\n      <td>17.0</td>\n    </tr>\n    <tr>\n      <th>3</th>\n      <td>82442376.0</td>\n      <td>0.333333</td>\n      <td>0.083333</td>\n      <td>0.425743</td>\n      <td>0.166667</td>\n      <td>0.384615</td>\n      <td>0.0</td>\n      <td>0.0</td>\n      <td>0.00</td>\n      <td>0.454545</td>\n      <td>...</td>\n      <td>1.0</td>\n      <td>0.0</td>\n      <td>0.0</td>\n      <td>0.0</td>\n      <td>0.0</td>\n      <td>0.0</td>\n      <td>1.0</td>\n      <td>0.0</td>\n      <td>0.0</td>\n      <td>17.0</td>\n    </tr>\n    <tr>\n      <th>4</th>\n      <td>42519267.0</td>\n      <td>0.444444</td>\n      <td>0.000000</td>\n      <td>0.495050</td>\n      <td>0.000000</td>\n      <td>0.179487</td>\n      <td>0.0</td>\n      <td>0.0</td>\n      <td>0.00</td>\n      <td>0.272727</td>\n      <td>...</td>\n      <td>1.0</td>\n      <td>0.0</td>\n      <td>0.0</td>\n      <td>0.0</td>\n      <td>0.0</td>\n      <td>0.0</td>\n      <td>1.0</td>\n      <td>0.0</td>\n      <td>0.0</td>\n      <td>17.0</td>\n    </tr>\n  </tbody>\n</table>\n<p>5 rows × 96 columns</p>\n</div>"
          },
          "execution_count": 5,
          "metadata": {},
          "output_type": "execute_result"
        }
      ],
      "source": [
        "data = pickle.load( open( \"encodings.p\", \"rb\" ) )\n",
        "data.head()"
      ]
    },
    {
      "cell_type": "code",
      "source": [
        "#pd.set_option('display.max_columns', None)"
      ],
      "metadata": {
        "id": "qrgFmTr-izh4",
        "ExecuteTime": {
          "end_time": "2024-05-02T13:02:42.767279Z",
          "start_time": "2024-05-02T13:02:42.748881800Z"
        }
      },
      "execution_count": null,
      "outputs": []
    },
    {
      "cell_type": "markdown",
      "source": [
        "# Training classification models\n",
        "The goal is to determine if a patient will be readmitted within 30 days. To this end we want to train classification models. We will select three classification models which we will train with different levels of encoding and preprocessing of the dataset and by adjusting hyperparameters. With this method, we want to compare different models as well as different prerequisites within each model.\n",
        "\n",
        "These are the classifier model we want to train:\n",
        "* k-Nearest Neighbors: KNeighborsClassifier\n",
        "* Support Vector Machine Algorithm (SVM): Linear Support Vector Classification (Linear SVC)"
      ],
      "metadata": {
        "id": "9Tes9llOaV97"
      }
    },
    {
      "cell_type": "markdown",
      "source": [
        "## Splitting the dataset\n",
        "Before training any models, the dataset has to be split into training and test dataset. We will use the standard 80-20 approach.\n",
        "\n",
        "But before this can be done, the dataset needs another round of special attention. As 'patient_nbr' indicates (as shown in the previous notebook), one patient can appear as multiple encounters in this dataset, recognizable by 'patient_nbr'. We don't want encounters of the same patient appear in the training dataset as well as in the test dataset because even when dropping the column 'patient_nbr', it could distort the results.\n",
        "\n",
        "There are two approaches which we could take:\n",
        "* having only one encounter for each patient, therefore dropping all lines of reappearing patient numbers (this means losing information)\n",
        "* having a patient appear only in one part of the split (this means sorting the dataset by 'patient_nbr' before splitting, then randomizing the order again and dropping 'patient_nbr' after the split)\n",
        "\n",
        "Below, we will implement both approaches. Ultimately, we decided to take the second approach to lose as little data as possible."
      ],
      "metadata": {
        "id": "Zjgm6vc-dLZ8"
      }
    },
    {
      "cell_type": "code",
      "source": [
        "unique_patients = len(data[\"patient_nbr\"].unique())\n",
        "number_encounters = len(data)\n",
        "print(f\"Number of unique patients: {unique_patients}\")\n",
        "print(f\"Number of encounters: {number_encounters}\")\n",
        "print(f\"Number of encounters in which a patient reappears in the dataset: {number_encounters-unique_patients}\")"
      ],
      "metadata": {
        "colab": {
          "base_uri": "https://localhost:8080/"
        },
        "id": "h7E6DTK0ZoKV",
        "outputId": "ab72e7b7-0c43-40bb-f98f-6b9e80b5a97b",
        "ExecuteTime": {
          "end_time": "2024-05-02T13:02:42.888783Z",
          "start_time": "2024-05-02T13:02:42.752853Z"
        }
      },
      "execution_count": null,
      "outputs": [
        {
          "name": "stdout",
          "output_type": "stream",
          "text": [
            "Number of unique patients: 71518\n",
            "Number of encounters: 101766\n",
            "Number of encounters in which a patient reappears in the dataset: 30248\n"
          ]
        }
      ]
    },
    {
      "cell_type": "markdown",
      "source": [
        "Roughly 30% of the current state of the dataset are reappearing patients. Therefore, when dropping reappearing patient encounters, we will lose 30% of the data."
      ],
      "metadata": {
        "id": "0pTgpxkDfpPq"
      }
    },
    {
      "cell_type": "code",
      "source": [
        "patient_encounters = data.groupby('patient_nbr').size()\n",
        "max_encounters = patient_encounters.max()\n",
        "patients_with_max_encounters = patient_encounters[patient_encounters == max_encounters].index.tolist()\n",
        "avg_encounters = patient_encounters.mean()\n",
        "median_encounters = patient_encounters.median()\n",
        "single_encounter = (patient_encounters == 1).sum()\n",
        "\n",
        "print(f\"Maximum encounters of a patient: {max_encounters}\")\n",
        "print(f\"Patient with {max_encounters} encounters: {patients_with_max_encounters}\")\n",
        "print(f\"Average encounters of a patient: {avg_encounters}\")\n",
        "print(f\"Median encounters of a patient: {median_encounters}\")\n",
        "print(f\"Number of patients with one encounter: {single_encounter}\")"
      ],
      "metadata": {
        "colab": {
          "base_uri": "https://localhost:8080/"
        },
        "id": "kjvkHxT2fJ_q",
        "outputId": "b856a219-2b3d-492d-cdfb-c9dfcf757666",
        "ExecuteTime": {
          "end_time": "2024-05-02T13:02:42.890777100Z",
          "start_time": "2024-05-02T13:02:42.804032100Z"
        }
      },
      "execution_count": null,
      "outputs": [
        {
          "name": "stdout",
          "output_type": "stream",
          "text": [
            "Maximum encounters of a patient: 40\n",
            "Patient with 40 encounters: [88785891.0]\n",
            "Average encounters of a patient: 1.4229424760200229\n",
            "Median encounters of a patient: 1.0\n",
            "Number of patients with one encounter: 54745\n"
          ]
        }
      ]
    },
    {
      "cell_type": "markdown",
      "source": [
        "The average number of encounters is 1.4. Therefore, the average patients appears more than once in this dataset."
      ],
      "metadata": {
        "id": "e8IZKFzOjgD_"
      }
    },
    {
      "cell_type": "code",
      "source": [
        "data.loc[data[\"patient_nbr\"] == patients_with_max_encounters[0]]"
      ],
      "metadata": {
        "colab": {
          "base_uri": "https://localhost:8080/",
          "height": 1000
        },
        "id": "HG2OVm0kiaJs",
        "outputId": "9d188380-0e78-4cc9-c21b-2a69b0c9e5cc",
        "ExecuteTime": {
          "end_time": "2024-05-02T13:02:42.990295300Z",
          "start_time": "2024-05-02T13:02:42.882328400Z"
        }
      },
      "execution_count": null,
      "outputs": [
        {
          "data": {
            "text/plain": "        patient_nbr       age  time_in_hospital  num_lab_procedures  \\\n38307    88785891.0  0.222222          0.000000            0.306931   \n40252    88785891.0  0.222222          0.000000            0.089109   \n40661    88785891.0  0.222222          0.333333            0.336634   \n44515    88785891.0  0.222222          0.083333            0.000000   \n45147    88785891.0  0.222222          0.083333            0.306931   \n45986    88785891.0  0.222222          0.250000            0.069307   \n50167    88785891.0  0.222222          0.000000            0.009901   \n50393    88785891.0  0.222222          0.250000            0.623762   \n50773    88785891.0  0.222222          0.000000            0.316832   \n51519    88785891.0  0.222222          0.000000            0.336634   \n52057    88785891.0  0.222222          0.000000            0.188119   \n53771    88785891.0  0.222222          0.083333            0.623762   \n54497    88785891.0  0.222222          0.166667            0.376238   \n60263    88785891.0  0.222222          0.583333            0.732673   \n62759    88785891.0  0.222222          0.166667            0.346535   \n63165    88785891.0  0.222222          0.250000            0.623762   \n65667    88785891.0  0.222222          0.083333            0.396040   \n67968    88785891.0  0.222222          0.333333            0.485149   \n71029    88785891.0  0.222222          0.000000            0.485149   \n72068    88785891.0  0.222222          0.083333            0.524752   \n74405    88785891.0  0.222222          0.000000            0.198020   \n74876    88785891.0  0.222222          0.083333            0.138614   \n75267    88785891.0  0.222222          0.083333            0.316832   \n76525    88785891.0  0.222222          0.500000            0.554455   \n76907    88785891.0  0.222222          0.250000            0.485149   \n78355    88785891.0  0.222222          0.500000            0.722772   \n78882    88785891.0  0.222222          0.166667            0.683168   \n79202    88785891.0  0.222222          0.000000            0.455446   \n79467    88785891.0  0.222222          0.000000            0.099010   \n82693    88785891.0  0.222222          0.083333            0.000000   \n87063    88785891.0  0.222222          0.500000            0.594059   \n87854    88785891.0  0.222222          0.500000            0.613861   \n88392    88785891.0  0.222222          0.166667            0.613861   \n89964    88785891.0  0.222222          0.416667            0.683168   \n90913    88785891.0  0.222222          0.333333            0.792079   \n91444    88785891.0  0.222222          0.166667            0.079208   \n97433    88785891.0  0.222222          0.333333            0.663366   \n97732    88785891.0  0.222222          0.166667            0.326733   \n99950    88785891.0  0.222222          0.083333            0.099010   \n101385   88785891.0  0.222222          0.166667            0.079208   \n\n        num_procedures  num_medications  number_outpatient  number_emergency  \\\n38307         0.000000         0.230769               0.00          0.000000   \n40252         0.000000         0.230769               0.25          0.000000   \n40661         0.000000         0.358974               0.25          0.000000   \n44515         0.000000         0.179487               0.25          0.000000   \n45147         0.000000         0.076923               0.25          0.000000   \n45986         0.000000         0.333333               0.25          0.000000   \n50167         0.000000         0.205128               1.00          0.500000   \n50393         0.000000         0.461538               1.00          0.500000   \n50773         0.000000         0.230769               1.00          0.500000   \n51519         0.000000         0.230769               0.75          0.500000   \n52057         0.000000         0.153846               0.75          0.500000   \n53771         0.000000         0.307692               0.75          0.500000   \n54497         0.000000         0.282051               0.75          0.500000   \n60263         0.166667         0.538462               0.75          1.000000   \n62759         0.000000         0.358974               0.75          0.058745   \n63165         0.000000         0.461538               0.75          0.058745   \n65667         0.000000         0.282051               0.50          1.000000   \n67968         0.166667         0.461538               0.00          1.000000   \n71029         0.000000         0.205128               0.00          0.058745   \n72068         0.000000         0.435897               0.00          0.058745   \n74405         0.000000         0.333333               0.00          0.058745   \n74876         0.000000         0.179487               0.00          0.058745   \n75267         0.000000         0.256410               0.00          0.058745   \n76525         0.333333         0.512821               0.00          0.058745   \n76907         0.000000         0.564103               0.00          0.058745   \n78355         0.000000         0.589744               0.00          0.058745   \n78882         0.000000         0.333333               0.00          0.058745   \n79202         0.000000         0.230769               0.00          0.058745   \n79467         0.000000         0.179487               0.00          0.058745   \n82693         0.000000         0.358974               0.25          0.058745   \n87063         0.166667         0.512821               0.50          0.058745   \n87854         0.166667         0.487179               0.50          0.058745   \n88392         0.000000         0.358974               0.50          0.058745   \n89964         0.000000         0.487179               0.50          0.058745   \n90913         0.000000         0.410256               0.50          1.000000   \n91444         0.000000         0.230769               0.50          0.058745   \n97433         0.333333         0.589744               0.50          0.058745   \n97732         0.000000         0.282051               0.50          0.058745   \n99950         0.000000         0.205128               0.50          0.058745   \n101385        0.000000         0.179487               0.50          0.058745   \n\n        number_inpatient  number_diagnoses  ...  \\\n38307           0.000000          0.090909  ...   \n40252           0.500000          0.000000  ...   \n40661           0.750000          0.363636  ...   \n44515           0.128757          0.090909  ...   \n45147           0.128757          0.636364  ...   \n45986           0.128757          0.636364  ...   \n50167           0.128757          0.454545  ...   \n50393           0.128757          0.363636  ...   \n50773           0.128757          0.363636  ...   \n51519           0.128757          0.181818  ...   \n52057           0.128757          0.272727  ...   \n53771           0.128757          0.454545  ...   \n54497           0.128757          0.181818  ...   \n60263           0.128757          0.636364  ...   \n62759           0.128757          0.636364  ...   \n63165           0.128757          0.636364  ...   \n65667           0.128757          0.181818  ...   \n67968           0.128757          0.272727  ...   \n71029           0.128757          0.272727  ...   \n72068           0.128757          0.363636  ...   \n74405           0.128757          0.090909  ...   \n74876           0.128757          0.636364  ...   \n75267           0.128757          0.636364  ...   \n76525           0.128757          0.545455  ...   \n76907           0.128757          0.363636  ...   \n78355           0.128757          0.636364  ...   \n78882           0.128757          0.181818  ...   \n79202           0.128757          0.454545  ...   \n79467           0.128757          0.454545  ...   \n82693           0.128757          0.545455  ...   \n87063           0.128757          0.636364  ...   \n87854           0.128757          0.636364  ...   \n88392           0.128757          0.636364  ...   \n89964           0.128757          0.636364  ...   \n90913           0.128757          0.454545  ...   \n91444           0.128757          0.636364  ...   \n97433           0.128757          0.636364  ...   \n97732           0.128757          0.636364  ...   \n99950           0.128757          0.272727  ...   \n101385          0.128757          0.636364  ...   \n\n        discharge_disposition_id_grouped_HomeDischarge  \\\n38307                                              1.0   \n40252                                              1.0   \n40661                                              1.0   \n44515                                              1.0   \n45147                                              1.0   \n45986                                              1.0   \n50167                                              1.0   \n50393                                              1.0   \n50773                                              0.0   \n51519                                              1.0   \n52057                                              1.0   \n53771                                              1.0   \n54497                                              1.0   \n60263                                              1.0   \n62759                                              1.0   \n63165                                              1.0   \n65667                                              1.0   \n67968                                              1.0   \n71029                                              1.0   \n72068                                              0.0   \n74405                                              1.0   \n74876                                              1.0   \n75267                                              1.0   \n76525                                              1.0   \n76907                                              1.0   \n78355                                              1.0   \n78882                                              1.0   \n79202                                              1.0   \n79467                                              1.0   \n82693                                              0.0   \n87063                                              1.0   \n87854                                              1.0   \n88392                                              1.0   \n89964                                              0.0   \n90913                                              1.0   \n91444                                              1.0   \n97433                                              1.0   \n97732                                              1.0   \n99950                                              1.0   \n101385                                             0.0   \n\n        discharge_disposition_id_grouped_HomeWFollowUp  \\\n38307                                              0.0   \n40252                                              0.0   \n40661                                              0.0   \n44515                                              0.0   \n45147                                              0.0   \n45986                                              0.0   \n50167                                              0.0   \n50393                                              0.0   \n50773                                              0.0   \n51519                                              0.0   \n52057                                              0.0   \n53771                                              0.0   \n54497                                              0.0   \n60263                                              0.0   \n62759                                              0.0   \n63165                                              0.0   \n65667                                              0.0   \n67968                                              0.0   \n71029                                              0.0   \n72068                                              0.0   \n74405                                              0.0   \n74876                                              0.0   \n75267                                              0.0   \n76525                                              0.0   \n76907                                              0.0   \n78355                                              0.0   \n78882                                              0.0   \n79202                                              0.0   \n79467                                              0.0   \n82693                                              0.0   \n87063                                              0.0   \n87854                                              0.0   \n88392                                              0.0   \n89964                                              0.0   \n90913                                              0.0   \n91444                                              0.0   \n97433                                              0.0   \n97732                                              0.0   \n99950                                              0.0   \n101385                                             0.0   \n\n        discharge_disposition_id_grouped_InstitutionalCare  \\\n38307                                                 0.0    \n40252                                                 0.0    \n40661                                                 0.0    \n44515                                                 0.0    \n45147                                                 0.0    \n45986                                                 0.0    \n50167                                                 0.0    \n50393                                                 0.0    \n50773                                                 0.0    \n51519                                                 0.0    \n52057                                                 0.0    \n53771                                                 0.0    \n54497                                                 0.0    \n60263                                                 0.0    \n62759                                                 0.0    \n63165                                                 0.0    \n65667                                                 0.0    \n67968                                                 0.0    \n71029                                                 0.0    \n72068                                                 0.0    \n74405                                                 0.0    \n74876                                                 0.0    \n75267                                                 0.0    \n76525                                                 0.0    \n76907                                                 0.0    \n78355                                                 0.0    \n78882                                                 0.0    \n79202                                                 0.0    \n79467                                                 0.0    \n82693                                                 0.0    \n87063                                                 0.0    \n87854                                                 0.0    \n88392                                                 0.0    \n89964                                                 0.0    \n90913                                                 0.0    \n91444                                                 0.0    \n97433                                                 0.0    \n97732                                                 0.0    \n99950                                                 0.0    \n101385                                                0.0    \n\n        discharge_disposition_id_grouped_Unknown  \\\n38307                                        0.0   \n40252                                        0.0   \n40661                                        0.0   \n44515                                        0.0   \n45147                                        0.0   \n45986                                        0.0   \n50167                                        0.0   \n50393                                        0.0   \n50773                                        0.0   \n51519                                        0.0   \n52057                                        0.0   \n53771                                        0.0   \n54497                                        0.0   \n60263                                        0.0   \n62759                                        0.0   \n63165                                        0.0   \n65667                                        0.0   \n67968                                        0.0   \n71029                                        0.0   \n72068                                        0.0   \n74405                                        0.0   \n74876                                        0.0   \n75267                                        0.0   \n76525                                        0.0   \n76907                                        0.0   \n78355                                        0.0   \n78882                                        0.0   \n79202                                        0.0   \n79467                                        0.0   \n82693                                        0.0   \n87063                                        0.0   \n87854                                        0.0   \n88392                                        0.0   \n89964                                        1.0   \n90913                                        0.0   \n91444                                        0.0   \n97433                                        0.0   \n97732                                        0.0   \n99950                                        0.0   \n101385                                       0.0   \n\n        admission_source_grouped_Births  admission_source_grouped_Data_Issues  \\\n38307                               0.0                                   0.0   \n40252                               0.0                                   0.0   \n40661                               0.0                                   0.0   \n44515                               0.0                                   0.0   \n45147                               0.0                                   0.0   \n45986                               0.0                                   0.0   \n50167                               0.0                                   0.0   \n50393                               0.0                                   0.0   \n50773                               0.0                                   0.0   \n51519                               0.0                                   0.0   \n52057                               0.0                                   0.0   \n53771                               0.0                                   0.0   \n54497                               0.0                                   0.0   \n60263                               0.0                                   0.0   \n62759                               0.0                                   0.0   \n63165                               0.0                                   0.0   \n65667                               0.0                                   0.0   \n67968                               0.0                                   0.0   \n71029                               0.0                                   0.0   \n72068                               0.0                                   0.0   \n74405                               0.0                                   0.0   \n74876                               0.0                                   0.0   \n75267                               0.0                                   0.0   \n76525                               0.0                                   0.0   \n76907                               0.0                                   0.0   \n78355                               0.0                                   0.0   \n78882                               0.0                                   0.0   \n79202                               0.0                                   0.0   \n79467                               0.0                                   0.0   \n82693                               0.0                                   0.0   \n87063                               0.0                                   0.0   \n87854                               0.0                                   0.0   \n88392                               0.0                                   0.0   \n89964                               0.0                                   0.0   \n90913                               0.0                                   0.0   \n91444                               0.0                                   0.0   \n97433                               0.0                                   0.0   \n97732                               0.0                                   0.0   \n99950                               0.0                                   0.0   \n101385                              0.0                                   0.0   \n\n        admission_source_grouped_Emergency_or_Law  \\\n38307                                         1.0   \n40252                                         1.0   \n40661                                         1.0   \n44515                                         1.0   \n45147                                         1.0   \n45986                                         1.0   \n50167                                         1.0   \n50393                                         1.0   \n50773                                         1.0   \n51519                                         1.0   \n52057                                         1.0   \n53771                                         1.0   \n54497                                         1.0   \n60263                                         1.0   \n62759                                         1.0   \n63165                                         1.0   \n65667                                         1.0   \n67968                                         1.0   \n71029                                         1.0   \n72068                                         1.0   \n74405                                         1.0   \n74876                                         1.0   \n75267                                         1.0   \n76525                                         1.0   \n76907                                         1.0   \n78355                                         1.0   \n78882                                         1.0   \n79202                                         1.0   \n79467                                         1.0   \n82693                                         1.0   \n87063                                         1.0   \n87854                                         1.0   \n88392                                         1.0   \n89964                                         1.0   \n90913                                         1.0   \n91444                                         1.0   \n97433                                         1.0   \n97732                                         1.0   \n99950                                         1.0   \n101385                                        0.0   \n\n        admission_source_grouped_Referrals  \\\n38307                                  0.0   \n40252                                  0.0   \n40661                                  0.0   \n44515                                  0.0   \n45147                                  0.0   \n45986                                  0.0   \n50167                                  0.0   \n50393                                  0.0   \n50773                                  0.0   \n51519                                  0.0   \n52057                                  0.0   \n53771                                  0.0   \n54497                                  0.0   \n60263                                  0.0   \n62759                                  0.0   \n63165                                  0.0   \n65667                                  0.0   \n67968                                  0.0   \n71029                                  0.0   \n72068                                  0.0   \n74405                                  0.0   \n74876                                  0.0   \n75267                                  0.0   \n76525                                  0.0   \n76907                                  0.0   \n78355                                  0.0   \n78882                                  0.0   \n79202                                  0.0   \n79467                                  0.0   \n82693                                  0.0   \n87063                                  0.0   \n87854                                  0.0   \n88392                                  0.0   \n89964                                  0.0   \n90913                                  0.0   \n91444                                  0.0   \n97433                                  0.0   \n97732                                  0.0   \n99950                                  0.0   \n101385                                 0.0   \n\n        admission_source_grouped_Transfers  payer_code_labeled  \n38307                                  0.0                10.0  \n40252                                  0.0                 0.0  \n40661                                  0.0                 0.0  \n44515                                  0.0                14.0  \n45147                                  0.0                 0.0  \n45986                                  0.0                 0.0  \n50167                                  0.0                 0.0  \n50393                                  0.0                14.0  \n50773                                  0.0                 0.0  \n51519                                  0.0                 0.0  \n52057                                  0.0                 0.0  \n53771                                  0.0                 0.0  \n54497                                  0.0                 0.0  \n60263                                  0.0                10.0  \n62759                                  0.0                10.0  \n63165                                  0.0                10.0  \n65667                                  0.0                10.0  \n67968                                  0.0                10.0  \n71029                                  0.0                10.0  \n72068                                  0.0                10.0  \n74405                                  0.0                10.0  \n74876                                  0.0                10.0  \n75267                                  0.0                10.0  \n76525                                  0.0                10.0  \n76907                                  0.0                10.0  \n78355                                  0.0                10.0  \n78882                                  0.0                10.0  \n79202                                  0.0                10.0  \n79467                                  0.0                10.0  \n82693                                  0.0                10.0  \n87063                                  0.0                10.0  \n87854                                  0.0                10.0  \n88392                                  0.0                10.0  \n89964                                  0.0                10.0  \n90913                                  0.0                10.0  \n91444                                  0.0                10.0  \n97433                                  0.0                10.0  \n97732                                  0.0                10.0  \n99950                                  0.0                10.0  \n101385                                 1.0                10.0  \n\n[40 rows x 96 columns]",
            "text/html": "<div>\n<style scoped>\n    .dataframe tbody tr th:only-of-type {\n        vertical-align: middle;\n    }\n\n    .dataframe tbody tr th {\n        vertical-align: top;\n    }\n\n    .dataframe thead th {\n        text-align: right;\n    }\n</style>\n<table border=\"1\" class=\"dataframe\">\n  <thead>\n    <tr style=\"text-align: right;\">\n      <th></th>\n      <th>patient_nbr</th>\n      <th>age</th>\n      <th>time_in_hospital</th>\n      <th>num_lab_procedures</th>\n      <th>num_procedures</th>\n      <th>num_medications</th>\n      <th>number_outpatient</th>\n      <th>number_emergency</th>\n      <th>number_inpatient</th>\n      <th>number_diagnoses</th>\n      <th>...</th>\n      <th>discharge_disposition_id_grouped_HomeDischarge</th>\n      <th>discharge_disposition_id_grouped_HomeWFollowUp</th>\n      <th>discharge_disposition_id_grouped_InstitutionalCare</th>\n      <th>discharge_disposition_id_grouped_Unknown</th>\n      <th>admission_source_grouped_Births</th>\n      <th>admission_source_grouped_Data_Issues</th>\n      <th>admission_source_grouped_Emergency_or_Law</th>\n      <th>admission_source_grouped_Referrals</th>\n      <th>admission_source_grouped_Transfers</th>\n      <th>payer_code_labeled</th>\n    </tr>\n  </thead>\n  <tbody>\n    <tr>\n      <th>38307</th>\n      <td>88785891.0</td>\n      <td>0.222222</td>\n      <td>0.000000</td>\n      <td>0.306931</td>\n      <td>0.000000</td>\n      <td>0.230769</td>\n      <td>0.00</td>\n      <td>0.000000</td>\n      <td>0.000000</td>\n      <td>0.090909</td>\n      <td>...</td>\n      <td>1.0</td>\n      <td>0.0</td>\n      <td>0.0</td>\n      <td>0.0</td>\n      <td>0.0</td>\n      <td>0.0</td>\n      <td>1.0</td>\n      <td>0.0</td>\n      <td>0.0</td>\n      <td>10.0</td>\n    </tr>\n    <tr>\n      <th>40252</th>\n      <td>88785891.0</td>\n      <td>0.222222</td>\n      <td>0.000000</td>\n      <td>0.089109</td>\n      <td>0.000000</td>\n      <td>0.230769</td>\n      <td>0.25</td>\n      <td>0.000000</td>\n      <td>0.500000</td>\n      <td>0.000000</td>\n      <td>...</td>\n      <td>1.0</td>\n      <td>0.0</td>\n      <td>0.0</td>\n      <td>0.0</td>\n      <td>0.0</td>\n      <td>0.0</td>\n      <td>1.0</td>\n      <td>0.0</td>\n      <td>0.0</td>\n      <td>0.0</td>\n    </tr>\n    <tr>\n      <th>40661</th>\n      <td>88785891.0</td>\n      <td>0.222222</td>\n      <td>0.333333</td>\n      <td>0.336634</td>\n      <td>0.000000</td>\n      <td>0.358974</td>\n      <td>0.25</td>\n      <td>0.000000</td>\n      <td>0.750000</td>\n      <td>0.363636</td>\n      <td>...</td>\n      <td>1.0</td>\n      <td>0.0</td>\n      <td>0.0</td>\n      <td>0.0</td>\n      <td>0.0</td>\n      <td>0.0</td>\n      <td>1.0</td>\n      <td>0.0</td>\n      <td>0.0</td>\n      <td>0.0</td>\n    </tr>\n    <tr>\n      <th>44515</th>\n      <td>88785891.0</td>\n      <td>0.222222</td>\n      <td>0.083333</td>\n      <td>0.000000</td>\n      <td>0.000000</td>\n      <td>0.179487</td>\n      <td>0.25</td>\n      <td>0.000000</td>\n      <td>0.128757</td>\n      <td>0.090909</td>\n      <td>...</td>\n      <td>1.0</td>\n      <td>0.0</td>\n      <td>0.0</td>\n      <td>0.0</td>\n      <td>0.0</td>\n      <td>0.0</td>\n      <td>1.0</td>\n      <td>0.0</td>\n      <td>0.0</td>\n      <td>14.0</td>\n    </tr>\n    <tr>\n      <th>45147</th>\n      <td>88785891.0</td>\n      <td>0.222222</td>\n      <td>0.083333</td>\n      <td>0.306931</td>\n      <td>0.000000</td>\n      <td>0.076923</td>\n      <td>0.25</td>\n      <td>0.000000</td>\n      <td>0.128757</td>\n      <td>0.636364</td>\n      <td>...</td>\n      <td>1.0</td>\n      <td>0.0</td>\n      <td>0.0</td>\n      <td>0.0</td>\n      <td>0.0</td>\n      <td>0.0</td>\n      <td>1.0</td>\n      <td>0.0</td>\n      <td>0.0</td>\n      <td>0.0</td>\n    </tr>\n    <tr>\n      <th>45986</th>\n      <td>88785891.0</td>\n      <td>0.222222</td>\n      <td>0.250000</td>\n      <td>0.069307</td>\n      <td>0.000000</td>\n      <td>0.333333</td>\n      <td>0.25</td>\n      <td>0.000000</td>\n      <td>0.128757</td>\n      <td>0.636364</td>\n      <td>...</td>\n      <td>1.0</td>\n      <td>0.0</td>\n      <td>0.0</td>\n      <td>0.0</td>\n      <td>0.0</td>\n      <td>0.0</td>\n      <td>1.0</td>\n      <td>0.0</td>\n      <td>0.0</td>\n      <td>0.0</td>\n    </tr>\n    <tr>\n      <th>50167</th>\n      <td>88785891.0</td>\n      <td>0.222222</td>\n      <td>0.000000</td>\n      <td>0.009901</td>\n      <td>0.000000</td>\n      <td>0.205128</td>\n      <td>1.00</td>\n      <td>0.500000</td>\n      <td>0.128757</td>\n      <td>0.454545</td>\n      <td>...</td>\n      <td>1.0</td>\n      <td>0.0</td>\n      <td>0.0</td>\n      <td>0.0</td>\n      <td>0.0</td>\n      <td>0.0</td>\n      <td>1.0</td>\n      <td>0.0</td>\n      <td>0.0</td>\n      <td>0.0</td>\n    </tr>\n    <tr>\n      <th>50393</th>\n      <td>88785891.0</td>\n      <td>0.222222</td>\n      <td>0.250000</td>\n      <td>0.623762</td>\n      <td>0.000000</td>\n      <td>0.461538</td>\n      <td>1.00</td>\n      <td>0.500000</td>\n      <td>0.128757</td>\n      <td>0.363636</td>\n      <td>...</td>\n      <td>1.0</td>\n      <td>0.0</td>\n      <td>0.0</td>\n      <td>0.0</td>\n      <td>0.0</td>\n      <td>0.0</td>\n      <td>1.0</td>\n      <td>0.0</td>\n      <td>0.0</td>\n      <td>14.0</td>\n    </tr>\n    <tr>\n      <th>50773</th>\n      <td>88785891.0</td>\n      <td>0.222222</td>\n      <td>0.000000</td>\n      <td>0.316832</td>\n      <td>0.000000</td>\n      <td>0.230769</td>\n      <td>1.00</td>\n      <td>0.500000</td>\n      <td>0.128757</td>\n      <td>0.363636</td>\n      <td>...</td>\n      <td>0.0</td>\n      <td>0.0</td>\n      <td>0.0</td>\n      <td>0.0</td>\n      <td>0.0</td>\n      <td>0.0</td>\n      <td>1.0</td>\n      <td>0.0</td>\n      <td>0.0</td>\n      <td>0.0</td>\n    </tr>\n    <tr>\n      <th>51519</th>\n      <td>88785891.0</td>\n      <td>0.222222</td>\n      <td>0.000000</td>\n      <td>0.336634</td>\n      <td>0.000000</td>\n      <td>0.230769</td>\n      <td>0.75</td>\n      <td>0.500000</td>\n      <td>0.128757</td>\n      <td>0.181818</td>\n      <td>...</td>\n      <td>1.0</td>\n      <td>0.0</td>\n      <td>0.0</td>\n      <td>0.0</td>\n      <td>0.0</td>\n      <td>0.0</td>\n      <td>1.0</td>\n      <td>0.0</td>\n      <td>0.0</td>\n      <td>0.0</td>\n    </tr>\n    <tr>\n      <th>52057</th>\n      <td>88785891.0</td>\n      <td>0.222222</td>\n      <td>0.000000</td>\n      <td>0.188119</td>\n      <td>0.000000</td>\n      <td>0.153846</td>\n      <td>0.75</td>\n      <td>0.500000</td>\n      <td>0.128757</td>\n      <td>0.272727</td>\n      <td>...</td>\n      <td>1.0</td>\n      <td>0.0</td>\n      <td>0.0</td>\n      <td>0.0</td>\n      <td>0.0</td>\n      <td>0.0</td>\n      <td>1.0</td>\n      <td>0.0</td>\n      <td>0.0</td>\n      <td>0.0</td>\n    </tr>\n    <tr>\n      <th>53771</th>\n      <td>88785891.0</td>\n      <td>0.222222</td>\n      <td>0.083333</td>\n      <td>0.623762</td>\n      <td>0.000000</td>\n      <td>0.307692</td>\n      <td>0.75</td>\n      <td>0.500000</td>\n      <td>0.128757</td>\n      <td>0.454545</td>\n      <td>...</td>\n      <td>1.0</td>\n      <td>0.0</td>\n      <td>0.0</td>\n      <td>0.0</td>\n      <td>0.0</td>\n      <td>0.0</td>\n      <td>1.0</td>\n      <td>0.0</td>\n      <td>0.0</td>\n      <td>0.0</td>\n    </tr>\n    <tr>\n      <th>54497</th>\n      <td>88785891.0</td>\n      <td>0.222222</td>\n      <td>0.166667</td>\n      <td>0.376238</td>\n      <td>0.000000</td>\n      <td>0.282051</td>\n      <td>0.75</td>\n      <td>0.500000</td>\n      <td>0.128757</td>\n      <td>0.181818</td>\n      <td>...</td>\n      <td>1.0</td>\n      <td>0.0</td>\n      <td>0.0</td>\n      <td>0.0</td>\n      <td>0.0</td>\n      <td>0.0</td>\n      <td>1.0</td>\n      <td>0.0</td>\n      <td>0.0</td>\n      <td>0.0</td>\n    </tr>\n    <tr>\n      <th>60263</th>\n      <td>88785891.0</td>\n      <td>0.222222</td>\n      <td>0.583333</td>\n      <td>0.732673</td>\n      <td>0.166667</td>\n      <td>0.538462</td>\n      <td>0.75</td>\n      <td>1.000000</td>\n      <td>0.128757</td>\n      <td>0.636364</td>\n      <td>...</td>\n      <td>1.0</td>\n      <td>0.0</td>\n      <td>0.0</td>\n      <td>0.0</td>\n      <td>0.0</td>\n      <td>0.0</td>\n      <td>1.0</td>\n      <td>0.0</td>\n      <td>0.0</td>\n      <td>10.0</td>\n    </tr>\n    <tr>\n      <th>62759</th>\n      <td>88785891.0</td>\n      <td>0.222222</td>\n      <td>0.166667</td>\n      <td>0.346535</td>\n      <td>0.000000</td>\n      <td>0.358974</td>\n      <td>0.75</td>\n      <td>0.058745</td>\n      <td>0.128757</td>\n      <td>0.636364</td>\n      <td>...</td>\n      <td>1.0</td>\n      <td>0.0</td>\n      <td>0.0</td>\n      <td>0.0</td>\n      <td>0.0</td>\n      <td>0.0</td>\n      <td>1.0</td>\n      <td>0.0</td>\n      <td>0.0</td>\n      <td>10.0</td>\n    </tr>\n    <tr>\n      <th>63165</th>\n      <td>88785891.0</td>\n      <td>0.222222</td>\n      <td>0.250000</td>\n      <td>0.623762</td>\n      <td>0.000000</td>\n      <td>0.461538</td>\n      <td>0.75</td>\n      <td>0.058745</td>\n      <td>0.128757</td>\n      <td>0.636364</td>\n      <td>...</td>\n      <td>1.0</td>\n      <td>0.0</td>\n      <td>0.0</td>\n      <td>0.0</td>\n      <td>0.0</td>\n      <td>0.0</td>\n      <td>1.0</td>\n      <td>0.0</td>\n      <td>0.0</td>\n      <td>10.0</td>\n    </tr>\n    <tr>\n      <th>65667</th>\n      <td>88785891.0</td>\n      <td>0.222222</td>\n      <td>0.083333</td>\n      <td>0.396040</td>\n      <td>0.000000</td>\n      <td>0.282051</td>\n      <td>0.50</td>\n      <td>1.000000</td>\n      <td>0.128757</td>\n      <td>0.181818</td>\n      <td>...</td>\n      <td>1.0</td>\n      <td>0.0</td>\n      <td>0.0</td>\n      <td>0.0</td>\n      <td>0.0</td>\n      <td>0.0</td>\n      <td>1.0</td>\n      <td>0.0</td>\n      <td>0.0</td>\n      <td>10.0</td>\n    </tr>\n    <tr>\n      <th>67968</th>\n      <td>88785891.0</td>\n      <td>0.222222</td>\n      <td>0.333333</td>\n      <td>0.485149</td>\n      <td>0.166667</td>\n      <td>0.461538</td>\n      <td>0.00</td>\n      <td>1.000000</td>\n      <td>0.128757</td>\n      <td>0.272727</td>\n      <td>...</td>\n      <td>1.0</td>\n      <td>0.0</td>\n      <td>0.0</td>\n      <td>0.0</td>\n      <td>0.0</td>\n      <td>0.0</td>\n      <td>1.0</td>\n      <td>0.0</td>\n      <td>0.0</td>\n      <td>10.0</td>\n    </tr>\n    <tr>\n      <th>71029</th>\n      <td>88785891.0</td>\n      <td>0.222222</td>\n      <td>0.000000</td>\n      <td>0.485149</td>\n      <td>0.000000</td>\n      <td>0.205128</td>\n      <td>0.00</td>\n      <td>0.058745</td>\n      <td>0.128757</td>\n      <td>0.272727</td>\n      <td>...</td>\n      <td>1.0</td>\n      <td>0.0</td>\n      <td>0.0</td>\n      <td>0.0</td>\n      <td>0.0</td>\n      <td>0.0</td>\n      <td>1.0</td>\n      <td>0.0</td>\n      <td>0.0</td>\n      <td>10.0</td>\n    </tr>\n    <tr>\n      <th>72068</th>\n      <td>88785891.0</td>\n      <td>0.222222</td>\n      <td>0.083333</td>\n      <td>0.524752</td>\n      <td>0.000000</td>\n      <td>0.435897</td>\n      <td>0.00</td>\n      <td>0.058745</td>\n      <td>0.128757</td>\n      <td>0.363636</td>\n      <td>...</td>\n      <td>0.0</td>\n      <td>0.0</td>\n      <td>0.0</td>\n      <td>0.0</td>\n      <td>0.0</td>\n      <td>0.0</td>\n      <td>1.0</td>\n      <td>0.0</td>\n      <td>0.0</td>\n      <td>10.0</td>\n    </tr>\n    <tr>\n      <th>74405</th>\n      <td>88785891.0</td>\n      <td>0.222222</td>\n      <td>0.000000</td>\n      <td>0.198020</td>\n      <td>0.000000</td>\n      <td>0.333333</td>\n      <td>0.00</td>\n      <td>0.058745</td>\n      <td>0.128757</td>\n      <td>0.090909</td>\n      <td>...</td>\n      <td>1.0</td>\n      <td>0.0</td>\n      <td>0.0</td>\n      <td>0.0</td>\n      <td>0.0</td>\n      <td>0.0</td>\n      <td>1.0</td>\n      <td>0.0</td>\n      <td>0.0</td>\n      <td>10.0</td>\n    </tr>\n    <tr>\n      <th>74876</th>\n      <td>88785891.0</td>\n      <td>0.222222</td>\n      <td>0.083333</td>\n      <td>0.138614</td>\n      <td>0.000000</td>\n      <td>0.179487</td>\n      <td>0.00</td>\n      <td>0.058745</td>\n      <td>0.128757</td>\n      <td>0.636364</td>\n      <td>...</td>\n      <td>1.0</td>\n      <td>0.0</td>\n      <td>0.0</td>\n      <td>0.0</td>\n      <td>0.0</td>\n      <td>0.0</td>\n      <td>1.0</td>\n      <td>0.0</td>\n      <td>0.0</td>\n      <td>10.0</td>\n    </tr>\n    <tr>\n      <th>75267</th>\n      <td>88785891.0</td>\n      <td>0.222222</td>\n      <td>0.083333</td>\n      <td>0.316832</td>\n      <td>0.000000</td>\n      <td>0.256410</td>\n      <td>0.00</td>\n      <td>0.058745</td>\n      <td>0.128757</td>\n      <td>0.636364</td>\n      <td>...</td>\n      <td>1.0</td>\n      <td>0.0</td>\n      <td>0.0</td>\n      <td>0.0</td>\n      <td>0.0</td>\n      <td>0.0</td>\n      <td>1.0</td>\n      <td>0.0</td>\n      <td>0.0</td>\n      <td>10.0</td>\n    </tr>\n    <tr>\n      <th>76525</th>\n      <td>88785891.0</td>\n      <td>0.222222</td>\n      <td>0.500000</td>\n      <td>0.554455</td>\n      <td>0.333333</td>\n      <td>0.512821</td>\n      <td>0.00</td>\n      <td>0.058745</td>\n      <td>0.128757</td>\n      <td>0.545455</td>\n      <td>...</td>\n      <td>1.0</td>\n      <td>0.0</td>\n      <td>0.0</td>\n      <td>0.0</td>\n      <td>0.0</td>\n      <td>0.0</td>\n      <td>1.0</td>\n      <td>0.0</td>\n      <td>0.0</td>\n      <td>10.0</td>\n    </tr>\n    <tr>\n      <th>76907</th>\n      <td>88785891.0</td>\n      <td>0.222222</td>\n      <td>0.250000</td>\n      <td>0.485149</td>\n      <td>0.000000</td>\n      <td>0.564103</td>\n      <td>0.00</td>\n      <td>0.058745</td>\n      <td>0.128757</td>\n      <td>0.363636</td>\n      <td>...</td>\n      <td>1.0</td>\n      <td>0.0</td>\n      <td>0.0</td>\n      <td>0.0</td>\n      <td>0.0</td>\n      <td>0.0</td>\n      <td>1.0</td>\n      <td>0.0</td>\n      <td>0.0</td>\n      <td>10.0</td>\n    </tr>\n    <tr>\n      <th>78355</th>\n      <td>88785891.0</td>\n      <td>0.222222</td>\n      <td>0.500000</td>\n      <td>0.722772</td>\n      <td>0.000000</td>\n      <td>0.589744</td>\n      <td>0.00</td>\n      <td>0.058745</td>\n      <td>0.128757</td>\n      <td>0.636364</td>\n      <td>...</td>\n      <td>1.0</td>\n      <td>0.0</td>\n      <td>0.0</td>\n      <td>0.0</td>\n      <td>0.0</td>\n      <td>0.0</td>\n      <td>1.0</td>\n      <td>0.0</td>\n      <td>0.0</td>\n      <td>10.0</td>\n    </tr>\n    <tr>\n      <th>78882</th>\n      <td>88785891.0</td>\n      <td>0.222222</td>\n      <td>0.166667</td>\n      <td>0.683168</td>\n      <td>0.000000</td>\n      <td>0.333333</td>\n      <td>0.00</td>\n      <td>0.058745</td>\n      <td>0.128757</td>\n      <td>0.181818</td>\n      <td>...</td>\n      <td>1.0</td>\n      <td>0.0</td>\n      <td>0.0</td>\n      <td>0.0</td>\n      <td>0.0</td>\n      <td>0.0</td>\n      <td>1.0</td>\n      <td>0.0</td>\n      <td>0.0</td>\n      <td>10.0</td>\n    </tr>\n    <tr>\n      <th>79202</th>\n      <td>88785891.0</td>\n      <td>0.222222</td>\n      <td>0.000000</td>\n      <td>0.455446</td>\n      <td>0.000000</td>\n      <td>0.230769</td>\n      <td>0.00</td>\n      <td>0.058745</td>\n      <td>0.128757</td>\n      <td>0.454545</td>\n      <td>...</td>\n      <td>1.0</td>\n      <td>0.0</td>\n      <td>0.0</td>\n      <td>0.0</td>\n      <td>0.0</td>\n      <td>0.0</td>\n      <td>1.0</td>\n      <td>0.0</td>\n      <td>0.0</td>\n      <td>10.0</td>\n    </tr>\n    <tr>\n      <th>79467</th>\n      <td>88785891.0</td>\n      <td>0.222222</td>\n      <td>0.000000</td>\n      <td>0.099010</td>\n      <td>0.000000</td>\n      <td>0.179487</td>\n      <td>0.00</td>\n      <td>0.058745</td>\n      <td>0.128757</td>\n      <td>0.454545</td>\n      <td>...</td>\n      <td>1.0</td>\n      <td>0.0</td>\n      <td>0.0</td>\n      <td>0.0</td>\n      <td>0.0</td>\n      <td>0.0</td>\n      <td>1.0</td>\n      <td>0.0</td>\n      <td>0.0</td>\n      <td>10.0</td>\n    </tr>\n    <tr>\n      <th>82693</th>\n      <td>88785891.0</td>\n      <td>0.222222</td>\n      <td>0.083333</td>\n      <td>0.000000</td>\n      <td>0.000000</td>\n      <td>0.358974</td>\n      <td>0.25</td>\n      <td>0.058745</td>\n      <td>0.128757</td>\n      <td>0.545455</td>\n      <td>...</td>\n      <td>0.0</td>\n      <td>0.0</td>\n      <td>0.0</td>\n      <td>0.0</td>\n      <td>0.0</td>\n      <td>0.0</td>\n      <td>1.0</td>\n      <td>0.0</td>\n      <td>0.0</td>\n      <td>10.0</td>\n    </tr>\n    <tr>\n      <th>87063</th>\n      <td>88785891.0</td>\n      <td>0.222222</td>\n      <td>0.500000</td>\n      <td>0.594059</td>\n      <td>0.166667</td>\n      <td>0.512821</td>\n      <td>0.50</td>\n      <td>0.058745</td>\n      <td>0.128757</td>\n      <td>0.636364</td>\n      <td>...</td>\n      <td>1.0</td>\n      <td>0.0</td>\n      <td>0.0</td>\n      <td>0.0</td>\n      <td>0.0</td>\n      <td>0.0</td>\n      <td>1.0</td>\n      <td>0.0</td>\n      <td>0.0</td>\n      <td>10.0</td>\n    </tr>\n    <tr>\n      <th>87854</th>\n      <td>88785891.0</td>\n      <td>0.222222</td>\n      <td>0.500000</td>\n      <td>0.613861</td>\n      <td>0.166667</td>\n      <td>0.487179</td>\n      <td>0.50</td>\n      <td>0.058745</td>\n      <td>0.128757</td>\n      <td>0.636364</td>\n      <td>...</td>\n      <td>1.0</td>\n      <td>0.0</td>\n      <td>0.0</td>\n      <td>0.0</td>\n      <td>0.0</td>\n      <td>0.0</td>\n      <td>1.0</td>\n      <td>0.0</td>\n      <td>0.0</td>\n      <td>10.0</td>\n    </tr>\n    <tr>\n      <th>88392</th>\n      <td>88785891.0</td>\n      <td>0.222222</td>\n      <td>0.166667</td>\n      <td>0.613861</td>\n      <td>0.000000</td>\n      <td>0.358974</td>\n      <td>0.50</td>\n      <td>0.058745</td>\n      <td>0.128757</td>\n      <td>0.636364</td>\n      <td>...</td>\n      <td>1.0</td>\n      <td>0.0</td>\n      <td>0.0</td>\n      <td>0.0</td>\n      <td>0.0</td>\n      <td>0.0</td>\n      <td>1.0</td>\n      <td>0.0</td>\n      <td>0.0</td>\n      <td>10.0</td>\n    </tr>\n    <tr>\n      <th>89964</th>\n      <td>88785891.0</td>\n      <td>0.222222</td>\n      <td>0.416667</td>\n      <td>0.683168</td>\n      <td>0.000000</td>\n      <td>0.487179</td>\n      <td>0.50</td>\n      <td>0.058745</td>\n      <td>0.128757</td>\n      <td>0.636364</td>\n      <td>...</td>\n      <td>0.0</td>\n      <td>0.0</td>\n      <td>0.0</td>\n      <td>1.0</td>\n      <td>0.0</td>\n      <td>0.0</td>\n      <td>1.0</td>\n      <td>0.0</td>\n      <td>0.0</td>\n      <td>10.0</td>\n    </tr>\n    <tr>\n      <th>90913</th>\n      <td>88785891.0</td>\n      <td>0.222222</td>\n      <td>0.333333</td>\n      <td>0.792079</td>\n      <td>0.000000</td>\n      <td>0.410256</td>\n      <td>0.50</td>\n      <td>1.000000</td>\n      <td>0.128757</td>\n      <td>0.454545</td>\n      <td>...</td>\n      <td>1.0</td>\n      <td>0.0</td>\n      <td>0.0</td>\n      <td>0.0</td>\n      <td>0.0</td>\n      <td>0.0</td>\n      <td>1.0</td>\n      <td>0.0</td>\n      <td>0.0</td>\n      <td>10.0</td>\n    </tr>\n    <tr>\n      <th>91444</th>\n      <td>88785891.0</td>\n      <td>0.222222</td>\n      <td>0.166667</td>\n      <td>0.079208</td>\n      <td>0.000000</td>\n      <td>0.230769</td>\n      <td>0.50</td>\n      <td>0.058745</td>\n      <td>0.128757</td>\n      <td>0.636364</td>\n      <td>...</td>\n      <td>1.0</td>\n      <td>0.0</td>\n      <td>0.0</td>\n      <td>0.0</td>\n      <td>0.0</td>\n      <td>0.0</td>\n      <td>1.0</td>\n      <td>0.0</td>\n      <td>0.0</td>\n      <td>10.0</td>\n    </tr>\n    <tr>\n      <th>97433</th>\n      <td>88785891.0</td>\n      <td>0.222222</td>\n      <td>0.333333</td>\n      <td>0.663366</td>\n      <td>0.333333</td>\n      <td>0.589744</td>\n      <td>0.50</td>\n      <td>0.058745</td>\n      <td>0.128757</td>\n      <td>0.636364</td>\n      <td>...</td>\n      <td>1.0</td>\n      <td>0.0</td>\n      <td>0.0</td>\n      <td>0.0</td>\n      <td>0.0</td>\n      <td>0.0</td>\n      <td>1.0</td>\n      <td>0.0</td>\n      <td>0.0</td>\n      <td>10.0</td>\n    </tr>\n    <tr>\n      <th>97732</th>\n      <td>88785891.0</td>\n      <td>0.222222</td>\n      <td>0.166667</td>\n      <td>0.326733</td>\n      <td>0.000000</td>\n      <td>0.282051</td>\n      <td>0.50</td>\n      <td>0.058745</td>\n      <td>0.128757</td>\n      <td>0.636364</td>\n      <td>...</td>\n      <td>1.0</td>\n      <td>0.0</td>\n      <td>0.0</td>\n      <td>0.0</td>\n      <td>0.0</td>\n      <td>0.0</td>\n      <td>1.0</td>\n      <td>0.0</td>\n      <td>0.0</td>\n      <td>10.0</td>\n    </tr>\n    <tr>\n      <th>99950</th>\n      <td>88785891.0</td>\n      <td>0.222222</td>\n      <td>0.083333</td>\n      <td>0.099010</td>\n      <td>0.000000</td>\n      <td>0.205128</td>\n      <td>0.50</td>\n      <td>0.058745</td>\n      <td>0.128757</td>\n      <td>0.272727</td>\n      <td>...</td>\n      <td>1.0</td>\n      <td>0.0</td>\n      <td>0.0</td>\n      <td>0.0</td>\n      <td>0.0</td>\n      <td>0.0</td>\n      <td>1.0</td>\n      <td>0.0</td>\n      <td>0.0</td>\n      <td>10.0</td>\n    </tr>\n    <tr>\n      <th>101385</th>\n      <td>88785891.0</td>\n      <td>0.222222</td>\n      <td>0.166667</td>\n      <td>0.079208</td>\n      <td>0.000000</td>\n      <td>0.179487</td>\n      <td>0.50</td>\n      <td>0.058745</td>\n      <td>0.128757</td>\n      <td>0.636364</td>\n      <td>...</td>\n      <td>0.0</td>\n      <td>0.0</td>\n      <td>0.0</td>\n      <td>0.0</td>\n      <td>0.0</td>\n      <td>0.0</td>\n      <td>0.0</td>\n      <td>0.0</td>\n      <td>1.0</td>\n      <td>10.0</td>\n    </tr>\n  </tbody>\n</table>\n<p>40 rows × 96 columns</p>\n</div>"
          },
          "execution_count": 10,
          "metadata": {},
          "output_type": "execute_result"
        }
      ]
    },
    {
      "cell_type": "markdown",
      "source": [
        "#### Approach 1: Dropping reappearing patients"
      ],
      "metadata": {
        "id": "yrliYZi8jQ1y"
      }
    },
    {
      "cell_type": "code",
      "source": [
        "len(data[\"patient_nbr\"].unique())"
      ],
      "metadata": {
        "colab": {
          "base_uri": "https://localhost:8080/"
        },
        "id": "knuAjaXgjuch",
        "outputId": "42c4c3ec-1fdb-47d8-f946-bf81ae756b7b",
        "ExecuteTime": {
          "end_time": "2024-05-02T13:02:43.098152200Z",
          "start_time": "2024-05-02T13:02:42.990295300Z"
        }
      },
      "execution_count": null,
      "outputs": [
        {
          "data": {
            "text/plain": "71518"
          },
          "execution_count": 11,
          "metadata": {},
          "output_type": "execute_result"
        }
      ]
    },
    {
      "cell_type": "markdown",
      "source": [
        "**Method 'get_split_for_unique_patients'**"
      ],
      "metadata": {
        "id": "u7sjiDcc1uOb"
      }
    },
    {
      "cell_type": "code",
      "source": [
        "def get_split_for_unique_patients(data):\n",
        "  data_unique_patients = data.drop_duplicates(subset='patient_nbr', keep=\"first\")\n",
        "  data_unique_patients = data_unique_patients.drop(\"patient_nbr\", axis=1)\n",
        "  features = data_unique_patients.columns[data_unique_patients.columns != \"readmitted\"].tolist()\n",
        "  target_value = [\"readmitted\"]\n",
        "\n",
        "  X = data_unique_patients[features]\n",
        "  y = data_unique_patients[target_value]\n",
        "\n",
        "  return train_test_split(X, y, test_size=0.2)"
      ],
      "metadata": {
        "id": "58Vjls8wliz4",
        "ExecuteTime": {
          "end_time": "2024-05-02T13:02:43.148747200Z",
          "start_time": "2024-05-02T13:02:43.040186600Z"
        }
      },
      "execution_count": null,
      "outputs": []
    },
    {
      "cell_type": "code",
      "source": [
        "# example how to use the function to get the 80-20 split\n",
        "X_train, X_test, y_train, y_test = get_split_for_unique_patients(data)"
      ],
      "metadata": {
        "id": "P4JrFeFhmUZz",
        "ExecuteTime": {
          "end_time": "2024-05-02T13:02:43.278979100Z",
          "start_time": "2024-05-02T13:02:43.074511800Z"
        }
      },
      "execution_count": null,
      "outputs": []
    },
    {
      "cell_type": "code",
      "source": [
        "len(X_train) + len(X_test)"
      ],
      "metadata": {
        "colab": {
          "base_uri": "https://localhost:8080/"
        },
        "id": "y3q-D4gv_AsA",
        "outputId": "68452a6d-7c17-43ea-afcb-bf76be32ae9b",
        "ExecuteTime": {
          "end_time": "2024-05-02T13:02:43.294805400Z",
          "start_time": "2024-05-02T13:02:43.282692Z"
        }
      },
      "execution_count": null,
      "outputs": [
        {
          "data": {
            "text/plain": "71518"
          },
          "execution_count": 14,
          "metadata": {},
          "output_type": "execute_result"
        }
      ]
    },
    {
      "cell_type": "markdown",
      "source": [
        "### Approach 2: Sorting, splitting and mixing\n",
        "Steps:\n",
        "1. Sort dataset by 'patient_nbr'\n",
        "2. Split dataset\n",
        "3. Ensure that no patient from training appears in test\n",
        "4. Mix both datasets (otherwise it will be ordered)\n",
        "\n",
        "One problem that has to be addressed: It could be analyzed whether having a highly recurring patient in one dataset has a negative impact on the result."
      ],
      "metadata": {
        "id": "Qt97cD5Zk0hW"
      }
    },
    {
      "cell_type": "markdown",
      "source": [
        "**Method 'get_split_for_sorted_patients'**"
      ],
      "metadata": {
        "id": "6FJBw92L8-Pm"
      }
    },
    {
      "cell_type": "code",
      "source": [
        "from sklearn.model_selection import GroupShuffleSplit\n",
        "from sklearn.utils import shuffle\n",
        "\n",
        "def get_split_for_sorted_patients(data):\n",
        "  # define data set and target value\n",
        "  X = data.drop(columns=[\"readmitted\"])\n",
        "  y = data[\"readmitted\"]\n",
        "\n",
        "  # define group\n",
        "  groups = data[\"patient_nbr\"]\n",
        "\n",
        "  # instance of GroupShuffleSplit\n",
        "  gss = GroupShuffleSplit(n_splits=1, test_size=0.2, random_state=42)\n",
        "\n",
        "  # Split dataset\n",
        "  for train_idx, test_idx in gss.split(X, y, groups=groups):\n",
        "      X_train, X_test = X.iloc[train_idx], X.iloc[test_idx]\n",
        "      y_train, y_test = y.iloc[train_idx], y.iloc[test_idx]\n",
        "\n",
        "  # check whether patient_nbr appear in both datasets\n",
        "  common_patient_nbrs = set(X_train[\"patient_nbr\"]).intersection(set(X_test[\"patient_nbr\"]))\n",
        "  print(\"common patient numbers:\", common_patient_nbrs)\n",
        "\n",
        "  # Remove patient_nbr column from both datasets\n",
        "  X_train = X_train.drop(columns=[\"patient_nbr\"])\n",
        "  X_test = X_test.drop(columns=[\"patient_nbr\"])\n",
        "\n",
        "  # shuffle all datasets before returning than (using random_state to ensure that rows still match after shuffling)\n",
        "  X_train = shuffle(X_train, random_state=42)\n",
        "  X_test = shuffle(X_test, random_state=42)\n",
        "  y_train = shuffle(y_train, random_state=42)\n",
        "  y_test = shuffle(y_test, random_state=42)\n",
        "\n",
        "  if len(common_patient_nbrs) == 0:\n",
        "    return X_train, X_test, y_train, y_test\n"
      ],
      "metadata": {
        "id": "A7qQXwZxlfIV",
        "ExecuteTime": {
          "end_time": "2024-05-02T13:02:43.336324200Z",
          "start_time": "2024-05-02T13:02:43.294805400Z"
        }
      },
      "execution_count": null,
      "outputs": []
    },
    {
      "cell_type": "code",
      "source": [
        "# example how to use the function to get the 80-20 split\n",
        "X_train, X_test, y_train, y_test = get_split_for_sorted_patients(data)"
      ],
      "metadata": {
        "colab": {
          "base_uri": "https://localhost:8080/"
        },
        "id": "wM8NtpYk3v-h",
        "outputId": "f630f914-d515-4b92-e993-0446fb1ebd3b",
        "ExecuteTime": {
          "end_time": "2024-05-02T13:02:43.595090800Z",
          "start_time": "2024-05-02T13:02:43.330197700Z"
        }
      },
      "execution_count": null,
      "outputs": [
        {
          "name": "stdout",
          "output_type": "stream",
          "text": [
            "common patient numbers: set()\n"
          ]
        }
      ]
    },
    {
      "cell_type": "code",
      "outputs": [],
      "source": [
        "pickle.dump( X_train, open( \"X_train.p\", \"wb\" ) )\n",
        "pickle.dump( X_test, open( \"X_test.p\", \"wb\" ) )\n",
        "pickle.dump( y_train, open( \"y_train.p\", \"wb\" ) )\n",
        "pickle.dump( y_test, open( \"y_test.p\", \"wb\" ) )\n"
      ],
      "metadata": {
        "ExecuteTime": {
          "end_time": "2024-05-02T13:08:40.548821200Z",
          "start_time": "2024-05-02T13:08:40.352833400Z"
        },
        "id": "EACBetyjD6dN"
      },
      "execution_count": null
    }
  ]
}