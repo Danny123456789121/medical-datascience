{
 "cells": [
  {
   "cell_type": "code",
   "execution_count": null,
   "id": "initial_id",
   "metadata": {
    "collapsed": true,
    "ExecuteTime": {
     "start_time": "2024-05-02T16:35:22.385649Z"
    }
   },
   "outputs": [],
   "source": [
    "import pickle\n",
    "from imblearn.under_sampling import RandomUnderSampler\n",
    "from sklearn.svm import SVC\n",
    "from sklearn.metrics import classification_report, confusion_matrix, ConfusionMatrixDisplay\n",
    "import matplotlib.pyplot as plt\n",
    "from sklearn.model_selection import GridSearchCV"
   ]
  },
  {
   "cell_type": "code",
   "outputs": [],
   "source": [
    "X_train = pickle.load( open( \"../data/X_train.p\", \"rb\" ) )\n",
    "X_test = pickle.load( open( \"../data/X_test.p\", \"rb\" ) )\n",
    "y_train = pickle.load( open( \"../data/y_train.p\", \"rb\" ) )\n",
    "y_test = pickle.load( open( \"../data/y_test.p\", \"rb\" ) )"
   ],
   "metadata": {
    "collapsed": false,
    "ExecuteTime": {
     "start_time": "2024-05-02T16:35:22.388909200Z"
    }
   },
   "id": "aaeb34a35dcf4643",
   "execution_count": null
  },
  {
   "cell_type": "markdown",
   "source": [
    "### no resampling without hyperparameter tuning"
   ],
   "metadata": {
    "collapsed": false
   },
   "id": "b06fef3303b38183"
  },
  {
   "cell_type": "code",
   "outputs": [],
   "source": [
    "svc = SVC()\n",
    "\n",
    "svc.fit(X_train, y_train.values)\n",
    "y_pred = svc.predict(X_test)\n",
    "\n",
    "print(y_test, y_pred)\n",
    "print(y_train.values.ravel())\n",
    "print(\"Confusion Matrix:\")\n",
    "print(confusion_matrix(y_test, y_pred))\n",
    "print(\"Classification Report:\")\n",
    "print(classification_report(y_test, y_pred))\n",
    "\n",
    "fig,ax = plt.subplots(figsize=(5,4),dpi = 100)\n",
    "cm = confusion_matrix(y_test,y_pred)\n",
    "cmp = ConfusionMatrixDisplay(cm,display_labels = ['not readmitted','readmitted'])\n",
    "cmp.plot(ax = ax)"
   ],
   "metadata": {
    "collapsed": false,
    "ExecuteTime": {
     "start_time": "2024-05-02T16:35:22.392087300Z"
    }
   },
   "id": "417ab6e06cb02d57",
   "execution_count": null
  },
  {
   "cell_type": "markdown",
   "source": [
    "### Undersampling with no hyperparameter tuning"
   ],
   "metadata": {
    "collapsed": false
   },
   "id": "414b7f6a0bcbf923"
  },
  {
   "cell_type": "code",
   "outputs": [],
   "source": [
    "rus = RandomUnderSampler()\n",
    "X_train_undersampled, y_train_undersampled = rus.fit_resample(X_train, y_train)\n",
    "\n",
    "print(\"Before undersampling:\")\n",
    "print(y_train.value_counts())\n",
    "print(\"\\nAfter undersampling:\")\n",
    "print(y_train_undersampled.value_counts())"
   ],
   "metadata": {
    "collapsed": false,
    "ExecuteTime": {
     "start_time": "2024-05-02T16:35:22.395747900Z"
    }
   },
   "id": "61c76997ff532e23",
   "execution_count": null
  },
  {
   "cell_type": "code",
   "outputs": [],
   "source": [
    "svc = SVC()\n",
    "\n",
    "svc.fit(X_train_undersampled, y_train_undersampled.values)\n",
    "y_pred = svc.predict(X_test)\n",
    "\n",
    "print(\"Confusion Matrix:\")\n",
    "print(confusion_matrix(y_test, y_pred))\n",
    "print(\"Classification Report:\")\n",
    "print(classification_report(y_test, y_pred))"
   ],
   "metadata": {
    "collapsed": false,
    "ExecuteTime": {
     "start_time": "2024-05-02T16:35:22.398828500Z"
    }
   },
   "id": "84ebf81ab851a9b5",
   "execution_count": null
  },
  {
   "cell_type": "code",
   "outputs": [],
   "source": [
    "fig, ax = plt.subplots(figsize=(5, 4), dpi=100)\n",
    "cm = confusion_matrix(y_test, y_pred)\n",
    "cmp = ConfusionMatrixDisplay(cm, display_labels=['not readmitted within 30', 'readmitted within 30'])\n",
    "plt.show(ax=ax)"
   ],
   "metadata": {
    "collapsed": false,
    "ExecuteTime": {
     "start_time": "2024-05-02T16:35:22.400896300Z"
    }
   },
   "id": "af1171ced43cf03c",
   "execution_count": null
  },
  {
   "cell_type": "markdown",
   "source": [
    "### Oversampling and no hyper parameter tuning"
   ],
   "metadata": {
    "collapsed": false
   },
   "id": "e7b239589022ce0"
  },
  {
   "cell_type": "code",
   "outputs": [],
   "source": [
    "from imblearn.over_sampling import SMOTE\n",
    "\n",
    "smote = SMOTE()\n",
    "X_train_oversampled, y_train_oversampled = smote.fit_resample(X_train, y_train.values.ravel())\n",
    "\n",
    "print(\"Before SMOTE:\")\n",
    "print(y_train.value_counts())\n",
    "print(\"\\nAfter SMOTE:\")\n",
    "print(y_train_oversampled.shape)"
   ],
   "metadata": {
    "collapsed": false,
    "ExecuteTime": {
     "start_time": "2024-05-02T16:35:22.403557900Z"
    }
   },
   "id": "f4910d06f6e233b9"
  },
  {
   "cell_type": "code",
   "outputs": [],
   "source": [
    "svc = SVC()\n",
    "\n",
    "svc.fit(X_train_oversampled, y_train_oversampled.ravel())\n",
    "y_pred = svc.predict(X_test)\n",
    "\n",
    "print(\"Confusion Matrix:\")\n",
    "print(confusion_matrix(y_test, y_pred))\n",
    "print(\"Classification Report:\")\n",
    "print(classification_report(y_test, y_pred))\n",
    "\n",
    "fig,ax = plt.subplots(figsize=(5,4),dpi = 100)\n",
    "cm = confusion_matrix(y_test,y_pred)\n",
    "cmp = ConfusionMatrixDisplay(cm,display_labels = ['not readmitted','readmitted'])\n",
    "cmp.plot(ax = ax)"
   ],
   "metadata": {
    "collapsed": false,
    "ExecuteTime": {
     "start_time": "2024-05-02T16:35:22.406753900Z"
    }
   },
   "id": "7015c97b50887be4"
  },
  {
   "cell_type": "code",
   "outputs": [],
   "source": [
    "parameters = {'class_weight' : [{0:0.1,1:0.1}, {0:0.1,1:0.3}, {0:0.1,1:0.5}]}\n",
    "clf = GridSearchCV(svc, parameters, n_jobs=-1, scoring='f1')\n",
    "clf.fit(X_train_undersampled, y_train_undersampled.values)"
   ],
   "metadata": {
    "collapsed": false,
    "ExecuteTime": {
     "start_time": "2024-05-02T16:35:22.408832900Z"
    }
   },
   "id": "daef287bc4a5433f",
   "execution_count": null
  },
  {
   "cell_type": "code",
   "outputs": [],
   "source": [
    "print(\"Best Parameters: \", clf.best_params_)\n",
    "print(\"Best cvs score (accuracy): \", clf.cv_results_)"
   ],
   "metadata": {
    "collapsed": false,
    "ExecuteTime": {
     "start_time": "2024-05-02T16:35:22.410967500Z"
    }
   },
   "id": "a5d9d68910ce3df4",
   "execution_count": null
  },
  {
   "cell_type": "markdown",
   "source": [],
   "metadata": {
    "collapsed": false
   },
   "id": "2210c46ce3b28b0b"
  }
 ],
 "metadata": {
  "kernelspec": {
   "display_name": "Python 3",
   "language": "python",
   "name": "python3"
  },
  "language_info": {
   "codemirror_mode": {
    "name": "ipython",
    "version": 2
   },
   "file_extension": ".py",
   "mimetype": "text/x-python",
   "name": "python",
   "nbconvert_exporter": "python",
   "pygments_lexer": "ipython2",
   "version": "2.7.6"
  }
 },
 "nbformat": 4,
 "nbformat_minor": 5
}
