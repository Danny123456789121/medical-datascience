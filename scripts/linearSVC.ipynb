{
 "cells": [
  {
   "cell_type": "code",
   "execution_count": 1,
   "id": "initial_id",
   "metadata": {
    "collapsed": true,
    "ExecuteTime": {
     "end_time": "2024-05-02T17:11:10.454483100Z",
     "start_time": "2024-05-02T17:11:09.839543Z"
    }
   },
   "outputs": [],
   "source": [
    "import pickle\n",
    "from imblearn.under_sampling import RandomUnderSampler\n",
    "from sklearn.svm import SVC\n",
    "from sklearn.metrics import classification_report, confusion_matrix, ConfusionMatrixDisplay\n",
    "import matplotlib.pyplot as plt\n",
    "from sklearn.model_selection import GridSearchCV"
   ]
  },
  {
   "cell_type": "code",
   "outputs": [],
   "source": [
    "X_train = pickle.load( open( \"../data/X_train.p\", \"rb\" ) )\n",
    "X_test = pickle.load( open( \"../data/X_test.p\", \"rb\" ) )\n",
    "y_train = pickle.load( open( \"../data/y_train.p\", \"rb\" ) )\n",
    "y_test = pickle.load( open( \"../data/y_test.p\", \"rb\" ) )"
   ],
   "metadata": {
    "collapsed": false,
    "ExecuteTime": {
     "end_time": "2024-05-02T17:11:10.478592Z",
     "start_time": "2024-05-02T17:11:10.447600Z"
    }
   },
   "id": "aaeb34a35dcf4643",
   "execution_count": 2
  },
  {
   "cell_type": "markdown",
   "source": [
    "### no resampling without hyperparameter tuning"
   ],
   "metadata": {
    "collapsed": false
   },
   "id": "b06fef3303b38183"
  },
  {
   "cell_type": "code",
   "outputs": [],
   "source": [
    "svc = SVC()\n",
    "\n",
    "svc.fit(X_train, y_train.values)\n",
    "y_pred = svc.predict(X_test)\n",
    "\n",
    "print(y_test, y_pred)\n",
    "print(y_train.values.ravel())\n",
    "print(\"Confusion Matrix:\")\n",
    "print(confusion_matrix(y_test, y_pred))\n",
    "print(\"Classification Report:\")\n",
    "print(classification_report(y_test, y_pred))\n",
    "\n",
    "fig,ax = plt.subplots(figsize=(5,4),dpi = 100)\n",
    "cm = confusion_matrix(y_test,y_pred)\n",
    "cmp = ConfusionMatrixDisplay(cm,display_labels = ['not readmitted','readmitted'])\n",
    "cmp.plot(ax = ax)"
   ],
   "metadata": {
    "collapsed": false,
    "is_executing": true,
    "ExecuteTime": {
     "start_time": "2024-05-02T16:40:17.681252Z"
    }
   },
   "id": "417ab6e06cb02d57",
   "execution_count": null
  },
  {
   "cell_type": "markdown",
   "source": [
    "### Undersampling with no hyperparameter tuning"
   ],
   "metadata": {
    "collapsed": false
   },
   "id": "414b7f6a0bcbf923"
  },
  {
   "cell_type": "code",
   "outputs": [
    {
     "name": "stdout",
     "output_type": "stream",
     "text": [
      "Before undersampling:\n",
      "readmitted\n",
      "0    67650\n",
      "1     8053\n",
      "Name: count, dtype: int64\n",
      "\n",
      "After undersampling:\n",
      "readmitted\n",
      "0    8053\n",
      "1    8053\n",
      "Name: count, dtype: int64\n"
     ]
    }
   ],
   "source": [
    "rus = RandomUnderSampler()\n",
    "X_train_undersampled, y_train_undersampled = rus.fit_resample(X_train, y_train)\n",
    "\n",
    "print(\"Before undersampling:\")\n",
    "print(y_train.value_counts())\n",
    "print(\"\\nAfter undersampling:\")\n",
    "print(y_train_undersampled.value_counts())"
   ],
   "metadata": {
    "collapsed": false,
    "ExecuteTime": {
     "end_time": "2024-05-02T17:11:10.576301900Z",
     "start_time": "2024-05-02T17:11:10.475384700Z"
    }
   },
   "id": "61c76997ff532e23",
   "execution_count": 3
  },
  {
   "cell_type": "code",
   "outputs": [
    {
     "name": "stdout",
     "output_type": "stream",
     "text": [
      "Confusion Matrix:\n",
      "[[11170  5805]\n",
      " [  910   985]]\n",
      "Classification Report:\n",
      "              precision    recall  f1-score   support\n",
      "\n",
      "           0       0.92      0.66      0.77     16975\n",
      "           1       0.15      0.52      0.23      1895\n",
      "\n",
      "    accuracy                           0.64     18870\n",
      "   macro avg       0.53      0.59      0.50     18870\n",
      "weighted avg       0.85      0.64      0.71     18870\n"
     ]
    }
   ],
   "source": [
    "svc = SVC()\n",
    "\n",
    "svc.fit(X_train_undersampled, y_train_undersampled.values)\n",
    "y_pred = svc.predict(X_test)\n",
    "\n",
    "print(\"Confusion Matrix:\")\n",
    "print(confusion_matrix(y_test, y_pred))\n",
    "print(\"Classification Report:\")\n",
    "print(classification_report(y_test, y_pred))"
   ],
   "metadata": {
    "collapsed": false,
    "ExecuteTime": {
     "end_time": "2024-05-02T17:12:07.941496500Z",
     "start_time": "2024-05-02T17:11:10.573280Z"
    }
   },
   "id": "84ebf81ab851a9b5",
   "execution_count": 4
  },
  {
   "cell_type": "code",
   "outputs": [
    {
     "data": {
      "text/plain": "<sklearn.metrics._plot.confusion_matrix.ConfusionMatrixDisplay at 0x2305f54b190>"
     },
     "execution_count": 5,
     "metadata": {},
     "output_type": "execute_result"
    },
    {
     "data": {
      "text/plain": "<Figure size 500x400 with 2 Axes>",
      "image/png": "[encoded data removed]"
     },
     "metadata": {},
     "output_type": "display_data"
    }
   ],
   "source": [
    "fig, ax = plt.subplots(figsize=(5, 4), dpi=100)\n",
    "cm = confusion_matrix(y_test, y_pred)\n",
    "cmp = ConfusionMatrixDisplay(cm, display_labels=['not readmitted within 30', 'readmitted within 30'])\n",
    "cmp.plot(ax=ax)"
   ],
   "metadata": {
    "collapsed": false,
    "ExecuteTime": {
     "end_time": "2024-05-02T17:12:08.144332Z",
     "start_time": "2024-05-02T17:12:07.943009Z"
    }
   },
   "id": "af1171ced43cf03c",
   "execution_count": 5
  },
  {
   "cell_type": "markdown",
   "source": [
    "### Oversampling and no hyper parameter tuning"
   ],
   "metadata": {
    "collapsed": false
   },
   "id": "e7b239589022ce0"
  },
  {
   "cell_type": "code",
   "outputs": [
    {
     "name": "stdout",
     "output_type": "stream",
     "text": [
      "Before SMOTE:\n",
      "readmitted\n",
      "0    67650\n",
      "1     8053\n",
      "Name: count, dtype: int64\n",
      "\n",
      "After SMOTE:\n",
      "(135300,)\n"
     ]
    }
   ],
   "source": [
    "from imblearn.over_sampling import SMOTE\n",
    "\n",
    "smote = SMOTE()\n",
    "X_train_oversampled, y_train_oversampled = smote.fit_resample(X_train, y_train.values.ravel())\n",
    "\n",
    "print(\"Before SMOTE:\")\n",
    "print(y_train.value_counts())\n",
    "print(\"\\nAfter SMOTE:\")\n",
    "print(y_train_oversampled.shape)"
   ],
   "metadata": {
    "collapsed": false,
    "ExecuteTime": {
     "end_time": "2024-05-02T17:03:15.333676700Z",
     "start_time": "2024-05-02T17:03:14.086794Z"
    }
   },
   "id": "f4910d06f6e233b9",
   "execution_count": 8
  },
  {
   "cell_type": "code",
   "outputs": [],
   "source": [
    "svc = SVC()\n",
    "\n",
    "svc.fit(X_train_oversampled, y_train_oversampled.ravel())\n",
    "y_pred = svc.predict(X_test)\n",
    "\n",
    "print(\"Confusion Matrix:\")\n",
    "print(confusion_matrix(y_test, y_pred))\n",
    "print(\"Classification Report:\")\n",
    "print(classification_report(y_test, y_pred))\n",
    "\n",
    "fig,ax = plt.subplots(figsize=(5,4),dpi = 100)\n",
    "cm = confusion_matrix(y_test,y_pred)\n",
    "cmp = ConfusionMatrixDisplay(cm,display_labels = ['not readmitted','readmitted'])\n",
    "cmp.plot(ax = ax)"
   ],
   "metadata": {
    "collapsed": false,
    "is_executing": true,
    "ExecuteTime": {
     "start_time": "2024-05-02T17:03:17.491051600Z"
    }
   },
   "id": "7015c97b50887be4"
  },
  {
   "cell_type": "code",
   "outputs": [
    {
     "data": {
      "text/plain": "GridSearchCV(estimator=SVC(), n_jobs=-1,\n             param_grid={'class_weight': [{0: 0.1, 1: 0.1}, {0: 0.1, 1: 0.3},\n                                          {0: 0.1, 1: 0.5}]},\n             scoring='f1')",
      "text/html": "<style>#sk-container-id-1 {color: black;background-color: white;}#sk-container-id-1 pre{padding: 0;}#sk-container-id-1 div.sk-toggleable {background-color: white;}#sk-container-id-1 label.sk-toggleable__label {cursor: pointer;display: block;width: 100%;margin-bottom: 0;padding: 0.3em;box-sizing: border-box;text-align: center;}#sk-container-id-1 label.sk-toggleable__label-arrow:before {content: \"▸\";float: left;margin-right: 0.25em;color: #696969;}#sk-container-id-1 label.sk-toggleable__label-arrow:hover:before {color: black;}#sk-container-id-1 div.sk-estimator:hover label.sk-toggleable__label-arrow:before {color: black;}#sk-container-id-1 div.sk-toggleable__content {max-height: 0;max-width: 0;overflow: hidden;text-align: left;background-color: #f0f8ff;}#sk-container-id-1 div.sk-toggleable__content pre {margin: 0.2em;color: black;border-radius: 0.25em;background-color: #f0f8ff;}#sk-container-id-1 input.sk-toggleable__control:checked~div.sk-toggleable__content {max-height: 200px;max-width: 100%;overflow: auto;}#sk-container-id-1 input.sk-toggleable__control:checked~label.sk-toggleable__label-arrow:before {content: \"▾\";}#sk-container-id-1 div.sk-estimator input.sk-toggleable__control:checked~label.sk-toggleable__label {background-color: #d4ebff;}#sk-container-id-1 div.sk-label input.sk-toggleable__control:checked~label.sk-toggleable__label {background-color: #d4ebff;}#sk-container-id-1 input.sk-hidden--visually {border: 0;clip: rect(1px 1px 1px 1px);clip: rect(1px, 1px, 1px, 1px);height: 1px;margin: -1px;overflow: hidden;padding: 0;position: absolute;width: 1px;}#sk-container-id-1 div.sk-estimator {font-family: monospace;background-color: #f0f8ff;border: 1px dotted black;border-radius: 0.25em;box-sizing: border-box;margin-bottom: 0.5em;}#sk-container-id-1 div.sk-estimator:hover {background-color: #d4ebff;}#sk-container-id-1 div.sk-parallel-item::after {content: \"\";width: 100%;border-bottom: 1px solid gray;flex-grow: 1;}#sk-container-id-1 div.sk-label:hover label.sk-toggleable__label {background-color: #d4ebff;}#sk-container-id-1 div.sk-serial::before {content: \"\";position: absolute;border-left: 1px solid gray;box-sizing: border-box;top: 0;bottom: 0;left: 50%;z-index: 0;}#sk-container-id-1 div.sk-serial {display: flex;flex-direction: column;align-items: center;background-color: white;padding-right: 0.2em;padding-left: 0.2em;position: relative;}#sk-container-id-1 div.sk-item {position: relative;z-index: 1;}#sk-container-id-1 div.sk-parallel {display: flex;align-items: stretch;justify-content: center;background-color: white;position: relative;}#sk-container-id-1 div.sk-item::before, #sk-container-id-1 div.sk-parallel-item::before {content: \"\";position: absolute;border-left: 1px solid gray;box-sizing: border-box;top: 0;bottom: 0;left: 50%;z-index: -1;}#sk-container-id-1 div.sk-parallel-item {display: flex;flex-direction: column;z-index: 1;position: relative;background-color: white;}#sk-container-id-1 div.sk-parallel-item:first-child::after {align-self: flex-end;width: 50%;}#sk-container-id-1 div.sk-parallel-item:last-child::after {align-self: flex-start;width: 50%;}#sk-container-id-1 div.sk-parallel-item:only-child::after {width: 0;}#sk-container-id-1 div.sk-dashed-wrapped {border: 1px dashed gray;margin: 0 0.4em 0.5em 0.4em;box-sizing: border-box;padding-bottom: 0.4em;background-color: white;}#sk-container-id-1 div.sk-label label {font-family: monospace;font-weight: bold;display: inline-block;line-height: 1.2em;}#sk-container-id-1 div.sk-label-container {text-align: center;}#sk-container-id-1 div.sk-container {/* jupyter's `normalize.less` sets `[hidden] { display: none; }` but bootstrap.min.css set `[hidden] { display: none !important; }` so we also need the `!important` here to be able to override the default hidden behavior on the sphinx rendered scikit-learn.org. See: https://github.com/scikit-learn/scikit-learn/issues/21755 */display: inline-block !important;position: relative;}#sk-container-id-1 div.sk-text-repr-fallback {display: none;}</style><div id=\"sk-container-id-1\" class=\"sk-top-container\"><div class=\"sk-text-repr-fallback\"><pre>GridSearchCV(estimator=SVC(), n_jobs=-1,\n             param_grid={&#x27;class_weight&#x27;: [{0: 0.1, 1: 0.1}, {0: 0.1, 1: 0.3},\n                                          {0: 0.1, 1: 0.5}]},\n             scoring=&#x27;f1&#x27;)</pre><b>In a Jupyter environment, please rerun this cell to show the HTML representation or trust the notebook. <br />On GitHub, the HTML representation is unable to render, please try loading this page with nbviewer.org.</b></div><div class=\"sk-container\" hidden><div class=\"sk-item sk-dashed-wrapped\"><div class=\"sk-label-container\"><div class=\"sk-label sk-toggleable\"><input class=\"sk-toggleable__control sk-hidden--visually\" id=\"sk-estimator-id-1\" type=\"checkbox\" ><label for=\"sk-estimator-id-1\" class=\"sk-toggleable__label sk-toggleable__label-arrow\">GridSearchCV</label><div class=\"sk-toggleable__content\"><pre>GridSearchCV(estimator=SVC(), n_jobs=-1,\n             param_grid={&#x27;class_weight&#x27;: [{0: 0.1, 1: 0.1}, {0: 0.1, 1: 0.3},\n                                          {0: 0.1, 1: 0.5}]},\n             scoring=&#x27;f1&#x27;)</pre></div></div></div><div class=\"sk-parallel\"><div class=\"sk-parallel-item\"><div class=\"sk-item\"><div class=\"sk-label-container\"><div class=\"sk-label sk-toggleable\"><input class=\"sk-toggleable__control sk-hidden--visually\" id=\"sk-estimator-id-2\" type=\"checkbox\" ><label for=\"sk-estimator-id-2\" class=\"sk-toggleable__label sk-toggleable__label-arrow\">estimator: SVC</label><div class=\"sk-toggleable__content\"><pre>SVC()</pre></div></div></div><div class=\"sk-serial\"><div class=\"sk-item\"><div class=\"sk-estimator sk-toggleable\"><input class=\"sk-toggleable__control sk-hidden--visually\" id=\"sk-estimator-id-3\" type=\"checkbox\" ><label for=\"sk-estimator-id-3\" class=\"sk-toggleable__label sk-toggleable__label-arrow\">SVC</label><div class=\"sk-toggleable__content\"><pre>SVC()</pre></div></div></div></div></div></div></div></div></div></div>"
     },
     "execution_count": 6,
     "metadata": {},
     "output_type": "execute_result"
    }
   ],
   "source": [
    "parameters = {'kernel':('linear', 'rbf'), 'C':[1, 10]}\n",
    "clf = GridSearchCV(svc, parameters, n_jobs=-1, scoring='f1')\n",
    "clf.fit(X_train_undersampled, y_train_undersampled.values)"
   ],
   "metadata": {
    "collapsed": false,
    "ExecuteTime": {
     "end_time": "2024-05-02T17:14:29.507544500Z",
     "start_time": "2024-05-02T17:12:08.145448800Z"
    }
   },
   "id": "daef287bc4a5433f",
   "execution_count": 6
  },
  {
   "cell_type": "code",
   "outputs": [
    {
     "name": "stdout",
     "output_type": "stream",
     "text": [
      "Best Parameters:  {'class_weight': {0: 0.1, 1: 0.3}}\n",
      "Best cvs score (accuracy):  {'mean_fit_time': array([60.44853368, 67.55729818, 43.65026999]), 'std_fit_time': array([ 3.73165415,  3.74023953, 20.21153106]), 'mean_score_time': array([18.33071141, 14.55821466,  8.93575859]), 'std_score_time': array([0.90085749, 1.24834872, 4.24001769]), 'param_class_weight': masked_array(data=[{0: 0.1, 1: 0.1}, {0: 0.1, 1: 0.3}, {0: 0.1, 1: 0.5}],\n",
      "             mask=[False, False, False],\n",
      "       fill_value='?',\n",
      "            dtype=object), 'params': [{'class_weight': {0: 0.1, 1: 0.1}}, {'class_weight': {0: 0.1, 1: 0.3}}, {'class_weight': {0: 0.1, 1: 0.5}}], 'split0_test_score': array([0.56765677, 0.66666667, 0.66666667]), 'split1_test_score': array([0.56469829, 0.66652867, 0.66652867]), 'split2_test_score': array([0.56415216, 0.66652867, 0.66652867]), 'split3_test_score': array([0.55190713, 0.66680464, 0.66680464]), 'split4_test_score': array([0.56021115, 0.66680464, 0.66680464]), 'mean_test_score': array([0.5617251 , 0.66666666, 0.66666666]), 'std_test_score': array([0.0054516 , 0.00012342, 0.00012342]), 'rank_test_score': array([3, 1, 1])}\n"
     ]
    }
   ],
   "source": [
    "print(\"Best Parameters: \", clf.best_params_)\n",
    "print(\"Best cvs score (accuracy): \", clf.cv_results_)"
   ],
   "metadata": {
    "collapsed": false,
    "ExecuteTime": {
     "end_time": "2024-05-02T17:20:22.730025Z",
     "start_time": "2024-05-02T17:20:22.724217900Z"
    }
   },
   "id": "a5d9d68910ce3df4",
   "execution_count": 9
  },
  {
   "cell_type": "markdown",
   "source": [],
   "metadata": {
    "collapsed": false
   },
   "id": "2210c46ce3b28b0b"
  },
  {
   "cell_type": "code",
   "outputs": [
    {
     "name": "stdout",
     "output_type": "stream",
     "text": [
      "Confusion Matrix:\n",
      "[[    0 16975]\n",
      " [    0  1895]]\n",
      "Classification Report:\n",
      "              precision    recall  f1-score   support\n",
      "\n",
      "           0       0.00      0.00      0.00     16975\n",
      "           1       0.10      1.00      0.18      1895\n",
      "\n",
      "    accuracy                           0.10     18870\n",
      "   macro avg       0.05      0.50      0.09     18870\n",
      "weighted avg       0.01      0.10      0.02     18870\n"
     ]
    },
    {
     "name": "stderr",
     "output_type": "stream",
     "text": [
      "C:\\Users\\nikla\\anaconda3\\Lib\\site-packages\\sklearn\\metrics\\_classification.py:1344: UndefinedMetricWarning: Precision and F-score are ill-defined and being set to 0.0 in labels with no predicted samples. Use `zero_division` parameter to control this behavior.\n",
      "  _warn_prf(average, modifier, msg_start, len(result))\n",
      "C:\\Users\\nikla\\anaconda3\\Lib\\site-packages\\sklearn\\metrics\\_classification.py:1344: UndefinedMetricWarning: Precision and F-score are ill-defined and being set to 0.0 in labels with no predicted samples. Use `zero_division` parameter to control this behavior.\n",
      "  _warn_prf(average, modifier, msg_start, len(result))\n",
      "C:\\Users\\nikla\\anaconda3\\Lib\\site-packages\\sklearn\\metrics\\_classification.py:1344: UndefinedMetricWarning: Precision and F-score are ill-defined and being set to 0.0 in labels with no predicted samples. Use `zero_division` parameter to control this behavior.\n",
      "  _warn_prf(average, modifier, msg_start, len(result))\n"
     ]
    }
   ],
   "source": [
    "svc = SVC(class_weight={0: 0.1, 1: 0.3})\n",
    "\n",
    "svc.fit(X_train_undersampled, y_train_undersampled.values)\n",
    "y_pred = svc.predict(X_test)\n",
    "\n",
    "print(\"Confusion Matrix:\")\n",
    "print(confusion_matrix(y_test, y_pred))\n",
    "print(\"Classification Report:\")\n",
    "print(classification_report(y_test, y_pred))"
   ],
   "metadata": {
    "collapsed": false,
    "ExecuteTime": {
     "end_time": "2024-05-02T17:21:38.244309Z",
     "start_time": "2024-05-02T17:20:40.443022900Z"
    }
   },
   "id": "2fba9fcd68847d9b",
   "execution_count": 10
  }
 ],
 "metadata": {
  "kernelspec": {
   "display_name": "Python 3",
   "language": "python",
   "name": "python3"
  },
  "language_info": {
   "codemirror_mode": {
    "name": "ipython",
    "version": 2
   },
   "file_extension": ".py",
   "mimetype": "text/x-python",
   "name": "python",
   "nbconvert_exporter": "python",
   "pygments_lexer": "ipython2",
   "version": "2.7.6"
  }
 },
 "nbformat": 4,
 "nbformat_minor": 5
}
